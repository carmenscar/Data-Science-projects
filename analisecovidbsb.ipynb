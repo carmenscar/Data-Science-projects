{
  "nbformat": 4,
  "nbformat_minor": 0,
  "metadata": {
    "colab": {
      "name": "analisecovidbsb.ipynb",
      "provenance": [],
      "collapsed_sections": [],
      "toc_visible": true,
      "authorship_tag": "ABX9TyNgjCnFN54RBBSmQcRTmaY8",
      "include_colab_link": true
    },
    "kernelspec": {
      "name": "python3",
      "display_name": "Python 3"
    }
  },
  "cells": [
    {
      "cell_type": "markdown",
      "metadata": {
        "id": "view-in-github",
        "colab_type": "text"
      },
      "source": [
        "<a href=\"https://colab.research.google.com/github/carmenscar/Mind_lab_data/blob/master/analisecovidbsb.ipynb\" target=\"_parent\"><img src=\"https://colab.research.google.com/assets/colab-badge.svg\" alt=\"Open In Colab\"/></a>"
      ]
    },
    {
      "cell_type": "code",
      "metadata": {
        "id": "Nrk3U5Fmb9i9",
        "colab_type": "code",
        "colab": {}
      },
      "source": [
        "import pandas as pd\n",
        "import numpy as np\n",
        "import pandas_profiling\n",
        "import matplotlib.pyplot as plt\n",
        "import seaborn as sns\n",
        "import datetime as dt\n"
      ],
      "execution_count": 25,
      "outputs": []
    },
    {
      "cell_type": "markdown",
      "metadata": {
        "id": "ocUsxlXrd1Pf",
        "colab_type": "text"
      },
      "source": [
        "#Análise dos dados - COVID - Brasília\n",
        "**ÚLTIMA ATUALIZAÇÃO 13/07/2020**\n",
        "\n",
        "O Distrito Federal foi um dos entes da federação que começaram cedo com as medidas de isolamento social. \n",
        "\n",
        "Passados 3 meses desde o primeiro caso de covid na capital, na primeira semana de março, Brasília tem forte queda nas taxas de isolamento social.\n",
        "\n",
        "O governo julga seguro a retomada das atividades e está gradativamente liberando a reabertura, com algumas restrições, do comércio essencial, dos parques, dos clubes e das igrejas, deixando por último a reabertura de bares, restaurantes e academias, consideradas atividades não essenciais.\n",
        "\n",
        "Diante do cenário, analisaremos os dados sobre o **corona vírus** e veremos quais informações podemos extrair dos dados brutos disponibilizados pelo governo do Distrito Federal.\n",
        "\n",
        "O estudo será atualizado semanalmente.\n"
      ]
    },
    {
      "cell_type": "markdown",
      "metadata": {
        "id": "4_bt0fukdtVS",
        "colab_type": "text"
      },
      "source": [
        ""
      ]
    },
    {
      "cell_type": "markdown",
      "metadata": {
        "id": "aWNchH6ljZIS",
        "colab_type": "text"
      },
      "source": [
        "##Obtenção de dados\n",
        "Os utilizados na presente análise foram extraídos do [site do GDF](https://covid19.ssp.df.gov.br/extensions/covid19/covid19.html#/) destinado às informações referentes ao **COVID**."
      ]
    },
    {
      "cell_type": "code",
      "metadata": {
        "id": "IOy-xEhyin2r",
        "colab_type": "code",
        "colab": {}
      },
      "source": [
        "import pandas as pd\n",
        "import matplotlib.pyplot as plt\n",
        "import seaborn as sns\n",
        "import seaborn as sns\n",
        "import datetime as dt\n",
        "\n",
        "%matplotlib inline"
      ],
      "execution_count": 26,
      "outputs": []
    },
    {
      "cell_type": "code",
      "metadata": {
        "id": "2_3iJrzRv0NQ",
        "colab_type": "code",
        "colab": {}
      },
      "source": [
        "df = pd.read_excel('/content/dados-abertos.xlsx')"
      ],
      "execution_count": 27,
      "outputs": []
    },
    {
      "cell_type": "markdown",
      "metadata": {
        "id": "BLY2k8soqXF1",
        "colab_type": "text"
      },
      "source": [
        "## Dicionário de variáveis\n",
        "* id - número gerado para identificar o paciente\n",
        "* Sexo - gênero do paciente\n",
        "* Faixa etária - faixa de idade do paciente\n",
        "* Estado de saúde - estado que se encontra o paciente identificado\n",
        "* Comorbidades - identifica se o paciente possui comorbidades\n",
        "* RA - Região Administrativa\n",
        "* Data - data de importação dos dados\n",
        "* Data Cadastro - data do cadastramento ou atualização dos dados do paciente\n",
        "\n",
        "Dentre as comorbidades, são identificadas em variáveis separadas: Pneumopatia, Nefropatia, Doença Hematológica, Distúrbios metabólicos, Imunopressão, Obesidade, Cardiovasculopatia e Outros."
      ]
    },
    {
      "cell_type": "markdown",
      "metadata": {
        "id": "C9xH4s1pwT1T",
        "colab_type": "text"
      },
      "source": [
        "### A seguir, observemos um pedaço-resumo do dataframe, analisando as 5 primeiras entradas:"
      ]
    },
    {
      "cell_type": "code",
      "metadata": {
        "id": "UrfznVmVwhmm",
        "colab_type": "code",
        "colab": {
          "base_uri": "https://localhost:8080/",
          "height": 326
        },
        "outputId": "1faeec92-86b9-4520-b0ea-6f6555e26f89"
      },
      "source": [
        "df.head(5)"
      ],
      "execution_count": 28,
      "outputs": [
        {
          "output_type": "execute_result",
          "data": {
            "text/html": [
              "<div>\n",
              "<style scoped>\n",
              "    .dataframe tbody tr th:only-of-type {\n",
              "        vertical-align: middle;\n",
              "    }\n",
              "\n",
              "    .dataframe tbody tr th {\n",
              "        vertical-align: top;\n",
              "    }\n",
              "\n",
              "    .dataframe thead th {\n",
              "        text-align: right;\n",
              "    }\n",
              "</style>\n",
              "<table border=\"1\" class=\"dataframe\">\n",
              "  <thead>\n",
              "    <tr style=\"text-align: right;\">\n",
              "      <th></th>\n",
              "      <th>Data</th>\n",
              "      <th>Data Cadastro</th>\n",
              "      <th>Sexo</th>\n",
              "      <th>Faixa Etária</th>\n",
              "      <th>RA</th>\n",
              "      <th>UF</th>\n",
              "      <th>Óbito</th>\n",
              "      <th>dataPrimeirosintomas</th>\n",
              "      <th>Comorbidades</th>\n",
              "      <th>Pneumopatia</th>\n",
              "      <th>Nefropatia</th>\n",
              "      <th>Doença Hematológica</th>\n",
              "      <th>Distúrbios Metabólicos</th>\n",
              "      <th>Imunossupressão</th>\n",
              "      <th>Obesidade</th>\n",
              "      <th>Outros</th>\n",
              "      <th>Cardiovasculopatia</th>\n",
              "    </tr>\n",
              "  </thead>\n",
              "  <tbody>\n",
              "    <tr>\n",
              "      <th>0</th>\n",
              "      <td>2020-07-13</td>\n",
              "      <td>2020-03-18</td>\n",
              "      <td>Masculino</td>\n",
              "      <td>50 a 59 anos</td>\n",
              "      <td>Plano Piloto</td>\n",
              "      <td>DISTRITO FEDERAL</td>\n",
              "      <td>Não</td>\n",
              "      <td>2020-04-23</td>\n",
              "      <td>NaN</td>\n",
              "      <td>NaN</td>\n",
              "      <td>NaN</td>\n",
              "      <td>NaN</td>\n",
              "      <td>NaN</td>\n",
              "      <td>NaN</td>\n",
              "      <td>NaN</td>\n",
              "      <td>NaN</td>\n",
              "      <td>NaN</td>\n",
              "    </tr>\n",
              "    <tr>\n",
              "      <th>1</th>\n",
              "      <td>2020-07-13</td>\n",
              "      <td>2020-03-18</td>\n",
              "      <td>Masculino</td>\n",
              "      <td>50 a 59 anos</td>\n",
              "      <td>Lago Sul</td>\n",
              "      <td>DISTRITO FEDERAL</td>\n",
              "      <td>Não</td>\n",
              "      <td>2020-03-29</td>\n",
              "      <td>Sim</td>\n",
              "      <td>Sim</td>\n",
              "      <td>Não</td>\n",
              "      <td>Não</td>\n",
              "      <td>Sim</td>\n",
              "      <td>Não</td>\n",
              "      <td>Não</td>\n",
              "      <td>Não</td>\n",
              "      <td>Não</td>\n",
              "    </tr>\n",
              "    <tr>\n",
              "      <th>2</th>\n",
              "      <td>2020-07-13</td>\n",
              "      <td>2020-03-18</td>\n",
              "      <td>Masculino</td>\n",
              "      <td>40 a 49 anos</td>\n",
              "      <td>Lago Sul</td>\n",
              "      <td>DISTRITO FEDERAL</td>\n",
              "      <td>Não</td>\n",
              "      <td>2020-03-09</td>\n",
              "      <td>NaN</td>\n",
              "      <td>NaN</td>\n",
              "      <td>NaN</td>\n",
              "      <td>NaN</td>\n",
              "      <td>NaN</td>\n",
              "      <td>NaN</td>\n",
              "      <td>NaN</td>\n",
              "      <td>NaN</td>\n",
              "      <td>NaN</td>\n",
              "    </tr>\n",
              "    <tr>\n",
              "      <th>3</th>\n",
              "      <td>2020-07-13</td>\n",
              "      <td>2020-03-18</td>\n",
              "      <td>Masculino</td>\n",
              "      <td>&gt;= 60 anos</td>\n",
              "      <td>Águas Claras</td>\n",
              "      <td>DISTRITO FEDERAL</td>\n",
              "      <td>Não</td>\n",
              "      <td>2020-03-14</td>\n",
              "      <td>Sim</td>\n",
              "      <td>Não</td>\n",
              "      <td>Não</td>\n",
              "      <td>Não</td>\n",
              "      <td>Sim</td>\n",
              "      <td>Não</td>\n",
              "      <td>Não</td>\n",
              "      <td>Não</td>\n",
              "      <td>Sim</td>\n",
              "    </tr>\n",
              "    <tr>\n",
              "      <th>4</th>\n",
              "      <td>2020-07-13</td>\n",
              "      <td>2020-03-18</td>\n",
              "      <td>Feminino</td>\n",
              "      <td>20 a 29 anos</td>\n",
              "      <td>Plano Piloto</td>\n",
              "      <td>DISTRITO FEDERAL</td>\n",
              "      <td>Não</td>\n",
              "      <td>2020-03-14</td>\n",
              "      <td>NaN</td>\n",
              "      <td>NaN</td>\n",
              "      <td>NaN</td>\n",
              "      <td>NaN</td>\n",
              "      <td>NaN</td>\n",
              "      <td>NaN</td>\n",
              "      <td>NaN</td>\n",
              "      <td>NaN</td>\n",
              "      <td>NaN</td>\n",
              "    </tr>\n",
              "  </tbody>\n",
              "</table>\n",
              "</div>"
            ],
            "text/plain": [
              "        Data Data Cadastro       Sexo  ... Obesidade Outros Cardiovasculopatia\n",
              "0 2020-07-13    2020-03-18  Masculino  ...       NaN    NaN                NaN\n",
              "1 2020-07-13    2020-03-18  Masculino  ...       Não    Não                Não\n",
              "2 2020-07-13    2020-03-18  Masculino  ...       NaN    NaN                NaN\n",
              "3 2020-07-13    2020-03-18  Masculino  ...       Não    Não                Sim\n",
              "4 2020-07-13    2020-03-18   Feminino  ...       NaN    NaN                NaN\n",
              "\n",
              "[5 rows x 17 columns]"
            ]
          },
          "metadata": {
            "tags": []
          },
          "execution_count": 28
        }
      ]
    },
    {
      "cell_type": "markdown",
      "metadata": {
        "id": "tbi-yp2OzJQj",
        "colab_type": "text"
      },
      "source": [
        "## Visão geral dos dados\n",
        "\n",
        "Os dados possuem 70.977 entradas e 17 variáveis.\n",
        "Quando observamos os dados da tabela verificamos que existem campos para diferentes comorbidades. \n",
        "\n",
        "Para facilitar a análise, criamos uma entrada denominada \"Comorbidades\" que aponta se há ou não qualquer tipo de comorbidade apresentada pelo paciente, ou se o valor não foi informado.\n",
        "\n",
        "Todas as variáveis, com exceção das datas, são do tipo \"object\", ou seja, do tipo string.\n",
        "\n"
      ]
    },
    {
      "cell_type": "code",
      "metadata": {
        "id": "voE3AiQRzNAL",
        "colab_type": "code",
        "colab": {
          "base_uri": "https://localhost:8080/",
          "height": 374
        },
        "outputId": "f34a76be-e425-4245-84e2-60c4b80caeb7"
      },
      "source": [
        "print(\"Entradas:\\t {}\".format(df.shape[0]))\n",
        "print(\"Variáveis:\\t {}\\n\".format(df.shape[1]))\n",
        "\n",
        "display(df.dtypes)"
      ],
      "execution_count": 29,
      "outputs": [
        {
          "output_type": "stream",
          "text": [
            "Entradas:\t 70977\n",
            "Variáveis:\t 17\n",
            "\n"
          ],
          "name": "stdout"
        },
        {
          "output_type": "display_data",
          "data": {
            "text/plain": [
              "Data                      datetime64[ns]\n",
              "Data Cadastro             datetime64[ns]\n",
              "Sexo                              object\n",
              "Faixa Etária                      object\n",
              "RA                                object\n",
              "UF                                object\n",
              "Óbito                             object\n",
              "dataPrimeirosintomas      datetime64[ns]\n",
              "Comorbidades                      object\n",
              "Pneumopatia                       object\n",
              "Nefropatia                        object\n",
              "Doença Hematológica               object\n",
              "Distúrbios Metabólicos            object\n",
              "Imunossupressão                   object\n",
              "Obesidade                         object\n",
              "Outros                            object\n",
              "Cardiovasculopatia                object\n",
              "dtype: object"
            ]
          },
          "metadata": {
            "tags": []
          }
        }
      ]
    },
    {
      "cell_type": "markdown",
      "metadata": {
        "id": "uQJ-ScLp2U3_",
        "colab_type": "text"
      },
      "source": [
        "## Nulls\n",
        "A maior parte dos valores em branco se relacionam com as informações sobre Comorbidades do paciente. Observa-se que quando há uma comorbidade, as outras comorbidades listadas são, geralmente, preenchidas com \"sim\" ou \"não\", e na maioria dos casos(88%), não é informado se há ou não comorbidades.\n",
        "\n",
        "Uma hipótese é a de que quando registrada uma comorbidade, se avaliam as outras e se não há comorbidade, os valores ficam em branco.\n",
        "\n",
        "Em relação as informações sobre o estado de saúde do paciente, apesar de não conter valores nulos, a maior parte do valor é dado como \"não informado\"."
      ]
    },
    {
      "cell_type": "code",
      "metadata": {
        "id": "9gX5C73j2iwX",
        "colab_type": "code",
        "colab": {
          "base_uri": "https://localhost:8080/",
          "height": 323
        },
        "outputId": "81e186da-03d9-4feb-b7ee-01bdadd256ce"
      },
      "source": [
        "(df.isnull().sum() / df.shape[0]).sort_values(ascending=False)"
      ],
      "execution_count": 30,
      "outputs": [
        {
          "output_type": "execute_result",
          "data": {
            "text/plain": [
              "Doença Hematológica       0.995252\n",
              "Nefropatia                0.991786\n",
              "Imunossupressão           0.989518\n",
              "Obesidade                 0.988870\n",
              "Pneumopatia               0.978768\n",
              "Distúrbios Metabólicos    0.962382\n",
              "Cardiovasculopatia        0.944419\n",
              "Outros                    0.888837\n",
              "Comorbidades              0.888837\n",
              "UF                        0.015301\n",
              "Data Cadastro             0.000704\n",
              "dataPrimeirosintomas      0.000000\n",
              "Óbito                     0.000000\n",
              "RA                        0.000000\n",
              "Faixa Etária              0.000000\n",
              "Sexo                      0.000000\n",
              "Data                      0.000000\n",
              "dtype: float64"
            ]
          },
          "metadata": {
            "tags": []
          },
          "execution_count": 30
        }
      ]
    },
    {
      "cell_type": "markdown",
      "metadata": {
        "id": "XtTagBz44_aT",
        "colab_type": "text"
      },
      "source": [
        "## Análise exploratória dos dados\n",
        "\n",
        "### Regiões do DF\n",
        "Ceilândia é a cidade com mais casos de corona vírus, representando aproximadamente 13% dos pacientes diagnosticados. A Região administrativa é seguida em maiores números de casos pelo Plano Piloto,Taguatinga e Samambaia, com aproximadamente 7% dos casos cada.\n",
        "\n",
        "As regiões do Pôr do Sol, Candangolândia, Sobradinho II,  Arniqueira, Varjão, SIA e Fercal representam os locais com menos casos. \n",
        "\n",
        "Observa-se que dado ao fato das regiões estarem predominantemente classificadas como regiões de baixa renda, segundo dados da Codeplan 2018, pode haver subnotificação de casos.\n",
        "\n",
        "Segundos os dados da Codeplan(2018), as regiões de classificam da seguinte maneira:\n",
        "\n",
        "• **Grupo 1 (alta renda)**: Plano Piloto, Jardim Botânico, Lago Norte, Lago Sul, Park Way e Sudoeste/Octogonal, com renda domiciliar de R$ 15.622\n",
        "\n",
        "• **Grupo 2 (média-alta renda)**: Águas Claras, Candangolândia, Cruzeiro, Gama, Guará, Núcleo\n",
        "Bandeirante, Sobradinho, Sobradinho II, Taguatinga e Vicente Pires, com renda domiciliar média de R$ 7.266;\n",
        "\n",
        "• **Grupo 3 (média-baixa renda)**: Brazlândia, Ceilândia, Planaltina, Riacho Fundo, Riacho Fundo\n",
        "II, SIA, Samambaia, Santa Maria e São Sebastião, com renda domiciliar média de R$ 3.101;\n",
        "\n",
        "• **Grupo 4 (baixa renda)**: Fercal, Itapoã, Paranoá, Recanto das Emas, SCIA–Estrutural e Varjão, com renda domiciliar média de R$\n",
        "2.472;\n",
        "\n"
      ]
    },
    {
      "cell_type": "code",
      "metadata": {
        "id": "f_QSd3945jE7",
        "colab_type": "code",
        "colab": {
          "base_uri": "https://localhost:8080/",
          "height": 663
        },
        "outputId": "517e5498-cced-4dc9-b177-01feb714ffa7"
      },
      "source": [
        "df.RA.value_counts() / df.shape[0]\n"
      ],
      "execution_count": 31,
      "outputs": [
        {
          "output_type": "execute_result",
          "data": {
            "text/plain": [
              "Ceilândia                0.126182\n",
              "Plano Piloto             0.073686\n",
              "Taguatinga               0.069262\n",
              "Samambaia                0.068600\n",
              "Outros Estados           0.054285\n",
              "Não Informado            0.047861\n",
              "Gama                     0.047100\n",
              "Entorno DF               0.039717\n",
              "Sobradinho               0.037252\n",
              "Guará                    0.036871\n",
              "Águas Claras             0.036406\n",
              "Paranoá                  0.034560\n",
              "São Sebastião            0.032377\n",
              "Santa Maria              0.031926\n",
              "Planaltina               0.031250\n",
              "Recanto das Emas         0.029982\n",
              "Sistema Penitenciário    0.021472\n",
              "Riacho Fundo             0.018090\n",
              "Itapoã                   0.017301\n",
              "Sudoeste/Octogonal       0.013610\n",
              "Riacho Fundo II          0.013413\n",
              "Brazlândia               0.013103\n",
              "Vicente Pires            0.013061\n",
              "Jardim Botânico          0.012892\n",
              "Lago Sul                 0.012525\n",
              "SCIA                     0.009876\n",
              "Núcleo Bandeirante       0.008397\n",
              "Sobradinho II            0.008355\n",
              "Lago Norte               0.008031\n",
              "Cruzeiro                 0.007946\n",
              "Candangolândia           0.007002\n",
              "Pôr do Sol               0.006241\n",
              "Park Way                 0.005579\n",
              "Arniqueira               0.002832\n",
              "Varjão                   0.001451\n",
              "SIA                      0.000845\n",
              "Fercal                   0.000662\n",
              "Name: RA, dtype: float64"
            ]
          },
          "metadata": {
            "tags": []
          },
          "execution_count": 31
        }
      ]
    },
    {
      "cell_type": "markdown",
      "metadata": {
        "id": "saIc7n71V-uZ",
        "colab_type": "text"
      },
      "source": [
        "###Gênero\n",
        "Em relação ao gênero dos paciêntes com Covid, observa-se que não há diferença de gênero em relação a quantidade de infectados, sendo aproximadamente 52% dos infectadosdo sexo feminino e 48% do sexo masculino, conforme o Gráfico 1."
      ]
    },
    {
      "cell_type": "code",
      "metadata": {
        "id": "vibDhfwIjPdJ",
        "colab_type": "code",
        "colab": {
          "base_uri": "https://localhost:8080/",
          "height": 352
        },
        "outputId": "ae02767a-e78f-4b7c-a5d4-b9d68724be5d"
      },
      "source": [
        "sns.set()\n",
        "sns.countplot(df['Sexo'])\n",
        "plt.title('Gráfico 1 - Infectados X gênero')\n",
        "plt.show()\n",
        "df.Sexo.value_counts() / df.shape[0]"
      ],
      "execution_count": 32,
      "outputs": [
        {
          "output_type": "display_data",
          "data": {
            "image/png": "[encoded data removed]",
            "text/plain": [
              "<Figure size 432x288 with 1 Axes>"
            ]
          },
          "metadata": {
            "tags": []
          }
        },
        {
          "output_type": "execute_result",
          "data": {
            "text/plain": [
              "Feminino     0.525917\n",
              "Masculino    0.474083\n",
              "Name: Sexo, dtype: float64"
            ]
          },
          "metadata": {
            "tags": []
          },
          "execution_count": 32
        }
      ]
    },
    {
      "cell_type": "markdown",
      "metadata": {
        "id": "psv7g_-pWd0h",
        "colab_type": "text"
      },
      "source": [
        "##Faixa Etária\n",
        "A análise da faixa etária nos demonstra que há menor número de casos notificados entre os menores de 19 anos e maiores de 60 anos. Portanto, o maior número de infecções fica por dentro dessa faixa etária, conforme observado no Gráfico 2.\n"
      ]
    },
    {
      "cell_type": "code",
      "metadata": {
        "id": "X3qRxVRyJ2YC",
        "colab_type": "code",
        "colab": {
          "base_uri": "https://localhost:8080/",
          "height": 509
        },
        "outputId": "117c45ef-a7bd-427e-fe25-60caa7e03f17"
      },
      "source": [
        "\n",
        "sns.set()\n",
        "plt.figure(figsize=(10,5))\n",
        "df['Faixa Etária'].value_counts().plot(kind='bar')\n",
        "plt.xlabel('faixa etária dos pacientes')\n",
        "plt.ylabel('quantidade de pacientes')\n",
        "plt.title('Gráfico 2 - Quantidade de infectados por Faixa Etária')\n",
        "plt.xticks(rotation=30)\n",
        "df['Faixa Etária'].value_counts() / df.shape[0]\n"
      ],
      "execution_count": 33,
      "outputs": [
        {
          "output_type": "execute_result",
          "data": {
            "text/plain": [
              "30 a 39 anos    0.270919\n",
              "40 a 49 anos    0.224904\n",
              "20 a 29 anos    0.190738\n",
              "50 a 59 anos    0.136227\n",
              ">= 60 anos      0.107486\n",
              "<= 19 anos      0.069727\n",
              "Name: Faixa Etária, dtype: float64"
            ]
          },
          "metadata": {
            "tags": []
          },
          "execution_count": 33
        },
        {
          "output_type": "display_data",
          "data": {
            "image/png": "[encoded data removed]",
            "text/plain": [
              "<Figure size 720x360 with 1 Axes>"
            ]
          },
          "metadata": {
            "tags": []
          }
        }
      ]
    },
    {
      "cell_type": "markdown",
      "metadata": {
        "id": "y12CI82xWbmV",
        "colab_type": "text"
      },
      "source": [
        "##Estado de saúde\n",
        "No decorrer da análise, a estrutura disponibilizada pelo governo do GDF foi alterada. \n",
        "Havia uma variável chamada \"Estado de Saúde\", que mostrava se havia óbito ou se o paciente estava recuperado. Dessa variável, 20% dos valores não eram informados e 1% eram óbitos.\n",
        "\n",
        "O novo dataframe veio com uma coluna chamada \"Óbito\", não havendo mais a separação por estado de saúde (recuperado ou óbito)\n",
        "\n",
        "Além disso, houve a inclusão da variável \"Dia dos primeiros sintomas\".\n"
      ]
    },
    {
      "cell_type": "code",
      "metadata": {
        "id": "Y7UzfnJwOduy",
        "colab_type": "code",
        "colab": {
          "base_uri": "https://localhost:8080/",
          "height": 301
        },
        "outputId": "207a58cc-78b2-417c-a5b5-ff0e6d3e98a6"
      },
      "source": [
        "sns.set()\n",
        "sns.countplot(df['Óbito'])\n",
        "plt.xlabel('Paciente veio a óbito?')\n",
        "plt.ylabel('quantidade de pacientes')\n",
        "plt.title('Gráfico 3 - Quantidade de óbitos')\n",
        "plt.xticks(rotation=0)\n",
        "plt.show()"
      ],
      "execution_count": 34,
      "outputs": [
        {
          "output_type": "display_data",
          "data": {
            "image/png": "[encoded data removed]",
            "text/plain": [
              "<Figure size 432x288 with 1 Axes>"
            ]
          },
          "metadata": {
            "tags": []
          }
        }
      ]
    },
    {
      "cell_type": "code",
      "metadata": {
        "id": "cMwCZAXq_jPZ",
        "colab_type": "code",
        "colab": {
          "base_uri": "https://localhost:8080/",
          "height": 68
        },
        "outputId": "2d5a7660-d3bc-4e7a-f486-5839321ac286"
      },
      "source": [
        "df['Óbito'].value_counts() / df['Óbito'].shape[0]"
      ],
      "execution_count": 61,
      "outputs": [
        {
          "output_type": "execute_result",
          "data": {
            "text/plain": [
              "Não    0.987094\n",
              "Sim    0.012906\n",
              "Name: Óbito, dtype: float64"
            ]
          },
          "metadata": {
            "tags": []
          },
          "execution_count": 61
        }
      ]
    },
    {
      "cell_type": "markdown",
      "metadata": {
        "id": "VmgGehuPaMdt",
        "colab_type": "text"
      },
      "source": [
        "##Óbitos\n",
        "Observa-se que o número de óbitos é maior no sexo masculino, representando 540 óbitos de homens (58%), em 29 de junho, apesar das mulheres serem 52% dos pacientes infectados.\n",
        "\n",
        "No gráfico de faixa etária do sexo masculino, há um menor número de homens com idade entre >= 60 anos quando comparado ao número de mulheres, aproximadamente 68% do total. As mulheres nessa faixa etária representam 79% total, conforme evidenciado nos Gráficos 4 e 5.\n",
        "\n",
        "Dessa forma, os homens mesmo sendo mais jovens, vêm mais à óbito, representando 58% do total de óbitos. Essa situação merece uma maior investigação.\n",
        "\n",
        "Observa-se também que apesar dos idosos (pacientes > 60 anos) serem apenas 10% dos pacientes totais, estes representam aproximadamente 73% dos óbitos, mostrando que há um **alto risco de mortalidade** nessa faixa etária, conforme evidenciado no Gráfico 6."
      ]
    },
    {
      "cell_type": "code",
      "metadata": {
        "id": "ONz5n8kgSk1-",
        "colab_type": "code",
        "colab": {}
      },
      "source": [
        "df1 = df[df[\"Óbito\"] == \"Sim\"]"
      ],
      "execution_count": 35,
      "outputs": []
    },
    {
      "cell_type": "code",
      "metadata": {
        "id": "uJUzrbMlxywG",
        "colab_type": "code",
        "colab": {
          "base_uri": "https://localhost:8080/",
          "height": 68
        },
        "outputId": "5b4f1a4e-be4a-47f3-a147-5bf9f4b6eb8b"
      },
      "source": [
        "df1.Sexo.value_counts()"
      ],
      "execution_count": 36,
      "outputs": [
        {
          "output_type": "execute_result",
          "data": {
            "text/plain": [
              "Masculino    540\n",
              "Feminino     376\n",
              "Name: Sexo, dtype: int64"
            ]
          },
          "metadata": {
            "tags": []
          },
          "execution_count": 36
        }
      ]
    },
    {
      "cell_type": "code",
      "metadata": {
        "id": "xLVzu1tIgUy_",
        "colab_type": "code",
        "colab": {
          "base_uri": "https://localhost:8080/",
          "height": 68
        },
        "outputId": "9fec14ea-30a4-4afe-ed67-52c6fbfc0c3e"
      },
      "source": [
        "df1.Sexo.value_counts() / df1.Sexo.shape[0]"
      ],
      "execution_count": 37,
      "outputs": [
        {
          "output_type": "execute_result",
          "data": {
            "text/plain": [
              "Masculino    0.58952\n",
              "Feminino     0.41048\n",
              "Name: Sexo, dtype: float64"
            ]
          },
          "metadata": {
            "tags": []
          },
          "execution_count": 37
        }
      ]
    },
    {
      "cell_type": "code",
      "metadata": {
        "id": "sTkfkr1fkZHd",
        "colab_type": "code",
        "colab": {}
      },
      "source": [
        "df9 = df1[df1[\"Sexo\"] == \"Feminino\"]"
      ],
      "execution_count": 38,
      "outputs": []
    },
    {
      "cell_type": "code",
      "metadata": {
        "id": "KsV-4DolkqVC",
        "colab_type": "code",
        "colab": {
          "base_uri": "https://localhost:8080/",
          "height": 136
        },
        "outputId": "e729e4ff-6e46-4cbb-d6f7-221f66793af0"
      },
      "source": [
        "df9['Faixa Etária'].value_counts() / df9['Faixa Etária'].shape[0]"
      ],
      "execution_count": 39,
      "outputs": [
        {
          "output_type": "execute_result",
          "data": {
            "text/plain": [
              ">= 60 anos      0.795213\n",
              "50 a 59 anos    0.093085\n",
              "40 a 49 anos    0.071809\n",
              "30 a 39 anos    0.031915\n",
              "20 a 29 anos    0.005319\n",
              "<= 19 anos      0.002660\n",
              "Name: Faixa Etária, dtype: float64"
            ]
          },
          "metadata": {
            "tags": []
          },
          "execution_count": 39
        }
      ]
    },
    {
      "cell_type": "code",
      "metadata": {
        "id": "-x_rT0q0k59A",
        "colab_type": "code",
        "colab": {
          "base_uri": "https://localhost:8080/",
          "height": 136
        },
        "outputId": "d388f3ad-f3d0-4b2d-f9da-6f5a4f82ad8d"
      },
      "source": [
        "df10 = df1[df1[\"Sexo\"] == \"Masculino\"]\n",
        "df10['Faixa Etária'].value_counts() / df10['Faixa Etária'].shape[0]"
      ],
      "execution_count": 40,
      "outputs": [
        {
          "output_type": "execute_result",
          "data": {
            "text/plain": [
              ">= 60 anos      0.688889\n",
              "50 a 59 anos    0.153704\n",
              "40 a 49 anos    0.103704\n",
              "30 a 39 anos    0.044444\n",
              "20 a 29 anos    0.007407\n",
              "<= 19 anos      0.001852\n",
              "Name: Faixa Etária, dtype: float64"
            ]
          },
          "metadata": {
            "tags": []
          },
          "execution_count": 40
        }
      ]
    },
    {
      "cell_type": "code",
      "metadata": {
        "id": "XyFW7ugcQMXx",
        "colab_type": "code",
        "colab": {
          "base_uri": "https://localhost:8080/",
          "height": 325
        },
        "outputId": "cd293786-82eb-47be-a6a9-c76e11f4563b"
      },
      "source": [
        "x = df9['Faixa Etária']\n",
        "y = df10['Faixa Etária']\n",
        "\n",
        "fig, (ax1, ax2) = plt.subplots(nrows=1, ncols=2,figsize=(15, 5))\n",
        "sns.set()\n",
        "ax1.hist(x, bins = 15)\n",
        "ax1.tick_params(axis='x', labelrotation=0)\n",
        "ax1.set_title('Gráfico 4 - Faixa Etária x Óbitos - Sexo feminino')\n",
        "ax1.set_xlabel(\"faixa etária dos pacientes\")\n",
        "ax1.set_ylabel(\"quantidade de pacientes\")\n",
        "\n",
        "ax2.hist(y, bins = 15)\n",
        "ax2.tick_params(axis='y', labelrotation=0)\n",
        "ax2.set_title('Gráfico 5 - Faixa Etária x Óbitos - Sexo masculino')\n",
        "ax2.set_xlabel(\"faixa etária dos pacientes\")\n",
        "ax2.set_ylabel(\"quantidade de pacientes\")\n",
        "\n",
        "fig.tight_layout();\n"
      ],
      "execution_count": 20,
      "outputs": [
        {
          "output_type": "display_data",
          "data": {
            "image/png": "[encoded data removed]",
            "text/plain": [
              "<Figure size 1080x360 with 2 Axes>"
            ]
          },
          "metadata": {
            "tags": []
          }
        }
      ]
    },
    {
      "cell_type": "code",
      "metadata": {
        "id": "y5te_vDIZiQL",
        "colab_type": "code",
        "colab": {
          "base_uri": "https://localhost:8080/",
          "height": 355
        },
        "outputId": "4e1d6c65-f1e4-47bb-8504-1fa189867711"
      },
      "source": [
        "sns.set()\n",
        "plt.figure(figsize=(10,5))\n",
        "df1['Faixa Etária'].value_counts().plot(kind='bar')\n",
        "plt.xlabel('faixa etária dos pacientes')\n",
        "plt.ylabel('quantidade óbitos')\n",
        "plt.title('Gráfico 6 - Faixa Etária x Óbitos');\n",
        "plt.xticks(rotation=0)\n",
        "df1['Faixa Etária'].value_counts() / df1['Faixa Etária'].shape[0]\n",
        "plt.show()"
      ],
      "execution_count": 21,
      "outputs": [
        {
          "output_type": "display_data",
          "data": {
            "image/png": "[encoded data removed]",
            "text/plain": [
              "<Figure size 720x360 with 1 Axes>"
            ]
          },
          "metadata": {
            "tags": []
          }
        }
      ]
    },
    {
      "cell_type": "code",
      "metadata": {
        "id": "iV_y3kmG92Ln",
        "colab_type": "code",
        "colab": {
          "base_uri": "https://localhost:8080/",
          "height": 136
        },
        "outputId": "f02233e1-4b14-4344-bdea-9430946bef52"
      },
      "source": [
        "df1['Faixa Etária'].value_counts() / df1['Faixa Etária'].shape[0]"
      ],
      "execution_count": 41,
      "outputs": [
        {
          "output_type": "execute_result",
          "data": {
            "text/plain": [
              ">= 60 anos      0.732533\n",
              "50 a 59 anos    0.128821\n",
              "40 a 49 anos    0.090611\n",
              "30 a 39 anos    0.039301\n",
              "20 a 29 anos    0.006550\n",
              "<= 19 anos      0.002183\n",
              "Name: Faixa Etária, dtype: float64"
            ]
          },
          "metadata": {
            "tags": []
          },
          "execution_count": 41
        }
      ]
    },
    {
      "cell_type": "markdown",
      "metadata": {
        "id": "xdjvpoHrhQyy",
        "colab_type": "text"
      },
      "source": [
        "##Comorbidades X Óbitos\n",
        "Em relação aos óbitos, o Gráfico 7 demonstra que aproximadamente 89% dos pacientes que vieram a falecer possuiam algum tipo de comorbidade.\n",
        "\n",
        "A análise ainda mostra que a maioria sofria das comorbidades do tipo \"Distúrbios Metabólicos\" e \"Cardiovasculopatia\",  conforme observado no Gráfico 8.\n",
        "\n",
        "Cumpre destacar que esses pacientes podiam possuir 1 ou mais tipos de comorbidades."
      ]
    },
    {
      "cell_type": "code",
      "metadata": {
        "id": "L5Ru0lzHZyR2",
        "colab_type": "code",
        "colab": {}
      },
      "source": [
        "df2 = df1[df1[\"Comorbidades\"] == \"Sim\"]"
      ],
      "execution_count": 42,
      "outputs": []
    },
    {
      "cell_type": "code",
      "metadata": {
        "id": "KVV2if1LahaJ",
        "colab_type": "code",
        "colab": {
          "base_uri": "https://localhost:8080/",
          "height": 122
        },
        "outputId": "1e42f1a6-92e0-4f4a-bfdc-70f1afd5180a"
      },
      "source": [
        "df12 = df1\n",
        "df12['Comorbidades'].fillna(\"Não Informado\", inplace=True);"
      ],
      "execution_count": 43,
      "outputs": [
        {
          "output_type": "stream",
          "text": [
            "/usr/local/lib/python3.6/dist-packages/pandas/core/generic.py:6245: SettingWithCopyWarning: \n",
            "A value is trying to be set on a copy of a slice from a DataFrame\n",
            "\n",
            "See the caveats in the documentation: https://pandas.pydata.org/pandas-docs/stable/user_guide/indexing.html#returning-a-view-versus-a-copy\n",
            "  self._update_inplace(new_data)\n"
          ],
          "name": "stderr"
        }
      ]
    },
    {
      "cell_type": "code",
      "metadata": {
        "id": "IJ2QuTLVc28T",
        "colab_type": "code",
        "colab": {
          "base_uri": "https://localhost:8080/",
          "height": 68
        },
        "outputId": "78df91c5-59ee-432b-ba3a-78e636f41d14"
      },
      "source": [
        "df12['Comorbidades'].value_counts()\n"
      ],
      "execution_count": 63,
      "outputs": [
        {
          "output_type": "execute_result",
          "data": {
            "text/plain": [
              "Sim              814\n",
              "Não Informado    102\n",
              "Name: Comorbidades, dtype: int64"
            ]
          },
          "metadata": {
            "tags": []
          },
          "execution_count": 63
        }
      ]
    },
    {
      "cell_type": "code",
      "metadata": {
        "id": "IrwYSuWl_0dJ",
        "colab_type": "code",
        "colab": {
          "base_uri": "https://localhost:8080/",
          "height": 68
        },
        "outputId": "f8a8f4f8-227d-41e7-ecef-1e75f40c0bed"
      },
      "source": [
        "df12['Comorbidades'].value_counts() / df12['Comorbidades'].shape[0]"
      ],
      "execution_count": 64,
      "outputs": [
        {
          "output_type": "execute_result",
          "data": {
            "text/plain": [
              "Sim              0.888646\n",
              "Não Informado    0.111354\n",
              "Name: Comorbidades, dtype: float64"
            ]
          },
          "metadata": {
            "tags": []
          },
          "execution_count": 64
        }
      ]
    },
    {
      "cell_type": "code",
      "metadata": {
        "id": "vTWpFRAmclLD",
        "colab_type": "code",
        "colab": {
          "base_uri": "https://localhost:8080/",
          "height": 352
        },
        "outputId": "1b8c770b-4944-4c90-cf2f-d53f5fd5a48f"
      },
      "source": [
        "sns.set()\n",
        "sns.countplot(df12['Comorbidades'])\n",
        "plt.xlabel('Possui comorbidades?')\n",
        "plt.ylabel('quantidade óbitos')\n",
        "plt.title('Gráfico 7 - Comorbidade x Óbitos')\n",
        "plt.show();\n",
        "df12.Comorbidades.value_counts()/df12.Comorbidades.shape[0]\n"
      ],
      "execution_count": 46,
      "outputs": [
        {
          "output_type": "display_data",
          "data": {
            "image/png": "[encoded data removed]",
            "text/plain": [
              "<Figure size 432x288 with 1 Axes>"
            ]
          },
          "metadata": {
            "tags": []
          }
        },
        {
          "output_type": "execute_result",
          "data": {
            "text/plain": [
              "Sim              0.888646\n",
              "Não Informado    0.111354\n",
              "Name: Comorbidades, dtype: float64"
            ]
          },
          "metadata": {
            "tags": []
          },
          "execution_count": 46
        }
      ]
    },
    {
      "cell_type": "code",
      "metadata": {
        "id": "W46fylF8wKzy",
        "colab_type": "code",
        "colab": {}
      },
      "source": [
        "df3 = df2.iloc[:,8:]"
      ],
      "execution_count": 47,
      "outputs": []
    },
    {
      "cell_type": "code",
      "metadata": {
        "id": "NhBrha9b00YH",
        "colab_type": "code",
        "colab": {}
      },
      "source": [
        "df4 = df3.fillna('Não')"
      ],
      "execution_count": 48,
      "outputs": []
    },
    {
      "cell_type": "code",
      "metadata": {
        "id": "D0fCWvDB4zvw",
        "colab_type": "code",
        "colab": {}
      },
      "source": [
        "df5 = df4.replace([\"Sim\"], 1)"
      ],
      "execution_count": 49,
      "outputs": []
    },
    {
      "cell_type": "code",
      "metadata": {
        "id": "KzHwNPdj422t",
        "colab_type": "code",
        "colab": {}
      },
      "source": [
        "df6 = df5.replace([\"Não\"],0 )"
      ],
      "execution_count": 50,
      "outputs": []
    },
    {
      "cell_type": "code",
      "metadata": {
        "id": "YPQfoyEG67Z4",
        "colab_type": "code",
        "colab": {}
      },
      "source": [
        "df7= df6.drop(columns=\"Comorbidades\")"
      ],
      "execution_count": 51,
      "outputs": []
    },
    {
      "cell_type": "code",
      "metadata": {
        "id": "v4qx29aw63H-",
        "colab_type": "code",
        "colab": {
          "base_uri": "https://localhost:8080/",
          "height": 170
        },
        "outputId": "8ffa4b0b-570e-42ba-9e98-ea2085a7adad"
      },
      "source": [
        "df7.sum()"
      ],
      "execution_count": 52,
      "outputs": [
        {
          "output_type": "execute_result",
          "data": {
            "text/plain": [
              "Pneumopatia               135\n",
              "Nefropatia                 73\n",
              "Doença Hematológica         9\n",
              "Distúrbios Metabólicos    348\n",
              "Imunossupressão            93\n",
              "Obesidade                 108\n",
              "Outros                    134\n",
              "Cardiovasculopatia        572\n",
              "dtype: int64"
            ]
          },
          "metadata": {
            "tags": []
          },
          "execution_count": 52
        }
      ]
    },
    {
      "cell_type": "code",
      "metadata": {
        "id": "-oX1gTGJS6HE",
        "colab_type": "code",
        "colab": {
          "base_uri": "https://localhost:8080/",
          "height": 357
        },
        "outputId": "8b487d97-3600-40fd-8180-c316e7288d37"
      },
      "source": [
        "disease = ['Pneumopatia','Nefropatia','Doença Hematológica','Distúrbios Metabólicos','Imunopressão','Obesidade','Outros','Cardiovasculopatia']\n",
        "n_disease = [135,73,9,348,93,108,134,572]\n",
        "\n",
        "sns.set()\n",
        "plt.figure(figsize=(10,5))\n",
        "plt.barh(disease, n_disease);\n",
        "plt.xlabel('Número de pacientes')\n",
        "plt.ylabel('Comorbidades')\n",
        "plt.title('Gráfico 8 - Tipo de Comorbidade x Óbitos');"
      ],
      "execution_count": 54,
      "outputs": [
        {
          "output_type": "display_data",
          "data": {
            "image/png": "[encoded data removed]",
            "text/plain": [
              "<Figure size 720x360 with 1 Axes>"
            ]
          },
          "metadata": {
            "tags": []
          }
        }
      ]
    },
    {
      "cell_type": "markdown",
      "metadata": {
        "id": "xA3pV_8waBO3",
        "colab_type": "text"
      },
      "source": [
        "##Análise temporal\n",
        "\n",
        "Em relação a quantidade de infectados, a análise dos dados sugere ainda uma tendência de crescimento, concomitante com o crescimento de óbitos, conforme evidenciado nos Gráficos 9 e 10.\n",
        "\n"
      ]
    },
    {
      "cell_type": "code",
      "metadata": {
        "id": "hpsSRo08aF5R",
        "colab_type": "code",
        "colab": {}
      },
      "source": [
        "df8 = df"
      ],
      "execution_count": 55,
      "outputs": []
    },
    {
      "cell_type": "code",
      "metadata": {
        "id": "_b-lxRFAcsb8",
        "colab_type": "code",
        "colab": {}
      },
      "source": [
        "df8['Pacientes'] = 1"
      ],
      "execution_count": 56,
      "outputs": []
    },
    {
      "cell_type": "code",
      "metadata": {
        "id": "h_mCHlRzf3Br",
        "colab_type": "code",
        "colab": {}
      },
      "source": [
        "df8['Mês'] = df8['Data'].dt.month"
      ],
      "execution_count": 57,
      "outputs": []
    },
    {
      "cell_type": "code",
      "metadata": {
        "id": "9UEneKgukeu4",
        "colab_type": "code",
        "colab": {}
      },
      "source": [
        "df8.index = df8['Data Cadastro']"
      ],
      "execution_count": 58,
      "outputs": []
    },
    {
      "cell_type": "code",
      "metadata": {
        "id": "JtHp99BVw7Tk",
        "colab_type": "code",
        "colab": {
          "base_uri": "https://localhost:8080/",
          "height": 563
        },
        "outputId": "84279442-e640-43b4-f9ac-ddb946fddb08"
      },
      "source": [
        "sns.set()\n",
        "plt.figure(figsize=(10,5))\n",
        "df8['Data Cadastro'].value_counts().plot()\n",
        "plt.xlabel(\"Data\")\n",
        "plt.ylabel(\"Número de Infectados\")\n",
        "plt.title('Gráfico 9 - Infecções COVID')\n",
        "df8['Data Cadastro'].value_counts() "
      ],
      "execution_count": 59,
      "outputs": [
        {
          "output_type": "execute_result",
          "data": {
            "text/plain": [
              "2020-07-06    2869\n",
              "2020-06-29    2839\n",
              "2020-06-28    2541\n",
              "2020-07-05    2355\n",
              "2020-07-12    2291\n",
              "              ... \n",
              "2020-04-05      10\n",
              "2020-04-08       8\n",
              "2020-03-17       1\n",
              "2020-03-16       1\n",
              "2020-03-01       1\n",
              "Name: Data Cadastro, Length: 121, dtype: int64"
            ]
          },
          "metadata": {
            "tags": []
          },
          "execution_count": 59
        },
        {
          "output_type": "display_data",
          "data": {
            "image/png": "[encoded data removed]",
            "text/plain": [
              "<Figure size 720x360 with 1 Axes>"
            ]
          },
          "metadata": {
            "tags": []
          }
        }
      ]
    },
    {
      "cell_type": "code",
      "metadata": {
        "id": "PZ89JB9Ry9KS",
        "colab_type": "code",
        "colab": {
          "base_uri": "https://localhost:8080/",
          "height": 563
        },
        "outputId": "52007962-e813-4196-d546-d3cd35884984"
      },
      "source": [
        "sns.set()\n",
        "plt.figure(figsize=(10,5))\n",
        "df1['Data Cadastro'].value_counts().plot()\n",
        "plt.xlabel(\"Data\")\n",
        "plt.ylabel(\"Número de óbitos\")\n",
        "plt.title('Gráfico 10 - Óbitos COVID')\n",
        "df1['Data Cadastro'].value_counts() \n",
        "\n"
      ],
      "execution_count": 60,
      "outputs": [
        {
          "output_type": "execute_result",
          "data": {
            "text/plain": [
              "2020-07-07    45\n",
              "2020-07-01    29\n",
              "2020-06-23    26\n",
              "2020-06-30    26\n",
              "2020-06-22    25\n",
              "              ..\n",
              "2020-05-01     1\n",
              "2020-04-12     1\n",
              "2020-03-28     1\n",
              "2020-04-23     1\n",
              "2020-04-13     1\n",
              "Name: Data Cadastro, Length: 93, dtype: int64"
            ]
          },
          "metadata": {
            "tags": []
          },
          "execution_count": 60
        },
        {
          "output_type": "display_data",
          "data": {
            "image/png": "[encoded data removed]",
            "text/plain": [
              "<Figure size 720x360 with 1 Axes>"
            ]
          },
          "metadata": {
            "tags": []
          }
        }
      ]
    },
    {
      "cell_type": "markdown",
      "metadata": {
        "id": "lJbbMzdK75qM",
        "colab_type": "text"
      },
      "source": [
        "##Conclusões\n",
        "No recente cenário de pandemia mundial, Brasília também se encontra em número crescente de infectados e óbitos.\n",
        "\n",
        "Nesse estudo, observamos que o número de óbitos é maior entre os que possuem comorbidades (88%) e apesar do fato de a faixa Etária dos infectados com idade acima de 60 anos representar 10% dos infectados totais, eles representam 73% dos óbitos.\n",
        "\n",
        "Também observou-se que apesar dos números de infectados serem semelhantes entre homens e mulheres, os homens vão mais a óbito, representando 58% dos falecimentos.\n",
        "\n",
        "Dentre as comorbidades que estão mais relacionadas com os óbitos estão a Cardiovasculopatia e os Distúrbios Metabólicos.\n",
        "\n",
        "Cumpre salientar que no antigo dataframe disponibilizado pelo GDF havia a variável \"Estados de saúde\"  com 20% dos valores não informados. No dataframe atual, foi incluído a variável 'óbito' e 'dia dos primeiros sintomas'.\n",
        "\n",
        "Este estudo demonstra algumas análises que se pode extrair dos dados brutos abertos disponibilizados pelo Governo do Distrito Federal.\n",
        "\n",
        "Esse estudo será atualizado semanalmente."
      ]
    },
    {
      "cell_type": "markdown",
      "metadata": {
        "id": "_cpUPKxc97R5",
        "colab_type": "text"
      },
      "source": [
        "Carmen Scartezini, Accountant & Data Science Student."
      ]
    },
    {
      "cell_type": "code",
      "metadata": {
        "id": "k1JwyC8U-HF5",
        "colab_type": "code",
        "colab": {}
      },
      "source": [
        ""
      ],
      "execution_count": null,
      "outputs": []
    }
  ]
}