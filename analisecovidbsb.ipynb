{
  "nbformat": 4,
  "nbformat_minor": 0,
  "metadata": {
    "colab": {
      "name": "analisecovidbsb.ipynb",
      "provenance": [],
      "collapsed_sections": [],
      "authorship_tag": "ABX9TyNRDs8TyjY43/7Of3mnpu5E",
      "include_colab_link": true
    },
    "kernelspec": {
      "name": "python3",
      "display_name": "Python 3"
    }
  },
  "cells": [
    {
      "cell_type": "markdown",
      "metadata": {
        "id": "view-in-github",
        "colab_type": "text"
      },
      "source": [
        "<a href=\"https://colab.research.google.com/github/carmenscar/Mind_lab_data/blob/master/analisecovidbsb.ipynb\" target=\"_parent\"><img src=\"https://colab.research.google.com/assets/colab-badge.svg\" alt=\"Open In Colab\"/></a>"
      ]
    },
    {
      "cell_type": "code",
      "metadata": {
        "id": "Nrk3U5Fmb9i9",
        "colab_type": "code",
        "colab": {
          "base_uri": "https://localhost:8080/",
          "height": 71
        },
        "outputId": "3a4ff18f-439b-4353-e326-54172eae3849"
      },
      "source": [
        "import pandas as pd\n",
        "import pandas_profiling\n",
        "import matplotlib.pyplot as plt\n",
        "import seaborn as sns\n",
        "import datetime as dt\n"
      ],
      "execution_count": null,
      "outputs": [
        {
          "output_type": "stream",
          "text": [
            "/usr/local/lib/python3.6/dist-packages/statsmodels/tools/_testing.py:19: FutureWarning: pandas.util.testing is deprecated. Use the functions in the public API at pandas.testing instead.\n",
            "  import pandas.util.testing as tm\n"
          ],
          "name": "stderr"
        }
      ]
    },
    {
      "cell_type": "markdown",
      "metadata": {
        "id": "ocUsxlXrd1Pf",
        "colab_type": "text"
      },
      "source": [
        "#Análise dos dados - COVID - Brasília\n",
        "**ÚLTIMA ATUALIZAÇÃO 30/06/2020**\n",
        "\n",
        "O Distrito Federal foi um dos entes da federação que começaram cedo com as medidas de isolamento social. \n",
        "\n",
        "Passados 3 meses desde o primeiro caso de covid na capital, na primeira semana de março, Brasília tem forte queda nas taxas de isolamento social.\n",
        "\n",
        "O governo julgou seguro a retomada das atividades e foi gradativamente liberando a reabertura, com algumas restrições, do comércio essencial, dos parques, dos clubes e das igrejas, deixando por último a reabertura de bares, restaurantes e academias, consideradas atividades não essenciais.\n",
        "\n",
        "Diante do cenário, analisaremos os dados sobre o **corona vírus** e veremos quais informações podemos extrair dos dados brutos disponibilizados pelo governo do Distrito Federal.\n",
        "\n",
        "O estudo será atualizado semanalmente.\n"
      ]
    },
    {
      "cell_type": "markdown",
      "metadata": {
        "id": "4_bt0fukdtVS",
        "colab_type": "text"
      },
      "source": [
        ""
      ]
    },
    {
      "cell_type": "markdown",
      "metadata": {
        "id": "aWNchH6ljZIS",
        "colab_type": "text"
      },
      "source": [
        "##Obtenção de dados\n",
        "Os utilizados na presente análise foram extraídos do [site do GDF](https://covid19.ssp.df.gov.br/extensions/covid19/covid19.html#/) destinado às informações referentes ao **COVID**."
      ]
    },
    {
      "cell_type": "code",
      "metadata": {
        "id": "IOy-xEhyin2r",
        "colab_type": "code",
        "colab": {}
      },
      "source": [
        "import pandas as pd\n",
        "import matplotlib.pyplot as plt\n",
        "import seaborn as sns\n",
        "import seaborn as sns\n",
        "import datetime as dt\n",
        "\n",
        "%matplotlib inline"
      ],
      "execution_count": null,
      "outputs": []
    },
    {
      "cell_type": "code",
      "metadata": {
        "id": "2_3iJrzRv0NQ",
        "colab_type": "code",
        "colab": {}
      },
      "source": [
        "df = pd.read_excel(\"/content/dados-abertos (2).xlsx\")"
      ],
      "execution_count": null,
      "outputs": []
    },
    {
      "cell_type": "markdown",
      "metadata": {
        "id": "BLY2k8soqXF1",
        "colab_type": "text"
      },
      "source": [
        "## Dicionário de variáveis\n",
        "* id - número gerado para identificar o paciente\n",
        "* Sexo - gênero do paciente\n",
        "* Faixa etária - faixa de idade do paciente\n",
        "* Estado de saúde - estado que se encontra o paciente identificado\n",
        "* Comorbidades - identifica se o paciente possui comorbidades\n",
        "* RA - Região Administrativa\n",
        "* Data - data de importação dos dados\n",
        "* Data Cadastro - data do cadastramento ou atualização dos dados do paciente\n",
        "\n",
        "Dentre as comorbidades, são identificadas em variáveis separadas: Pneumopatia, Nefropatia, Doença Hematológica, Distúrbios metabólicos, Imunopressão, Obesidade, Cardiovasculopatia e Outros."
      ]
    },
    {
      "cell_type": "markdown",
      "metadata": {
        "id": "C9xH4s1pwT1T",
        "colab_type": "text"
      },
      "source": [
        "### A seguir, observemos um pedaço-resumo do dataframe, analisando as 5 primeiras entradas:"
      ]
    },
    {
      "cell_type": "code",
      "metadata": {
        "id": "UrfznVmVwhmm",
        "colab_type": "code",
        "colab": {
          "base_uri": "https://localhost:8080/",
          "height": 326
        },
        "outputId": "ed2294cc-6c51-4544-ee04-9b35ce7c2c93"
      },
      "source": [
        "df.head(5)"
      ],
      "execution_count": null,
      "outputs": [
        {
          "output_type": "execute_result",
          "data": {
            "text/html": [
              "<div>\n",
              "<style scoped>\n",
              "    .dataframe tbody tr th:only-of-type {\n",
              "        vertical-align: middle;\n",
              "    }\n",
              "\n",
              "    .dataframe tbody tr th {\n",
              "        vertical-align: top;\n",
              "    }\n",
              "\n",
              "    .dataframe thead th {\n",
              "        text-align: right;\n",
              "    }\n",
              "</style>\n",
              "<table border=\"1\" class=\"dataframe\">\n",
              "  <thead>\n",
              "    <tr style=\"text-align: right;\">\n",
              "      <th></th>\n",
              "      <th>id</th>\n",
              "      <th>Data</th>\n",
              "      <th>Data Cadastro</th>\n",
              "      <th>Sexo</th>\n",
              "      <th>Faixa Etária</th>\n",
              "      <th>RA</th>\n",
              "      <th>UF</th>\n",
              "      <th>Estado de Saúde</th>\n",
              "      <th>Comorbidades</th>\n",
              "      <th>Pneumopatia</th>\n",
              "      <th>Nefropatia</th>\n",
              "      <th>Doença Hematológica</th>\n",
              "      <th>Distúrbios Metabólicos</th>\n",
              "      <th>Imunopressão</th>\n",
              "      <th>Obesidade</th>\n",
              "      <th>Outros</th>\n",
              "      <th>Cardiovasculopatia</th>\n",
              "    </tr>\n",
              "  </thead>\n",
              "  <tbody>\n",
              "    <tr>\n",
              "      <th>0</th>\n",
              "      <td>1</td>\n",
              "      <td>2020-06-30</td>\n",
              "      <td>2020-03-18</td>\n",
              "      <td>Masculino</td>\n",
              "      <td>50 a 59 anos</td>\n",
              "      <td>Plano Piloto</td>\n",
              "      <td>DISTRITO FEDERAL</td>\n",
              "      <td>Recuperado</td>\n",
              "      <td>Não informado</td>\n",
              "      <td>NaN</td>\n",
              "      <td>NaN</td>\n",
              "      <td>NaN</td>\n",
              "      <td>NaN</td>\n",
              "      <td>NaN</td>\n",
              "      <td>NaN</td>\n",
              "      <td>NaN</td>\n",
              "      <td>NaN</td>\n",
              "    </tr>\n",
              "    <tr>\n",
              "      <th>1</th>\n",
              "      <td>2</td>\n",
              "      <td>2020-06-30</td>\n",
              "      <td>2020-03-18</td>\n",
              "      <td>Masculino</td>\n",
              "      <td>50 a 59 anos</td>\n",
              "      <td>Lago Sul</td>\n",
              "      <td>DISTRITO FEDERAL</td>\n",
              "      <td>Recuperado</td>\n",
              "      <td>Sim</td>\n",
              "      <td>Sim</td>\n",
              "      <td>Não</td>\n",
              "      <td>Não</td>\n",
              "      <td>Sim</td>\n",
              "      <td>Não</td>\n",
              "      <td>Não</td>\n",
              "      <td>Não</td>\n",
              "      <td>Não</td>\n",
              "    </tr>\n",
              "    <tr>\n",
              "      <th>2</th>\n",
              "      <td>3</td>\n",
              "      <td>2020-06-30</td>\n",
              "      <td>2020-03-18</td>\n",
              "      <td>Masculino</td>\n",
              "      <td>40 a 49 anos</td>\n",
              "      <td>Lago Sul</td>\n",
              "      <td>DISTRITO FEDERAL</td>\n",
              "      <td>Recuperado</td>\n",
              "      <td>Não informado</td>\n",
              "      <td>NaN</td>\n",
              "      <td>NaN</td>\n",
              "      <td>NaN</td>\n",
              "      <td>NaN</td>\n",
              "      <td>NaN</td>\n",
              "      <td>NaN</td>\n",
              "      <td>NaN</td>\n",
              "      <td>NaN</td>\n",
              "    </tr>\n",
              "    <tr>\n",
              "      <th>3</th>\n",
              "      <td>6</td>\n",
              "      <td>2020-06-30</td>\n",
              "      <td>2020-03-18</td>\n",
              "      <td>Masculino</td>\n",
              "      <td>&gt;= 60 anos</td>\n",
              "      <td>Águas Claras</td>\n",
              "      <td>DISTRITO FEDERAL</td>\n",
              "      <td>Recuperado</td>\n",
              "      <td>Sim</td>\n",
              "      <td>Não</td>\n",
              "      <td>Não</td>\n",
              "      <td>Não</td>\n",
              "      <td>Sim</td>\n",
              "      <td>Não</td>\n",
              "      <td>Não</td>\n",
              "      <td>Não</td>\n",
              "      <td>Sim</td>\n",
              "    </tr>\n",
              "    <tr>\n",
              "      <th>4</th>\n",
              "      <td>8</td>\n",
              "      <td>2020-06-30</td>\n",
              "      <td>2020-03-18</td>\n",
              "      <td>Feminino</td>\n",
              "      <td>20 a 29 anos</td>\n",
              "      <td>Plano Piloto</td>\n",
              "      <td>DISTRITO FEDERAL</td>\n",
              "      <td>Recuperado</td>\n",
              "      <td>Não informado</td>\n",
              "      <td>NaN</td>\n",
              "      <td>NaN</td>\n",
              "      <td>NaN</td>\n",
              "      <td>NaN</td>\n",
              "      <td>NaN</td>\n",
              "      <td>NaN</td>\n",
              "      <td>NaN</td>\n",
              "      <td>NaN</td>\n",
              "    </tr>\n",
              "  </tbody>\n",
              "</table>\n",
              "</div>"
            ],
            "text/plain": [
              "   id       Data Data Cadastro  ... Obesidade Outros Cardiovasculopatia\n",
              "0   1 2020-06-30    2020-03-18  ...       NaN    NaN                NaN\n",
              "1   2 2020-06-30    2020-03-18  ...       Não    Não                Não\n",
              "2   3 2020-06-30    2020-03-18  ...       NaN    NaN                NaN\n",
              "3   6 2020-06-30    2020-03-18  ...       Não    Não                Sim\n",
              "4   8 2020-06-30    2020-03-18  ...       NaN    NaN                NaN\n",
              "\n",
              "[5 rows x 17 columns]"
            ]
          },
          "metadata": {
            "tags": []
          },
          "execution_count": 4
        }
      ]
    },
    {
      "cell_type": "markdown",
      "metadata": {
        "id": "tbi-yp2OzJQj",
        "colab_type": "text"
      },
      "source": [
        "## Visão geral dos dados\n",
        "\n",
        "Os dados possuem 49.217 entradas e 17 variáveis.\n",
        "Quando observamos os dados da tabela verificamos que existem campos para diferentes comorbidades. \n",
        "\n",
        "Para facilitar a análise, criamos uma entrada denominada \"Comorbidades\" que aponta se há ou não qualquer tipo de comorbidade apresentada pelo paciente, ou se o valor não foi informado.\n",
        "\n",
        "Todas as variáveis, com exceção das datas, são do tipo \"object\", ou seja, do tipo string.\n",
        "\n"
      ]
    },
    {
      "cell_type": "code",
      "metadata": {
        "id": "voE3AiQRzNAL",
        "colab_type": "code",
        "colab": {
          "base_uri": "https://localhost:8080/",
          "height": 374
        },
        "outputId": "e36d894e-c9be-4296-8dd2-4aeac64f7605"
      },
      "source": [
        "print(\"Entradas:\\t {}\".format(df.shape[0]))\n",
        "print(\"Variáveis:\\t {}\\n\".format(df.shape[1]))\n",
        "\n",
        "display(df.dtypes)"
      ],
      "execution_count": null,
      "outputs": [
        {
          "output_type": "stream",
          "text": [
            "Entradas:\t 49217\n",
            "Variáveis:\t 17\n",
            "\n"
          ],
          "name": "stdout"
        },
        {
          "output_type": "display_data",
          "data": {
            "text/plain": [
              "id                                 int64\n",
              "Data                      datetime64[ns]\n",
              "Data Cadastro             datetime64[ns]\n",
              "Sexo                              object\n",
              "Faixa Etária                      object\n",
              "RA                                object\n",
              "UF                                object\n",
              "Estado de Saúde                   object\n",
              "Comorbidades                      object\n",
              "Pneumopatia                       object\n",
              "Nefropatia                        object\n",
              "Doença Hematológica               object\n",
              "Distúrbios Metabólicos            object\n",
              "Imunopressão                      object\n",
              "Obesidade                         object\n",
              "Outros                            object\n",
              "Cardiovasculopatia                object\n",
              "dtype: object"
            ]
          },
          "metadata": {
            "tags": []
          }
        }
      ]
    },
    {
      "cell_type": "markdown",
      "metadata": {
        "id": "uQJ-ScLp2U3_",
        "colab_type": "text"
      },
      "source": [
        "## Nulls\n",
        "A maior parte dos valores em branco se relacionam com as informações sobre Comorbidades do paciente. Observa-se que quando há uma comorbidade, as outras comorbidades listadas são, geralmente, preenchidas com \"sim\" ou \"não\", e na maioria dos casos, não é informado se há ou não comorbidades.\n",
        "\n",
        "Uma hipótese é a de que quando registrada uma comorbidade, se avaliam as outras e se não há comorbidade, os valores ficam em branco.\n",
        "\n",
        "Em relação as informações sobre o estado de saúde do paciente, apesar de não conter valores nulos, a maior parte do valor é dado como \"não informado\"."
      ]
    },
    {
      "cell_type": "code",
      "metadata": {
        "id": "9gX5C73j2iwX",
        "colab_type": "code",
        "colab": {
          "base_uri": "https://localhost:8080/",
          "height": 323
        },
        "outputId": "e8b7ac7a-eeb6-42f8-c78b-c66152f00f79"
      },
      "source": [
        "(df.isnull().sum() / df.shape[0]).sort_values(ascending=False)"
      ],
      "execution_count": null,
      "outputs": [
        {
          "output_type": "execute_result",
          "data": {
            "text/plain": [
              "Doença Hematológica       0.993356\n",
              "Nefropatia                0.990105\n",
              "Imunopressão              0.988033\n",
              "Obesidade                 0.986509\n",
              "Pneumopatia               0.978747\n",
              "Distúrbios Metabólicos    0.961964\n",
              "Cardiovasculopatia        0.944572\n",
              "Outros                    0.894122\n",
              "UF                        0.014548\n",
              "Data Cadastro             0.000975\n",
              "Sexo                      0.000000\n",
              "Data                      0.000000\n",
              "Comorbidades              0.000000\n",
              "Faixa Etária              0.000000\n",
              "RA                        0.000000\n",
              "Estado de Saúde           0.000000\n",
              "id                        0.000000\n",
              "dtype: float64"
            ]
          },
          "metadata": {
            "tags": []
          },
          "execution_count": 7
        }
      ]
    },
    {
      "cell_type": "markdown",
      "metadata": {
        "id": "XtTagBz44_aT",
        "colab_type": "text"
      },
      "source": [
        "## Análise exploratória dos dados\n",
        "\n",
        "### Regiões do DF\n",
        "Ceilândia é a cidade com mais casos de corona vírus, representando 13% dos pacientes diagnosticados. A Região administrativa é seguida em maiores números de casos pelo Plano Piloto e Taguatinga, ambos com 7% dos casos.\n",
        "\n",
        "As regiões do Pôr do Sol, Candangolândia, Sobradinho II,  Arniqueira, Varjão, SIA e Fercal representam os locais com menos casos. \n",
        "\n",
        "Observa-se que dado ao fato das regiões estarem predominantemente classificadas como regiões de baixa renda, segundo dados da Codeplan 2018, pode haver subnotificação de casos.\n",
        "\n",
        "Segundos os dados da Codeplan(2018), as regiões de classificam da seguinte maneira:\n",
        "\n",
        "• **Grupo 1 (alta renda)**: Plano Piloto, Jardim Botânico, Lago Norte, Lago Sul, Park Way e Sudoeste/Octogonal, com renda domiciliar de R$ 15.622\n",
        "\n",
        "• **Grupo 2 (média-alta renda)**: Águas Claras, Candangolândia, Cruzeiro, Gama, Guará, Núcleo\n",
        "Bandeirante, Sobradinho, Sobradinho II, Taguatinga e Vicente Pires, com renda domiciliar média de R$ 7.266;\n",
        "\n",
        "• **Grupo 3 (média-baixa renda)**: Brazlândia, Ceilândia, Planaltina, Riacho Fundo, Riacho Fundo\n",
        "II, SIA, Samambaia, Santa Maria e São Sebastião, com renda domiciliar média de R$ 3.101;\n",
        "\n",
        "• **Grupo 4 (baixa renda)**: Fercal, Itapoã, Paranoá, Recanto das Emas, SCIA–Estrutural e Varjão, com renda domiciliar média de R$\n",
        "2.472;\n",
        "\n"
      ]
    },
    {
      "cell_type": "code",
      "metadata": {
        "id": "f_QSd3945jE7",
        "colab_type": "code",
        "colab": {
          "base_uri": "https://localhost:8080/",
          "height": 663
        },
        "outputId": "b865f5f1-0d90-4cfe-bd39-ed927fb1aa31"
      },
      "source": [
        "df.RA.value_counts() / df.shape[0]\n"
      ],
      "execution_count": null,
      "outputs": [
        {
          "output_type": "execute_result",
          "data": {
            "text/plain": [
              "Ceilândia                0.131235\n",
              "Plano Piloto             0.070057\n",
              "Samambaia                0.069529\n",
              "Taguatinga               0.069285\n",
              "Entorno DF               0.054189\n",
              "Gama                     0.048500\n",
              "Não Informado            0.044558\n",
              "Outros Estados           0.041815\n",
              "Paranoá                  0.039702\n",
              "Guará                    0.037446\n",
              "Sobradinho               0.034866\n",
              "Águas Claras             0.034196\n",
              "Santa Maria              0.033586\n",
              "São Sebastião            0.031839\n",
              "Planaltina               0.031188\n",
              "Sistema Penitenciário    0.027389\n",
              "Recanto das Emas         0.026861\n",
              "Riacho Fundo             0.019729\n",
              "Itapoã                   0.016417\n",
              "Brazlândia               0.013532\n",
              "Sudoeste/Octogonal       0.013369\n",
              "Lago Sul                 0.012679\n",
              "Vicente Pires            0.012557\n",
              "SCIA                     0.012496\n",
              "Jardim Botânico          0.011520\n",
              "Riacho Fundo II          0.008432\n",
              "Lago Norte               0.008026\n",
              "Núcleo Bandeirante       0.007985\n",
              "Cruzeiro                 0.007396\n",
              "Candangolândia           0.006319\n",
              "Sobradinho II            0.006319\n",
              "Pôr do Sol               0.006136\n",
              "Park Way                 0.005445\n",
              "Arniqueira               0.002418\n",
              "SIA                      0.001219\n",
              "Varjão                   0.001178\n",
              "Fercal                   0.000589\n",
              "Name: RA, dtype: float64"
            ]
          },
          "metadata": {
            "tags": []
          },
          "execution_count": 8
        }
      ]
    },
    {
      "cell_type": "markdown",
      "metadata": {
        "id": "saIc7n71V-uZ",
        "colab_type": "text"
      },
      "source": [
        "###Gênero\n",
        "Em relação ao gênero dos paciêntes com Covid, observa-se que não há diferença de gênero em relação a quantidade de infectados, sendo aproximadamente 51% dos infectadosdo sexo feminino e 49% do sexo masculino, conforme o Gráfico 1."
      ]
    },
    {
      "cell_type": "code",
      "metadata": {
        "id": "vibDhfwIjPdJ",
        "colab_type": "code",
        "colab": {
          "base_uri": "https://localhost:8080/",
          "height": 346
        },
        "outputId": "3c8224f3-678d-4607-8136-913faef4aea0"
      },
      "source": [
        "sns.countplot(df['Sexo'])\n",
        "plt.title('Gráfico 1 - Infectados X gênero')\n",
        "plt.show()\n",
        "df.Sexo.value_counts() / df.shape[0]"
      ],
      "execution_count": null,
      "outputs": [
        {
          "output_type": "display_data",
          "data": {
            "image/png": "[encoded data removed]",
            "text/plain": [
              "<Figure size 432x288 with 1 Axes>"
            ]
          },
          "metadata": {
            "tags": [],
            "needs_background": "light"
          }
        },
        {
          "output_type": "execute_result",
          "data": {
            "text/plain": [
              "Feminino     0.516813\n",
              "Masculino    0.483187\n",
              "Name: Sexo, dtype: float64"
            ]
          },
          "metadata": {
            "tags": []
          },
          "execution_count": 10
        }
      ]
    },
    {
      "cell_type": "markdown",
      "metadata": {
        "id": "psv7g_-pWd0h",
        "colab_type": "text"
      },
      "source": [
        "##Faixa Etária\n",
        "A faixa etária nos demonstra que há menor número de casos notificados entre os menores de 19 anos e maiores de 60 anos. Portanto, o maior número de infecções fica por dentro dessa faixa etária, conforme observado no Gráfico 2.\n"
      ]
    },
    {
      "cell_type": "code",
      "metadata": {
        "id": "X3qRxVRyJ2YC",
        "colab_type": "code",
        "colab": {
          "base_uri": "https://localhost:8080/",
          "height": 469
        },
        "outputId": "045409b2-21ea-4ff8-ca23-2945fe6e182f"
      },
      "source": [
        "\n",
        "df['Faixa Etária'].hist(bins=15, figsize=(10,5))\n",
        "plt.xlabel('quantidade de pacientes')\n",
        "plt.ylabel('faixa etária dos pacientes')\n",
        "plt.title('Gráfico 2 - Quantidade de infectados por Faixa Etária')\n",
        "df['Faixa Etária'].value_counts()\n"
      ],
      "execution_count": null,
      "outputs": [
        {
          "output_type": "execute_result",
          "data": {
            "text/plain": [
              "30 a 39 anos    13367\n",
              "40 a 49 anos    11044\n",
              "20 a 29 anos     9371\n",
              "50 a 59 anos     6808\n",
              ">= 60 anos       5264\n",
              "<= 19 anos       3363\n",
              "Name: Faixa Etária, dtype: int64"
            ]
          },
          "metadata": {
            "tags": []
          },
          "execution_count": 11
        },
        {
          "output_type": "display_data",
          "data": {
            "image/png": "[encoded data removed]",
            "text/plain": [
              "<Figure size 720x360 with 1 Axes>"
            ]
          },
          "metadata": {
            "tags": [],
            "needs_background": "light"
          }
        }
      ]
    },
    {
      "cell_type": "markdown",
      "metadata": {
        "id": "y12CI82xWbmV",
        "colab_type": "text"
      },
      "source": [
        "##Estado de saúde\n",
        "Analisando o número de óbitos, notamos que este representa aproximadamente 1% dos pacientes. Porém, observa-se que 29% dos pacientes estão com seu estado de saúde não informado, podendo ocorrer subnotificação, conforme evidenciado no Gráfico 3."
      ]
    },
    {
      "cell_type": "code",
      "metadata": {
        "id": "Y7UzfnJwOduy",
        "colab_type": "code",
        "colab": {
          "base_uri": "https://localhost:8080/",
          "height": 414
        },
        "outputId": "b1c50dc8-84d4-4928-9dc5-dcfcc36db9c6"
      },
      "source": [
        "df['Estado de Saúde'].hist(bins=15)\n",
        "plt.xlabel('quantidade de pacientes')\n",
        "plt.ylabel('estado de saúde dos pacientes')\n",
        "plt.title('Gráfico 3 - Estado de saúde na data do estudo')\n",
        "df['Estado de Saúde'].value_counts() / df['Estado de Saúde'].shape[0]"
      ],
      "execution_count": null,
      "outputs": [
        {
          "output_type": "execute_result",
          "data": {
            "text/plain": [
              "Recuperado       0.690209\n",
              "Não Informado    0.295203\n",
              "Óbito            0.011927\n",
              "Moderado         0.001565\n",
              "Grave            0.000752\n",
              "Leve             0.000345\n",
              "Name: Estado de Saúde, dtype: float64"
            ]
          },
          "metadata": {
            "tags": []
          },
          "execution_count": 12
        },
        {
          "output_type": "display_data",
          "data": {
            "image/png": "[encoded data removed]",
            "text/plain": [
              "<Figure size 432x288 with 1 Axes>"
            ]
          },
          "metadata": {
            "tags": [],
            "needs_background": "light"
          }
        }
      ]
    },
    {
      "cell_type": "markdown",
      "metadata": {
        "id": "VmgGehuPaMdt",
        "colab_type": "text"
      },
      "source": [
        "##Óbitos\n",
        "Observa-se que o número de óbitos é maior no sexo masculino, representando 348 óbitos de homens (59%), em 29 de junho.\n",
        "É uma questão que precisaria de maior investigação visto que a idade dos pacientes não influenciou no número de óbitos por gênero, conforme evidenciado nos Gráficos 4 e 5.\n",
        "\n",
        "Observa-se também que apesar dos idosos (pacientes > 60 anos) serem apenas 10% dos pacientes totais, estes representam aproximadamente 72% dos óbitos, mostrando que há um **alto risco de mortalidade** nessa faixa etária, conforme evidenciado no Gráfico 4."
      ]
    },
    {
      "cell_type": "code",
      "metadata": {
        "id": "ONz5n8kgSk1-",
        "colab_type": "code",
        "colab": {}
      },
      "source": [
        "df1 = df[df[\"Estado de Saúde\"] == \"Óbito\"]"
      ],
      "execution_count": null,
      "outputs": []
    },
    {
      "cell_type": "code",
      "metadata": {
        "id": "uJUzrbMlxywG",
        "colab_type": "code",
        "colab": {
          "base_uri": "https://localhost:8080/",
          "height": 68
        },
        "outputId": "0dec3585-ccc5-4ddc-c8a7-237f4a983090"
      },
      "source": [
        "df1.Sexo.value_counts()"
      ],
      "execution_count": null,
      "outputs": [
        {
          "output_type": "execute_result",
          "data": {
            "text/plain": [
              "Masculino    348\n",
              "Feminino     239\n",
              "Name: Sexo, dtype: int64"
            ]
          },
          "metadata": {
            "tags": []
          },
          "execution_count": 14
        }
      ]
    },
    {
      "cell_type": "code",
      "metadata": {
        "id": "xLVzu1tIgUy_",
        "colab_type": "code",
        "colab": {
          "base_uri": "https://localhost:8080/",
          "height": 68
        },
        "outputId": "8d507a0c-1289-448f-db16-dd88ccb77c17"
      },
      "source": [
        "df1.Sexo.value_counts() / df1.Sexo.shape[0]"
      ],
      "execution_count": null,
      "outputs": [
        {
          "output_type": "execute_result",
          "data": {
            "text/plain": [
              "Masculino    0.592845\n",
              "Feminino     0.407155\n",
              "Name: Sexo, dtype: float64"
            ]
          },
          "metadata": {
            "tags": []
          },
          "execution_count": 33
        }
      ]
    },
    {
      "cell_type": "code",
      "metadata": {
        "id": "sTkfkr1fkZHd",
        "colab_type": "code",
        "colab": {}
      },
      "source": [
        "df9 = df1[df1[\"Sexo\"] == \"Feminino\"]"
      ],
      "execution_count": null,
      "outputs": []
    },
    {
      "cell_type": "code",
      "metadata": {
        "id": "KsV-4DolkqVC",
        "colab_type": "code",
        "colab": {
          "base_uri": "https://localhost:8080/",
          "height": 469
        },
        "outputId": "31d9c302-5a74-4bc4-9e03-f85469e83dbc"
      },
      "source": [
        "df9['Faixa Etária'].hist(bins=15, figsize=(10,5))\n",
        "plt.xlabel('quantidade óbitos')\n",
        "plt.ylabel('faixa etária dos pacientes')\n",
        "plt.title('Gráfico 4 - Faixa Etária x Óbitos - Sexo feminino');\n",
        "df9['Faixa Etária'].value_counts() / df9['Faixa Etária'].shape[0]"
      ],
      "execution_count": null,
      "outputs": [
        {
          "output_type": "execute_result",
          "data": {
            "text/plain": [
              ">= 60 anos      0.782427\n",
              "50 a 59 anos    0.100418\n",
              "40 a 49 anos    0.079498\n",
              "30 a 39 anos    0.029289\n",
              "20 a 29 anos    0.004184\n",
              "<= 19 anos      0.004184\n",
              "Name: Faixa Etária, dtype: float64"
            ]
          },
          "metadata": {
            "tags": []
          },
          "execution_count": 37
        },
        {
          "output_type": "display_data",
          "data": {
            "image/png": "[encoded data removed]",
            "text/plain": [
              "<Figure size 720x360 with 1 Axes>"
            ]
          },
          "metadata": {
            "tags": [],
            "needs_background": "light"
          }
        }
      ]
    },
    {
      "cell_type": "code",
      "metadata": {
        "id": "-x_rT0q0k59A",
        "colab_type": "code",
        "colab": {
          "base_uri": "https://localhost:8080/",
          "height": 469
        },
        "outputId": "fdd5c47f-781f-4665-cd27-886b0bd5cc8d"
      },
      "source": [
        "df10= df1[df1[\"Sexo\"] == \"Masculino\"]\n",
        "df9['Faixa Etária'].hist(bins=15, figsize=(10,5))\n",
        "plt.xlabel('quantidade óbitos')\n",
        "plt.ylabel('faixa etária dos pacientes')\n",
        "plt.title('Gráfico 5 - Faixa Etária x Óbitos - Sexo masculino');\n",
        "df9['Faixa Etária'].value_counts() / df9['Faixa Etária'].shape[0]"
      ],
      "execution_count": null,
      "outputs": [
        {
          "output_type": "execute_result",
          "data": {
            "text/plain": [
              ">= 60 anos      0.782427\n",
              "50 a 59 anos    0.100418\n",
              "40 a 49 anos    0.079498\n",
              "30 a 39 anos    0.029289\n",
              "20 a 29 anos    0.004184\n",
              "<= 19 anos      0.004184\n",
              "Name: Faixa Etária, dtype: float64"
            ]
          },
          "metadata": {
            "tags": []
          },
          "execution_count": 39
        },
        {
          "output_type": "display_data",
          "data": {
            "image/png": "[encoded data removed]",
            "text/plain": [
              "<Figure size 720x360 with 1 Axes>"
            ]
          },
          "metadata": {
            "tags": [],
            "needs_background": "light"
          }
        }
      ]
    },
    {
      "cell_type": "code",
      "metadata": {
        "id": "y5te_vDIZiQL",
        "colab_type": "code",
        "colab": {
          "base_uri": "https://localhost:8080/",
          "height": 469
        },
        "outputId": "29e53200-c569-44d6-b978-7264e7d654ac"
      },
      "source": [
        "df1['Faixa Etária'].hist(bins=15, figsize=(10,5))\n",
        "plt.xlabel('quantidade óbitos')\n",
        "plt.ylabel('faixa etária dos pacientes')\n",
        "plt.title('Gráfico 6 - Faixa Etária x Óbitos');\n",
        "df1['Faixa Etária'].value_counts() / df1['Faixa Etária'].shape[0]"
      ],
      "execution_count": 46,
      "outputs": [
        {
          "output_type": "execute_result",
          "data": {
            "text/plain": [
              ">= 60 anos      0.725724\n",
              "50 a 59 anos    0.136286\n",
              "40 a 49 anos    0.085179\n",
              "30 a 39 anos    0.040886\n",
              "20 a 29 anos    0.008518\n",
              "<= 19 anos      0.003407\n",
              "Name: Faixa Etária, dtype: float64"
            ]
          },
          "metadata": {
            "tags": []
          },
          "execution_count": 46
        },
        {
          "output_type": "display_data",
          "data": {
            "image/png": "[encoded data removed]",
            "text/plain": [
              "<Figure size 720x360 with 1 Axes>"
            ]
          },
          "metadata": {
            "tags": [],
            "needs_background": "light"
          }
        }
      ]
    },
    {
      "cell_type": "markdown",
      "metadata": {
        "id": "xdjvpoHrhQyy",
        "colab_type": "text"
      },
      "source": [
        "##Comorbidades X Óbitos\n",
        "Em relação aos óbitos, o Gráfico 7 mostra que 88% dos pacientes que vieram a falecer possuiam algum tipo de comorbidade.\n",
        "\n",
        "A análise ainda mostra que a maioria sofria das comorbidades do tipo \"Distúrbios Metabólicos\" e \"Cardiovasculopatia\",  conforme observado no Gráfico 8.\n",
        "\n",
        "Cumpre destacar que esses pacientes podiam possuir 1 ou mais tipos de comorbidades."
      ]
    },
    {
      "cell_type": "code",
      "metadata": {
        "id": "L5Ru0lzHZyR2",
        "colab_type": "code",
        "colab": {}
      },
      "source": [
        "df2 = df1[df1[\"Comorbidades\"] == \"Sim\"]"
      ],
      "execution_count": null,
      "outputs": []
    },
    {
      "cell_type": "code",
      "metadata": {
        "id": "vTWpFRAmclLD",
        "colab_type": "code",
        "colab": {
          "base_uri": "https://localhost:8080/",
          "height": 346
        },
        "outputId": "b41cb19a-fdd2-4dd0-a06c-cfd41123f324"
      },
      "source": [
        "\n",
        "sns.countplot(df1['Comorbidades'])\n",
        "plt.xlabel('Possui comorbidades?')\n",
        "plt.ylabel('quantidade óbitos')\n",
        "plt.title('Gráfico 7 - Comorbidade x Óbitos')\n",
        "plt.show();\n",
        "df1.Comorbidades.value_counts()/df1.Comorbidades.shape[0]\n"
      ],
      "execution_count": null,
      "outputs": [
        {
          "output_type": "display_data",
          "data": {
            "image/png": "[encoded data removed]",
            "text/plain": [
              "<Figure size 432x288 with 1 Axes>"
            ]
          },
          "metadata": {
            "tags": [],
            "needs_background": "light"
          }
        },
        {
          "output_type": "execute_result",
          "data": {
            "text/plain": [
              "Sim              0.887564\n",
              "Não informado    0.112436\n",
              "Name: Comorbidades, dtype: float64"
            ]
          },
          "metadata": {
            "tags": []
          },
          "execution_count": 42
        }
      ]
    },
    {
      "cell_type": "code",
      "metadata": {
        "id": "W46fylF8wKzy",
        "colab_type": "code",
        "colab": {}
      },
      "source": [
        "df3 = df2.iloc[:,8:]"
      ],
      "execution_count": null,
      "outputs": []
    },
    {
      "cell_type": "code",
      "metadata": {
        "id": "NhBrha9b00YH",
        "colab_type": "code",
        "colab": {}
      },
      "source": [
        "df4 = df3.fillna('Não')"
      ],
      "execution_count": null,
      "outputs": []
    },
    {
      "cell_type": "code",
      "metadata": {
        "id": "D0fCWvDB4zvw",
        "colab_type": "code",
        "colab": {}
      },
      "source": [
        "df5 = df4.replace([\"Sim\"], 1)"
      ],
      "execution_count": null,
      "outputs": []
    },
    {
      "cell_type": "code",
      "metadata": {
        "id": "KzHwNPdj422t",
        "colab_type": "code",
        "colab": {}
      },
      "source": [
        "df6 = df5.replace([\"Não\"],0 )"
      ],
      "execution_count": null,
      "outputs": []
    },
    {
      "cell_type": "code",
      "metadata": {
        "id": "YPQfoyEG67Z4",
        "colab_type": "code",
        "colab": {}
      },
      "source": [
        "df7= df6.drop(columns=\"Comorbidades\")"
      ],
      "execution_count": null,
      "outputs": []
    },
    {
      "cell_type": "code",
      "metadata": {
        "id": "v4qx29aw63H-",
        "colab_type": "code",
        "colab": {
          "base_uri": "https://localhost:8080/",
          "height": 187
        },
        "outputId": "715749c8-aa80-43ce-facb-8a5542bf8b22"
      },
      "source": [
        "df7.sum()"
      ],
      "execution_count": null,
      "outputs": [
        {
          "output_type": "execute_result",
          "data": {
            "text/plain": [
              "Pneumopatia                86\n",
              "Nefropatia                 47\n",
              "Doença Hematológica         9\n",
              "Distúrbios Metabólicos    213\n",
              "Imunopressão               62\n",
              "Obesidade                  73\n",
              "Outros                     98\n",
              "Cardiovasculopatia        359\n",
              "count                     521\n",
              "dtype: int64"
            ]
          },
          "metadata": {
            "tags": []
          },
          "execution_count": 24
        }
      ]
    },
    {
      "cell_type": "code",
      "metadata": {
        "id": "-oX1gTGJS6HE",
        "colab_type": "code",
        "colab": {
          "base_uri": "https://localhost:8080/",
          "height": 298
        },
        "outputId": "e2ed0e21-8396-4875-a27e-1848d44cfe95"
      },
      "source": [
        "disease = ['Pneumopatia','Nefropatia','Doença Hematológica','Distúrbios Metabólicos','Imunopressão','Obesidade','Outros','Cardiovasculopatia']\n",
        "n_disease = [86,47,9,213,62,73,98,359]\n",
        "\n",
        "plt.barh(disease, n_disease);\n",
        "plt.xlabel('Número de pacientes')\n",
        "plt.ylabel('Comorbidades')\n",
        "plt.title('Gráfico 8 - Tipo de Comorbidade x Óbitos');"
      ],
      "execution_count": null,
      "outputs": [
        {
          "output_type": "display_data",
          "data": {
            "image/png": "[encoded data removed]",
            "text/plain": [
              "<Figure size 432x288 with 1 Axes>"
            ]
          },
          "metadata": {
            "tags": [],
            "needs_background": "light"
          }
        }
      ]
    },
    {
      "cell_type": "markdown",
      "metadata": {
        "id": "xA3pV_8waBO3",
        "colab_type": "text"
      },
      "source": [
        "##Análise temporal\n",
        "\n",
        "Em relação a quantidade de infectados, a análise dos dados sugere ainda uma tendência de crescimento, concomitante com o crescimento de óbitos, conforme evidenciado nos Gráficos 8 e 9.\n",
        "\n"
      ]
    },
    {
      "cell_type": "code",
      "metadata": {
        "id": "hpsSRo08aF5R",
        "colab_type": "code",
        "colab": {}
      },
      "source": [
        "df8 = df"
      ],
      "execution_count": null,
      "outputs": []
    },
    {
      "cell_type": "code",
      "metadata": {
        "id": "_b-lxRFAcsb8",
        "colab_type": "code",
        "colab": {}
      },
      "source": [
        "df8['Pacientes'] = 1"
      ],
      "execution_count": null,
      "outputs": []
    },
    {
      "cell_type": "code",
      "metadata": {
        "id": "h_mCHlRzf3Br",
        "colab_type": "code",
        "colab": {}
      },
      "source": [
        "df8['Mês'] = df8['Data'].dt.month"
      ],
      "execution_count": null,
      "outputs": []
    },
    {
      "cell_type": "code",
      "metadata": {
        "id": "9UEneKgukeu4",
        "colab_type": "code",
        "colab": {}
      },
      "source": [
        "df8.index = df8['Data Cadastro']"
      ],
      "execution_count": null,
      "outputs": []
    },
    {
      "cell_type": "code",
      "metadata": {
        "id": "JtHp99BVw7Tk",
        "colab_type": "code",
        "colab": {
          "base_uri": "https://localhost:8080/",
          "height": 505
        },
        "outputId": "7797d19f-1103-4e78-db10-21c9beaadda1"
      },
      "source": [
        "df8['Data Cadastro'].value_counts().plot()\n",
        "plt.xlabel(\"Data\")\n",
        "plt.ylabel(\"Número de Infectados\")\n",
        "plt.title('Gráfico 9 - Infecções COVID')\n",
        "df8['Data Cadastro'].value_counts() "
      ],
      "execution_count": null,
      "outputs": [
        {
          "output_type": "execute_result",
          "data": {
            "text/plain": [
              "2020-06-29    2910\n",
              "2020-06-28    2555\n",
              "2020-06-18    2295\n",
              "2020-06-16    2159\n",
              "2020-06-26    2049\n",
              "              ... \n",
              "2020-04-14      10\n",
              "2020-04-08       8\n",
              "2020-03-17       1\n",
              "2020-03-16       1\n",
              "2020-03-01       1\n",
              "Name: Data Cadastro, Length: 108, dtype: int64"
            ]
          },
          "metadata": {
            "tags": []
          },
          "execution_count": 44
        },
        {
          "output_type": "display_data",
          "data": {
            "image/png": "[encoded data removed]",
            "text/plain": [
              "<Figure size 432x288 with 1 Axes>"
            ]
          },
          "metadata": {
            "tags": [],
            "needs_background": "light"
          }
        }
      ]
    },
    {
      "cell_type": "code",
      "metadata": {
        "id": "PZ89JB9Ry9KS",
        "colab_type": "code",
        "colab": {
          "base_uri": "https://localhost:8080/",
          "height": 505
        },
        "outputId": "ec01cff4-7d8e-49bb-b612-50773b46df60"
      },
      "source": [
        "df1['Data Cadastro'].value_counts().plot()\n",
        "plt.xlabel(\"Data\")\n",
        "plt.ylabel(\"Número de óbitos\")\n",
        "plt.title('Gráfico 10 - Óbitos COVID')\n",
        "df1['Data Cadastro'].value_counts() \n",
        "\n"
      ],
      "execution_count": 47,
      "outputs": [
        {
          "output_type": "execute_result",
          "data": {
            "text/plain": [
              "2020-06-23    21\n",
              "2020-06-30    19\n",
              "2020-06-22    19\n",
              "2020-06-15    18\n",
              "2020-05-31    17\n",
              "              ..\n",
              "2020-04-12     1\n",
              "2020-04-23     1\n",
              "2020-04-19     1\n",
              "2020-05-01     1\n",
              "2020-04-13     1\n",
              "Name: Data Cadastro, Length: 79, dtype: int64"
            ]
          },
          "metadata": {
            "tags": []
          },
          "execution_count": 47
        },
        {
          "output_type": "display_data",
          "data": {
            "image/png": "[encoded data removed]",
            "text/plain": [
              "<Figure size 432x288 with 1 Axes>"
            ]
          },
          "metadata": {
            "tags": [],
            "needs_background": "light"
          }
        }
      ]
    },
    {
      "cell_type": "markdown",
      "metadata": {
        "id": "lJbbMzdK75qM",
        "colab_type": "text"
      },
      "source": [
        "##Conclusões\n",
        "No recente cenário de pandemia mundial, Brasília também se encontra em número crescente de infectados e óbitos.\n",
        "\n",
        "Nesse estudo, observamos que o número de óbitos é maior entre os que possuem comorbidades (88%) e apesar do fato de a faixa Etária dos infectados com idade acima de 60 anos representar 10% dos infectados totais, eles representam 72% dos óbitos.\n",
        "\n",
        "Também observou-se que apesar dos números de infectados serem semelhantes entre homens e mulheres, os homens vão mais a óbito, representando 59% dos falecimentos.\n",
        "\n",
        "Dentre as comorbidades que estão mais relacionadas com os óbitos estão a Cardiovasculopatia e os Distúrbios Metabólicos.\n",
        "\n",
        "Nota-se também que há grande quantidade de \"Estados de saúde\" não informados, aproximadamente 29% dos pacientes, podendo indicar subnotificação.\n",
        "\n",
        "Este estudo monstrar algumas análises que pode-se extrair dos dados brutos abertos disponibilizados pelo Governo do Distrito Federal.\n",
        "\n",
        "As análises serão atualizadas semanalmente."
      ]
    },
    {
      "cell_type": "markdown",
      "metadata": {
        "id": "_cpUPKxc97R5",
        "colab_type": "text"
      },
      "source": [
        "Carmen Scartezini, Accountant & Data Science Student."
      ]
    },
    {
      "cell_type": "code",
      "metadata": {
        "id": "k1JwyC8U-HF5",
        "colab_type": "code",
        "colab": {}
      },
      "source": [
        ""
      ],
      "execution_count": null,
      "outputs": []
    }
  ]
}