{
  "nbformat": 4,
  "nbformat_minor": 0,
  "metadata": {
    "colab": {
      "name": "analisecovidbsb.ipynb",
      "provenance": [],
      "collapsed_sections": [],
      "authorship_tag": "ABX9TyPi00YfpmGYhZ9mBuGqqdYS",
      "include_colab_link": true
    },
    "kernelspec": {
      "name": "python3",
      "display_name": "Python 3"
    }
  },
  "cells": [
    {
      "cell_type": "markdown",
      "metadata": {
        "id": "view-in-github",
        "colab_type": "text"
      },
      "source": [
        "<a href=\"https://colab.research.google.com/github/carmenscar/Mind_lab_data/blob/master/analisecovidbsb.ipynb\" target=\"_parent\"><img src=\"https://colab.research.google.com/assets/colab-badge.svg\" alt=\"Open In Colab\"/></a>"
      ]
    },
    {
      "cell_type": "code",
      "metadata": {
        "id": "Nrk3U5Fmb9i9",
        "colab_type": "code",
        "colab": {}
      },
      "source": [
        "import pandas as pd\n",
        "import numpy as np\n",
        "import pandas_profiling\n",
        "import matplotlib.pyplot as plt\n",
        "import seaborn as sns\n",
        "import datetime as dt\n"
      ],
      "execution_count": null,
      "outputs": []
    },
    {
      "cell_type": "markdown",
      "metadata": {
        "id": "ocUsxlXrd1Pf",
        "colab_type": "text"
      },
      "source": [
        "#Análise dos dados - COVID - Brasília\n",
        "**ÚLTIMA ATUALIZAÇÃO 19/08/2020**\n",
        "\n",
        "O Distrito Federal foi um dos entes da federação que começaram cedo com as medidas de isolamento social. \n",
        "\n",
        "Passados 4 meses desde o primeiro caso de covid na capital, em agosto, Brasília tem forte queda nas taxas de isolamento social.\n",
        "\n",
        "O governo julga seguro a retomada das atividades e está gradativamente liberando a reabertura, com algumas restrições, do comércio essencial, dos parques, dos clubes e das igrejas, deixando por último a reabertura de bares, restaurantes e academias, consideradas atividades não essenciais.\n",
        "\n",
        "Diante do cenário, analisaremos os dados sobre o **corona vírus** e veremos quais informações podemos extrair dos dados brutos disponibilizados pelo governo do Distrito Federal.\n",
        "\n",
        "O estudo será atualizado semanalmente.\n"
      ]
    },
    {
      "cell_type": "markdown",
      "metadata": {
        "id": "4_bt0fukdtVS",
        "colab_type": "text"
      },
      "source": [
        ""
      ]
    },
    {
      "cell_type": "markdown",
      "metadata": {
        "id": "aWNchH6ljZIS",
        "colab_type": "text"
      },
      "source": [
        "##Obtenção de dados\n",
        "Os utilizados na presente análise foram extraídos do [site do GDF](https://covid19.ssp.df.gov.br/extensions/covid19/covid19.html#/) destinado às informações referentes ao **COVID**."
      ]
    },
    {
      "cell_type": "code",
      "metadata": {
        "id": "IOy-xEhyin2r",
        "colab_type": "code",
        "colab": {}
      },
      "source": [
        "import pandas as pd\n",
        "import matplotlib.pyplot as plt\n",
        "import seaborn as sns\n",
        "import seaborn as sns\n",
        "import datetime as dt\n",
        "\n",
        "%matplotlib inline"
      ],
      "execution_count": null,
      "outputs": []
    },
    {
      "cell_type": "code",
      "metadata": {
        "id": "2_3iJrzRv0NQ",
        "colab_type": "code",
        "colab": {}
      },
      "source": [
        "df = pd.read_excel('/content/dados-abertos.xlsx')"
      ],
      "execution_count": null,
      "outputs": []
    },
    {
      "cell_type": "markdown",
      "metadata": {
        "id": "BLY2k8soqXF1",
        "colab_type": "text"
      },
      "source": [
        "## Dicionário de variáveis\n",
        "* id - número gerado para identificar o paciente\n",
        "* Sexo - gênero do paciente\n",
        "* Faixa etária - faixa de idade do paciente\n",
        "* Estado de saúde - estado que se encontra o paciente identificado\n",
        "* Comorbidade - identifica se o paciente possui comorbidades\n",
        "* RA - Região Administrativa\n",
        "* Data - data de importação dos dados\n",
        "* Data Cadastro - data do cadastramento ou atualização dos dados do paciente\n",
        "* dataPrimeirosintoma - Data que o paciente apresentou o primeiro sintoma da doença.\n",
        "\n",
        "Dentre as comorbidades, são identificadas em variáveis separadas: Pneumopatia, Nefropatia, Doença Hematológica, Distúrbios metabólicos, Imunopressão, Obesidade, Cardiovasculopatia e Outros."
      ]
    },
    {
      "cell_type": "markdown",
      "metadata": {
        "id": "C9xH4s1pwT1T",
        "colab_type": "text"
      },
      "source": [
        "### A seguir, observemos um pedaço-resumo do dataframe, analisando as 5 primeiras entradas:"
      ]
    },
    {
      "cell_type": "code",
      "metadata": {
        "id": "UrfznVmVwhmm",
        "colab_type": "code",
        "colab": {
          "base_uri": "https://localhost:8080/",
          "height": 317
        },
        "outputId": "a5047365-6407-481b-dbc2-aca3cf15869c"
      },
      "source": [
        "df.head(5)"
      ],
      "execution_count": null,
      "outputs": [
        {
          "output_type": "execute_result",
          "data": {
            "text/html": [
              "<div>\n",
              "<style scoped>\n",
              "    .dataframe tbody tr th:only-of-type {\n",
              "        vertical-align: middle;\n",
              "    }\n",
              "\n",
              "    .dataframe tbody tr th {\n",
              "        vertical-align: top;\n",
              "    }\n",
              "\n",
              "    .dataframe thead th {\n",
              "        text-align: right;\n",
              "    }\n",
              "</style>\n",
              "<table border=\"1\" class=\"dataframe\">\n",
              "  <thead>\n",
              "    <tr style=\"text-align: right;\">\n",
              "      <th></th>\n",
              "      <th>Data</th>\n",
              "      <th>Data Cadastro</th>\n",
              "      <th>Sexo</th>\n",
              "      <th>Faixa Etária</th>\n",
              "      <th>RA</th>\n",
              "      <th>UF</th>\n",
              "      <th>Óbito</th>\n",
              "      <th>dataPrimeirosintomas</th>\n",
              "      <th>Comorbidade</th>\n",
              "      <th>Pneumopatia</th>\n",
              "      <th>Nefropatia</th>\n",
              "      <th>Doença Hematológica</th>\n",
              "      <th>Distúrbios Metabólicos</th>\n",
              "      <th>Imunossupressão</th>\n",
              "      <th>Obesidade</th>\n",
              "      <th>Outros</th>\n",
              "      <th>Cardiovasculopatia</th>\n",
              "    </tr>\n",
              "  </thead>\n",
              "  <tbody>\n",
              "    <tr>\n",
              "      <th>0</th>\n",
              "      <td>2020-08-19</td>\n",
              "      <td>2020-03-18</td>\n",
              "      <td>Masculino</td>\n",
              "      <td>50 a 59 anos</td>\n",
              "      <td>Plano Piloto</td>\n",
              "      <td>DISTRITO FEDERAL</td>\n",
              "      <td>Não</td>\n",
              "      <td>2020-04-23</td>\n",
              "      <td>NaN</td>\n",
              "      <td>NaN</td>\n",
              "      <td>NaN</td>\n",
              "      <td>NaN</td>\n",
              "      <td>NaN</td>\n",
              "      <td>NaN</td>\n",
              "      <td>NaN</td>\n",
              "      <td>NaN</td>\n",
              "      <td>NaN</td>\n",
              "    </tr>\n",
              "    <tr>\n",
              "      <th>1</th>\n",
              "      <td>2020-08-19</td>\n",
              "      <td>2020-03-18</td>\n",
              "      <td>Masculino</td>\n",
              "      <td>40 a 49 anos</td>\n",
              "      <td>Plano Piloto</td>\n",
              "      <td>DISTRITO FEDERAL</td>\n",
              "      <td>Não</td>\n",
              "      <td>2020-08-03</td>\n",
              "      <td>NaN</td>\n",
              "      <td>NaN</td>\n",
              "      <td>NaN</td>\n",
              "      <td>NaN</td>\n",
              "      <td>NaN</td>\n",
              "      <td>NaN</td>\n",
              "      <td>NaN</td>\n",
              "      <td>NaN</td>\n",
              "      <td>NaN</td>\n",
              "    </tr>\n",
              "    <tr>\n",
              "      <th>2</th>\n",
              "      <td>2020-08-19</td>\n",
              "      <td>2020-03-18</td>\n",
              "      <td>Masculino</td>\n",
              "      <td>40 a 49 anos</td>\n",
              "      <td>Lago Sul</td>\n",
              "      <td>DISTRITO FEDERAL</td>\n",
              "      <td>Não</td>\n",
              "      <td>2020-03-09</td>\n",
              "      <td>NaN</td>\n",
              "      <td>NaN</td>\n",
              "      <td>NaN</td>\n",
              "      <td>NaN</td>\n",
              "      <td>NaN</td>\n",
              "      <td>NaN</td>\n",
              "      <td>NaN</td>\n",
              "      <td>NaN</td>\n",
              "      <td>NaN</td>\n",
              "    </tr>\n",
              "    <tr>\n",
              "      <th>3</th>\n",
              "      <td>2020-08-19</td>\n",
              "      <td>2020-03-18</td>\n",
              "      <td>Masculino</td>\n",
              "      <td>&gt;= 60 anos</td>\n",
              "      <td>Águas Claras</td>\n",
              "      <td>DISTRITO FEDERAL</td>\n",
              "      <td>Não</td>\n",
              "      <td>2020-03-14</td>\n",
              "      <td>Sim</td>\n",
              "      <td>Não</td>\n",
              "      <td>Não</td>\n",
              "      <td>Não</td>\n",
              "      <td>Sim</td>\n",
              "      <td>Não</td>\n",
              "      <td>Não</td>\n",
              "      <td>Não</td>\n",
              "      <td>Sim</td>\n",
              "    </tr>\n",
              "    <tr>\n",
              "      <th>4</th>\n",
              "      <td>2020-08-19</td>\n",
              "      <td>2020-03-18</td>\n",
              "      <td>Feminino</td>\n",
              "      <td>20 a 29 anos</td>\n",
              "      <td>Plano Piloto</td>\n",
              "      <td>DISTRITO FEDERAL</td>\n",
              "      <td>Não</td>\n",
              "      <td>2020-03-14</td>\n",
              "      <td>NaN</td>\n",
              "      <td>NaN</td>\n",
              "      <td>NaN</td>\n",
              "      <td>NaN</td>\n",
              "      <td>NaN</td>\n",
              "      <td>NaN</td>\n",
              "      <td>NaN</td>\n",
              "      <td>NaN</td>\n",
              "      <td>NaN</td>\n",
              "    </tr>\n",
              "  </tbody>\n",
              "</table>\n",
              "</div>"
            ],
            "text/plain": [
              "        Data Data Cadastro       Sexo  ... Obesidade Outros Cardiovasculopatia\n",
              "0 2020-08-19    2020-03-18  Masculino  ...       NaN    NaN                NaN\n",
              "1 2020-08-19    2020-03-18  Masculino  ...       NaN    NaN                NaN\n",
              "2 2020-08-19    2020-03-18  Masculino  ...       NaN    NaN                NaN\n",
              "3 2020-08-19    2020-03-18  Masculino  ...       Não    Não                Sim\n",
              "4 2020-08-19    2020-03-18   Feminino  ...       NaN    NaN                NaN\n",
              "\n",
              "[5 rows x 17 columns]"
            ]
          },
          "metadata": {
            "tags": []
          },
          "execution_count": 5
        }
      ]
    },
    {
      "cell_type": "markdown",
      "metadata": {
        "id": "tbi-yp2OzJQj",
        "colab_type": "text"
      },
      "source": [
        "## Visão geral dos dados\n",
        "\n",
        "Os dados possuem 141.762 entradas e 17 variáveis.\n",
        "Quando observamos os dados da tabela verificamos que existem campos para diferentes comorbidades. \n",
        "\n",
        "Para facilitar a análise, criamos uma entrada denominada \"Comorbidade\" que aponta se há ou não qualquer tipo de comorbidade apresentada pelo paciente, ou se o valor não foi informado.\n",
        "\n",
        "Todas as variáveis, com exceção das datas, são do tipo \"object\", ou seja, do tipo string.\n",
        "\n"
      ]
    },
    {
      "cell_type": "code",
      "metadata": {
        "id": "voE3AiQRzNAL",
        "colab_type": "code",
        "colab": {
          "base_uri": "https://localhost:8080/",
          "height": 390
        },
        "outputId": "00098985-c674-48e0-f017-2ae516a02211"
      },
      "source": [
        "print(\"Entradas:\\t {}\".format(df.shape[0]))\n",
        "print(\"Variáveis:\\t {}\\n\".format(df.shape[1]))\n",
        "\n",
        "display(df.dtypes)"
      ],
      "execution_count": null,
      "outputs": [
        {
          "output_type": "stream",
          "text": [
            "Entradas:\t 141762\n",
            "Variáveis:\t 17\n",
            "\n"
          ],
          "name": "stdout"
        },
        {
          "output_type": "display_data",
          "data": {
            "text/plain": [
              "Data                      datetime64[ns]\n",
              "Data Cadastro             datetime64[ns]\n",
              "Sexo                              object\n",
              "Faixa Etária                      object\n",
              "RA                                object\n",
              "UF                                object\n",
              "Óbito                             object\n",
              "dataPrimeirosintomas      datetime64[ns]\n",
              "Comorbidade                       object\n",
              "Pneumopatia                       object\n",
              "Nefropatia                        object\n",
              "Doença Hematológica               object\n",
              "Distúrbios Metabólicos            object\n",
              "Imunossupressão                   object\n",
              "Obesidade                         object\n",
              "Outros                            object\n",
              "Cardiovasculopatia                object\n",
              "dtype: object"
            ]
          },
          "metadata": {
            "tags": []
          }
        }
      ]
    },
    {
      "cell_type": "markdown",
      "metadata": {
        "id": "uQJ-ScLp2U3_",
        "colab_type": "text"
      },
      "source": [
        "## Nulls\n",
        "A maior parte dos valores em branco se relacionam com as informações sobre Comorbidades do paciente. Observa-se que quando há uma comorbidade, as outras comorbidades listadas são, geralmente, preenchidas com \"sim\" ou \"não\", e na maioria dos casos(91%), não é informado se há ou não comorbidades.\n",
        "\n",
        "Uma hipótese é a de que quando registrada uma comorbidade, se avaliam as outras e se não há comorbidade, os valores ficam em branco.\n",
        "\n",
        "Em relação as informações sobre o estado de saúde do paciente, apesar de não conter valores nulos, a maior parte do valor é dado como \"não informado\"."
      ]
    },
    {
      "cell_type": "code",
      "metadata": {
        "id": "9gX5C73j2iwX",
        "colab_type": "code",
        "colab": {
          "base_uri": "https://localhost:8080/",
          "height": 336
        },
        "outputId": "2da79fce-3a82-4e7a-8249-c8e3d6c7c118"
      },
      "source": [
        "(df.isnull().sum() / df.shape[0]).sort_values(ascending=False)"
      ],
      "execution_count": null,
      "outputs": [
        {
          "output_type": "execute_result",
          "data": {
            "text/plain": [
              "Doença Hematológica       0.997192\n",
              "Nefropatia                0.993644\n",
              "Obesidade                 0.993059\n",
              "Imunossupressão           0.991514\n",
              "Pneumopatia               0.983754\n",
              "Distúrbios Metabólicos    0.968715\n",
              "Cardiovasculopatia        0.954261\n",
              "Outros                    0.913750\n",
              "Comorbidade               0.913750\n",
              "UF                        0.025113\n",
              "Data Cadastro             0.000360\n",
              "dataPrimeirosintomas      0.000000\n",
              "Óbito                     0.000000\n",
              "RA                        0.000000\n",
              "Faixa Etária              0.000000\n",
              "Sexo                      0.000000\n",
              "Data                      0.000000\n",
              "dtype: float64"
            ]
          },
          "metadata": {
            "tags": []
          },
          "execution_count": 9
        }
      ]
    },
    {
      "cell_type": "markdown",
      "metadata": {
        "id": "XtTagBz44_aT",
        "colab_type": "text"
      },
      "source": [
        "## Análise exploratória dos dados\n",
        "\n",
        "### Regiões do DF\n",
        "Ceilândia é a cidade com mais casos de corona vírus, representando aproximadamente 12% dos pacientes diagnosticados. A Região administrativa é seguida em maiores números de casos pelo Plano Piloto,Taguatinga, com aproximadamente 8% e 7% dos casos, respectivamente.\n",
        "\n",
        "As regiões do Pôr do Sol, Candangolândia, Sobradinho II,  Arniqueira, Varjão, SIA e Fercal representam os locais com menos casos. \n",
        "\n",
        "Observa-se que dado ao fato das regiões estarem predominantemente classificadas como regiões de baixa renda, segundo dados da Codeplan 2018, pode haver subnotificação de casos.\n",
        "\n",
        "Segundos os dados da Codeplan(2018), as regiões de classificam da seguinte maneira:\n",
        "\n",
        "• **Grupo 1 (alta renda)**: Plano Piloto, Jardim Botânico, Lago Norte, Lago Sul, Park Way e Sudoeste/Octogonal, com renda domiciliar de R$ 15.622\n",
        "\n",
        "• **Grupo 2 (média-alta renda)**: Águas Claras, Candangolândia, Cruzeiro, Gama, Guará, Núcleo\n",
        "Bandeirante, Sobradinho, Sobradinho II, Taguatinga e Vicente Pires, com renda domiciliar média de R$ 7.266;\n",
        "\n",
        "• **Grupo 3 (média-baixa renda)**: Brazlândia, Ceilândia, Planaltina, Riacho Fundo, Riacho Fundo\n",
        "II, SIA, Samambaia, Santa Maria e São Sebastião, com renda domiciliar média de R$ 3.101;\n",
        "\n",
        "• **Grupo 4 (baixa renda)**: Fercal, Itapoã, Paranoá, Recanto das Emas, SCIA–Estrutural e Varjão, com renda domiciliar média de R$\n",
        "2.472;\n",
        "\n"
      ]
    },
    {
      "cell_type": "code",
      "metadata": {
        "id": "f_QSd3945jE7",
        "colab_type": "code",
        "colab": {
          "base_uri": "https://localhost:8080/",
          "height": 710
        },
        "outputId": "91b220cf-802f-40ef-bf1f-127515f35934"
      },
      "source": [
        "df.RA.value_counts() / df.shape[0]\n"
      ],
      "execution_count": null,
      "outputs": [
        {
          "output_type": "execute_result",
          "data": {
            "text/plain": [
              "Ceilândia                0.119094\n",
              "Plano Piloto             0.081199\n",
              "Taguatinga               0.076396\n",
              "Outros Estados           0.074533\n",
              "Não Informado            0.067726\n",
              "Samambaia                0.062619\n",
              "Gama                     0.047947\n",
              "Águas Claras             0.044532\n",
              "Guará                    0.042437\n",
              "Sobradinho               0.036202\n",
              "Planaltina               0.033048\n",
              "Santa Maria              0.031750\n",
              "São Sebastião            0.026643\n",
              "Recanto das Emas         0.026601\n",
              "Paranoá                  0.023589\n",
              "Entorno DF               0.019878\n",
              "Sudoeste/Octogonal       0.017628\n",
              "Vicente Pires            0.016231\n",
              "Riacho Fundo             0.016217\n",
              "Lago Sul                 0.013727\n",
              "Brazlândia               0.013191\n",
              "Sistema Penitenciário    0.012479\n",
              "Riacho Fundo II          0.011752\n",
              "Itapoã                   0.011696\n",
              "Jardim Botânico          0.009890\n",
              "Lago Norte               0.009262\n",
              "Cruzeiro                 0.009043\n",
              "Núcleo Bandeirante       0.008077\n",
              "SCIA                     0.007019\n",
              "Park Way                 0.006292\n",
              "Sobradinho II            0.006123\n",
              "Candangolândia           0.005975\n",
              "Pôr do Sol               0.005023\n",
              "Arniqueira               0.003492\n",
              "Varjão                   0.001538\n",
              "Fercal                   0.000677\n",
              "SIA                      0.000459\n",
              "Candangolandia           0.000014\n",
              "Name: RA, dtype: float64"
            ]
          },
          "metadata": {
            "tags": []
          },
          "execution_count": 10
        }
      ]
    },
    {
      "cell_type": "markdown",
      "metadata": {
        "id": "saIc7n71V-uZ",
        "colab_type": "text"
      },
      "source": [
        "###Gênero\n",
        "Em relação ao gênero dos paciêntes com Covid, observa-se que não há diferença de gênero em relação a quantidade de infectados, sendo aproximadamente 53% dos infectadosdo sexo feminino e 47% do sexo masculino, conforme o Gráfico 1."
      ]
    },
    {
      "cell_type": "code",
      "metadata": {
        "id": "vibDhfwIjPdJ",
        "colab_type": "code",
        "colab": {
          "base_uri": "https://localhost:8080/",
          "height": 354
        },
        "outputId": "adc563e7-beec-4454-cd41-2bee156f9c48"
      },
      "source": [
        "sns.set()\n",
        "sns.countplot(df['Sexo'])\n",
        "plt.title('Gráfico 1 - Infectados X gênero')\n",
        "plt.show()\n",
        "df.Sexo.value_counts() / df.shape[0]"
      ],
      "execution_count": null,
      "outputs": [
        {
          "output_type": "display_data",
          "data": {
            "image/png": "[encoded data removed]",
            "text/plain": [
              "<Figure size 432x288 with 1 Axes>"
            ]
          },
          "metadata": {
            "tags": []
          }
        },
        {
          "output_type": "execute_result",
          "data": {
            "text/plain": [
              "Feminino     0.532858\n",
              "Masculino    0.467142\n",
              "Name: Sexo, dtype: float64"
            ]
          },
          "metadata": {
            "tags": []
          },
          "execution_count": 11
        }
      ]
    },
    {
      "cell_type": "markdown",
      "metadata": {
        "id": "psv7g_-pWd0h",
        "colab_type": "text"
      },
      "source": [
        "##Faixa Etária\n",
        "A análise da faixa etária nos demonstra que há menor número de casos notificados entre os menores de 19 anos e maiores de 60 anos. Portanto, o maior número de infecções fica por dentro dessa faixa etária, conforme observado no Gráfico 2.\n"
      ]
    },
    {
      "cell_type": "code",
      "metadata": {
        "id": "X3qRxVRyJ2YC",
        "colab_type": "code",
        "colab": {
          "base_uri": "https://localhost:8080/",
          "height": 514
        },
        "outputId": "b05d4f8c-c55c-4763-8338-a6ab296f8aac"
      },
      "source": [
        "\n",
        "sns.set()\n",
        "plt.figure(figsize=(10,5))\n",
        "df['Faixa Etária'].value_counts().plot(kind='bar')\n",
        "plt.xlabel('faixa etária dos pacientes')\n",
        "plt.ylabel('quantidade de pacientes')\n",
        "plt.title('Gráfico 2 - Quantidade de infectados por Faixa Etária')\n",
        "plt.xticks(rotation=30)\n",
        "df['Faixa Etária'].value_counts() / df.shape[0]\n"
      ],
      "execution_count": null,
      "outputs": [
        {
          "output_type": "execute_result",
          "data": {
            "text/plain": [
              "30 a 39 anos    0.268781\n",
              "40 a 49 anos    0.222387\n",
              "20 a 29 anos    0.184302\n",
              "50 a 59 anos    0.138521\n",
              ">= 60 anos      0.115511\n",
              "<= 19 anos      0.070498\n",
              "Name: Faixa Etária, dtype: float64"
            ]
          },
          "metadata": {
            "tags": []
          },
          "execution_count": 12
        },
        {
          "output_type": "display_data",
          "data": {
            "image/png": "[encoded data removed]",
            "text/plain": [
              "<Figure size 720x360 with 1 Axes>"
            ]
          },
          "metadata": {
            "tags": []
          }
        }
      ]
    },
    {
      "cell_type": "markdown",
      "metadata": {
        "id": "y12CI82xWbmV",
        "colab_type": "text"
      },
      "source": [
        "##Estado de saúde\n",
        "No decorrer da análise, a estrutura disponibilizada pelo governo do GDF foi alterada. \n",
        "Havia uma variável chamada \"Estado de Saúde\", que mostrava se havia óbito ou se o paciente estava recuperado. Dessa variável, 20% dos valores não eram informados.\n",
        "\n",
        "O novo dataframe veio com uma coluna chamada \"Óbito\", não havendo mais a separação por estado de saúde (recuperado ou óbito).\n",
        "\n",
        "Além disso, houve a inclusão da variável \"Dia dos primeiros sintomas\".\n"
      ]
    },
    {
      "cell_type": "code",
      "metadata": {
        "id": "Y7UzfnJwOduy",
        "colab_type": "code",
        "colab": {
          "base_uri": "https://localhost:8080/",
          "height": 301
        },
        "outputId": "869894b4-a9d4-4f8e-edb5-da1ee7e5c05c"
      },
      "source": [
        "sns.set()\n",
        "sns.countplot(df['Óbito'])\n",
        "plt.xlabel('Paciente veio a óbito?')\n",
        "plt.ylabel('quantidade de pacientes')\n",
        "plt.title('Gráfico 3 - Quantidade de óbitos')\n",
        "plt.xticks(rotation=0)\n",
        "plt.show()"
      ],
      "execution_count": null,
      "outputs": [
        {
          "output_type": "display_data",
          "data": {
            "image/png": "[encoded data removed]",
            "text/plain": [
              "<Figure size 432x288 with 1 Axes>"
            ]
          },
          "metadata": {
            "tags": []
          }
        }
      ]
    },
    {
      "cell_type": "code",
      "metadata": {
        "id": "cMwCZAXq_jPZ",
        "colab_type": "code",
        "colab": {
          "base_uri": "https://localhost:8080/",
          "height": 70
        },
        "outputId": "f5d960dd-26b5-4dbb-e081-cad272196745"
      },
      "source": [
        "df['Óbito'].value_counts() / df['Óbito'].shape[0]"
      ],
      "execution_count": null,
      "outputs": [
        {
          "output_type": "execute_result",
          "data": {
            "text/plain": [
              "Não    0.984848\n",
              "Sim    0.015152\n",
              "Name: Óbito, dtype: float64"
            ]
          },
          "metadata": {
            "tags": []
          },
          "execution_count": 14
        }
      ]
    },
    {
      "cell_type": "markdown",
      "metadata": {
        "id": "VmgGehuPaMdt",
        "colab_type": "text"
      },
      "source": [
        "##Óbitos\n",
        "Observa-se que o número de óbitos é maior no sexo masculino, representando 1.278 óbitos de homens (59%) de 2.148 óbitos, em 19 de agosto,apesar das mulheres serem 53% dos pacientes infectados, ou seja, mesmo havendo um maior número de mulheres infectadas quando comparado ao número de homens infectados, estes vêm mais a óbito.\n",
        "\n",
        "No gráfico de faixa etária do sexo masculino, há um menor número de homens com idade entre >= 60 anos quando comparado ao número de mulheres, aproximadamente 70% do total. As mulheres nessa faixa etária representam 77% total, conforme evidenciado nos Gráficos 4 e 5.\n",
        "\n",
        "Dessa forma, os homens mesmo sendo mais jovens, vêm mais à óbito, representando 59% do total de óbitos. Essa situação merece uma maior investigação.\n",
        "\n",
        "Observa-se também que apesar dos idosos (pacientes > 60 anos) serem apenas 11% dos pacientes infectados(Gráfico 2), estes representam aproximadamente 73% dos óbitos, mostrando que há um **alto risco de mortalidade** nessa faixa etária, conforme evidenciado no Gráfico 6."
      ]
    },
    {
      "cell_type": "code",
      "metadata": {
        "id": "ONz5n8kgSk1-",
        "colab_type": "code",
        "colab": {}
      },
      "source": [
        "df1 = df[df[\"Óbito\"] == \"Sim\"]"
      ],
      "execution_count": null,
      "outputs": []
    },
    {
      "cell_type": "code",
      "metadata": {
        "id": "uJUzrbMlxywG",
        "colab_type": "code",
        "colab": {
          "base_uri": "https://localhost:8080/",
          "height": 70
        },
        "outputId": "57b15783-32ae-4d56-a84f-788bdc292abf"
      },
      "source": [
        "df1.Sexo.value_counts()"
      ],
      "execution_count": null,
      "outputs": [
        {
          "output_type": "execute_result",
          "data": {
            "text/plain": [
              "Masculino    1278\n",
              "Feminino      870\n",
              "Name: Sexo, dtype: int64"
            ]
          },
          "metadata": {
            "tags": []
          },
          "execution_count": 16
        }
      ]
    },
    {
      "cell_type": "code",
      "metadata": {
        "id": "xLVzu1tIgUy_",
        "colab_type": "code",
        "colab": {
          "base_uri": "https://localhost:8080/",
          "height": 70
        },
        "outputId": "70511d01-d63e-48f8-ae6b-36afe9e1d4b7"
      },
      "source": [
        "df1.Sexo.value_counts() / df1.Sexo.shape[0]"
      ],
      "execution_count": null,
      "outputs": [
        {
          "output_type": "execute_result",
          "data": {
            "text/plain": [
              "Masculino    0.594972\n",
              "Feminino     0.405028\n",
              "Name: Sexo, dtype: float64"
            ]
          },
          "metadata": {
            "tags": []
          },
          "execution_count": 17
        }
      ]
    },
    {
      "cell_type": "code",
      "metadata": {
        "id": "sTkfkr1fkZHd",
        "colab_type": "code",
        "colab": {}
      },
      "source": [
        "df9 = df1[df1[\"Sexo\"] == \"Feminino\"]"
      ],
      "execution_count": null,
      "outputs": []
    },
    {
      "cell_type": "code",
      "metadata": {
        "id": "KsV-4DolkqVC",
        "colab_type": "code",
        "colab": {
          "base_uri": "https://localhost:8080/",
          "height": 141
        },
        "outputId": "907dd941-176b-437c-9f23-988a91da476f"
      },
      "source": [
        "df9['Faixa Etária'].value_counts() / df9['Faixa Etária'].shape[0]"
      ],
      "execution_count": null,
      "outputs": [
        {
          "output_type": "execute_result",
          "data": {
            "text/plain": [
              ">= 60 anos      0.770115\n",
              "50 a 59 anos    0.118391\n",
              "40 a 49 anos    0.063218\n",
              "30 a 39 anos    0.032184\n",
              "20 a 29 anos    0.011494\n",
              "<= 19 anos      0.004598\n",
              "Name: Faixa Etária, dtype: float64"
            ]
          },
          "metadata": {
            "tags": []
          },
          "execution_count": 19
        }
      ]
    },
    {
      "cell_type": "code",
      "metadata": {
        "id": "-x_rT0q0k59A",
        "colab_type": "code",
        "colab": {
          "base_uri": "https://localhost:8080/",
          "height": 141
        },
        "outputId": "0542c39f-89a6-4cb2-b342-63635803aec3"
      },
      "source": [
        "df10 = df1[df1[\"Sexo\"] == \"Masculino\"]\n",
        "df10['Faixa Etária'].value_counts() / df10['Faixa Etária'].shape[0]"
      ],
      "execution_count": null,
      "outputs": [
        {
          "output_type": "execute_result",
          "data": {
            "text/plain": [
              ">= 60 anos      0.703443\n",
              "50 a 59 anos    0.154147\n",
              "40 a 49 anos    0.093897\n",
              "30 a 39 anos    0.037559\n",
              "20 a 29 anos    0.010172\n",
              "<= 19 anos      0.000782\n",
              "Name: Faixa Etária, dtype: float64"
            ]
          },
          "metadata": {
            "tags": []
          },
          "execution_count": 20
        }
      ]
    },
    {
      "cell_type": "code",
      "metadata": {
        "id": "it5kBJkcXYIQ",
        "colab_type": "code",
        "colab": {
          "base_uri": "https://localhost:8080/",
          "height": 507
        },
        "outputId": "fa429d57-4d44-4c55-d4bf-cc07ded85bdb"
      },
      "source": [
        "graf7 = pd.concat([(df10['Faixa Etária']).value_counts(), (df9['Faixa Etária']).value_counts()],axis=1).plot.bar(figsize=(10,7))\n",
        "graf7.legend([\"Faixa etária - sexo masculino\", \"Faixa etária - sexo feminino\"])\n",
        "graf7.set_title('Gráfico 4 - Faixa Etária X Óbitos');"
      ],
      "execution_count": null,
      "outputs": [
        {
          "output_type": "display_data",
          "data": {
            "image/png": "[encoded data removed]",
            "text/plain": [
              "<Figure size 720x504 with 1 Axes>"
            ]
          },
          "metadata": {
            "tags": []
          }
        }
      ]
    },
    {
      "cell_type": "code",
      "metadata": {
        "id": "y5te_vDIZiQL",
        "colab_type": "code",
        "colab": {
          "base_uri": "https://localhost:8080/",
          "height": 354
        },
        "outputId": "15b8f87d-6315-4985-d2b3-2c0f8115174f"
      },
      "source": [
        "sns.set()\n",
        "plt.figure(figsize=(10,5))\n",
        "df1['Faixa Etária'].value_counts().plot(kind='bar')\n",
        "plt.xlabel('faixa etária dos pacientes')\n",
        "plt.ylabel('quantidade óbitos')\n",
        "plt.title('Gráfico 5 - Faixa Etária x Óbitos');\n",
        "plt.xticks(rotation=0)\n",
        "df1['Faixa Etária'].value_counts() / df1['Faixa Etária'].shape[0]\n",
        "plt.show()"
      ],
      "execution_count": null,
      "outputs": [
        {
          "output_type": "display_data",
          "data": {
            "image/png": "[encoded data removed]",
            "text/plain": [
              "<Figure size 720x360 with 1 Axes>"
            ]
          },
          "metadata": {
            "tags": []
          }
        }
      ]
    },
    {
      "cell_type": "code",
      "metadata": {
        "id": "iV_y3kmG92Ln",
        "colab_type": "code",
        "colab": {
          "base_uri": "https://localhost:8080/",
          "height": 141
        },
        "outputId": "d244eadf-857d-42c2-9d69-645823accb32"
      },
      "source": [
        "df1['Faixa Etária'].value_counts() / df1['Faixa Etária'].shape[0]"
      ],
      "execution_count": null,
      "outputs": [
        {
          "output_type": "execute_result",
          "data": {
            "text/plain": [
              ">= 60 anos      0.730447\n",
              "50 a 59 anos    0.139665\n",
              "40 a 49 anos    0.081471\n",
              "30 a 39 anos    0.035382\n",
              "20 a 29 anos    0.010708\n",
              "<= 19 anos      0.002328\n",
              "Name: Faixa Etária, dtype: float64"
            ]
          },
          "metadata": {
            "tags": []
          },
          "execution_count": 23
        }
      ]
    },
    {
      "cell_type": "markdown",
      "metadata": {
        "id": "xdjvpoHrhQyy",
        "colab_type": "text"
      },
      "source": [
        "##Comorbidades X Óbitos\n",
        "Em relação aos óbitos, o Gráfico 7 demonstra que aproximadamente 85% dos pacientes que vieram a falecer possuiam algum tipo de comorbidade.\n",
        "\n",
        "A análise ainda mostra que a maioria sofria das comorbidades do tipo \"Distúrbios Metabólicos\" e \"Cardiovasculopatia\",  conforme observado no Gráfico 8.\n",
        "\n",
        "Cumpre destacar que esses pacientes podiam possuir 1 ou mais tipos de comorbidades."
      ]
    },
    {
      "cell_type": "code",
      "metadata": {
        "id": "L5Ru0lzHZyR2",
        "colab_type": "code",
        "colab": {}
      },
      "source": [
        "df2 = df1[df1[\"Comorbidade\"] == \"Sim\"]"
      ],
      "execution_count": null,
      "outputs": []
    },
    {
      "cell_type": "code",
      "metadata": {
        "id": "KVV2if1LahaJ",
        "colab_type": "code",
        "colab": {
          "base_uri": "https://localhost:8080/",
          "height": 105
        },
        "outputId": "d75c5a84-dc46-4773-97c0-77f4a3a77a2f"
      },
      "source": [
        "df12 = df1\n",
        "df12['Comorbidade'].fillna(\"Não Informado\", inplace=True);"
      ],
      "execution_count": null,
      "outputs": [
        {
          "output_type": "stream",
          "text": [
            "/usr/local/lib/python3.6/dist-packages/pandas/core/generic.py:6245: SettingWithCopyWarning: \n",
            "A value is trying to be set on a copy of a slice from a DataFrame\n",
            "\n",
            "See the caveats in the documentation: https://pandas.pydata.org/pandas-docs/stable/user_guide/indexing.html#returning-a-view-versus-a-copy\n",
            "  self._update_inplace(new_data)\n"
          ],
          "name": "stderr"
        }
      ]
    },
    {
      "cell_type": "code",
      "metadata": {
        "id": "IJ2QuTLVc28T",
        "colab_type": "code",
        "colab": {
          "base_uri": "https://localhost:8080/",
          "height": 70
        },
        "outputId": "c6f6177b-a291-4124-80d1-ee9bcb16bf1e"
      },
      "source": [
        "df12['Comorbidade'].value_counts()\n"
      ],
      "execution_count": null,
      "outputs": [
        {
          "output_type": "execute_result",
          "data": {
            "text/plain": [
              "Sim              1838\n",
              "Não Informado     310\n",
              "Name: Comorbidade, dtype: int64"
            ]
          },
          "metadata": {
            "tags": []
          },
          "execution_count": 27
        }
      ]
    },
    {
      "cell_type": "code",
      "metadata": {
        "id": "IrwYSuWl_0dJ",
        "colab_type": "code",
        "colab": {
          "base_uri": "https://localhost:8080/",
          "height": 70
        },
        "outputId": "28a50859-56a7-4b8d-d587-05b0fb576fe4"
      },
      "source": [
        "df12['Comorbidade'].value_counts() / df12['Comorbidade'].shape[0]"
      ],
      "execution_count": null,
      "outputs": [
        {
          "output_type": "execute_result",
          "data": {
            "text/plain": [
              "Sim              0.85568\n",
              "Não Informado    0.14432\n",
              "Name: Comorbidade, dtype: float64"
            ]
          },
          "metadata": {
            "tags": []
          },
          "execution_count": 28
        }
      ]
    },
    {
      "cell_type": "code",
      "metadata": {
        "id": "vTWpFRAmclLD",
        "colab_type": "code",
        "colab": {
          "base_uri": "https://localhost:8080/",
          "height": 354
        },
        "outputId": "5700e9ba-0bae-4b50-98fa-b3a3329a03a9"
      },
      "source": [
        "sns.set()\n",
        "sns.countplot(df12['Comorbidade'])\n",
        "plt.xlabel('Possui comorbidades?')\n",
        "plt.ylabel('quantidade óbitos')\n",
        "plt.title('Gráfico 6 - Comorbidade x Óbitos')\n",
        "plt.show();\n",
        "df12.Comorbidade.value_counts()/df12.Comorbidade.shape[0]\n"
      ],
      "execution_count": null,
      "outputs": [
        {
          "output_type": "display_data",
          "data": {
            "image/png": "[encoded data removed]",
            "text/plain": [
              "<Figure size 432x288 with 1 Axes>"
            ]
          },
          "metadata": {
            "tags": []
          }
        },
        {
          "output_type": "execute_result",
          "data": {
            "text/plain": [
              "Sim              0.85568\n",
              "Não Informado    0.14432\n",
              "Name: Comorbidade, dtype: float64"
            ]
          },
          "metadata": {
            "tags": []
          },
          "execution_count": 30
        }
      ]
    },
    {
      "cell_type": "code",
      "metadata": {
        "id": "O5Su3SG3aGVD",
        "colab_type": "code",
        "colab": {}
      },
      "source": [
        "df3 = ((df12.iloc[:,8:]).fillna(\"Não\"))"
      ],
      "execution_count": null,
      "outputs": []
    },
    {
      "cell_type": "code",
      "metadata": {
        "id": "JlVuX_E0dqWb",
        "colab_type": "code",
        "colab": {}
      },
      "source": [
        "df3 = df3.replace([\"Sim\"],1)"
      ],
      "execution_count": null,
      "outputs": []
    },
    {
      "cell_type": "code",
      "metadata": {
        "id": "iAt3od0IdQvC",
        "colab_type": "code",
        "colab": {}
      },
      "source": [
        "df3 = df3.replace(['Não'], 0)"
      ],
      "execution_count": null,
      "outputs": []
    },
    {
      "cell_type": "code",
      "metadata": {
        "id": "LcSs7acWfD82",
        "colab_type": "code",
        "colab": {}
      },
      "source": [
        "df3 = df3.replace(['Não Informado'], 0)"
      ],
      "execution_count": null,
      "outputs": []
    },
    {
      "cell_type": "code",
      "metadata": {
        "id": "CYayhYH3eJkx",
        "colab_type": "code",
        "colab": {
          "base_uri": "https://localhost:8080/",
          "height": 194
        },
        "outputId": "a218e431-9a2e-439d-c0de-5dacfaad0e77"
      },
      "source": [
        "df3.sum()"
      ],
      "execution_count": null,
      "outputs": [
        {
          "output_type": "execute_result",
          "data": {
            "text/plain": [
              "Comorbidade               1838\n",
              "Pneumopatia                276\n",
              "Nefropatia                 198\n",
              "Doença Hematológica         12\n",
              "Distúrbios Metabólicos     871\n",
              "Imunossupressão            173\n",
              "Obesidade                  241\n",
              "Outros                     290\n",
              "Cardiovasculopatia        1320\n",
              "dtype: int64"
            ]
          },
          "metadata": {
            "tags": []
          },
          "execution_count": 35
        }
      ]
    },
    {
      "cell_type": "code",
      "metadata": {
        "id": "-oX1gTGJS6HE",
        "colab_type": "code",
        "colab": {
          "base_uri": "https://localhost:8080/",
          "height": 356
        },
        "outputId": "55598e13-2dd3-49ac-e43b-6881beb5cea9"
      },
      "source": [
        "disease = ['Pneumopatia', 'Nefropatia', 'Doença Hematológica',\n",
        "       'Distúrbios Metabólicos', 'Imunossupressão', 'Obesidade', 'Outros',\n",
        "       'Cardiovasculopatia']\n",
        "n_disease = [276,198,12,871,173,241,290,1320]\n",
        "\n",
        "sns.set()\n",
        "plt.figure(figsize=(10,5))\n",
        "plt.barh(disease, n_disease);\n",
        "plt.xlabel('Número de pacientes')\n",
        "plt.ylabel('Comorbidades')\n",
        "plt.title('Gráfico 7 - Tipo de Comorbidade x Óbitos');"
      ],
      "execution_count": null,
      "outputs": [
        {
          "output_type": "display_data",
          "data": {
            "image/png": "[encoded data removed]",
            "text/plain": [
              "<Figure size 720x360 with 1 Axes>"
            ]
          },
          "metadata": {
            "tags": []
          }
        }
      ]
    },
    {
      "cell_type": "markdown",
      "metadata": {
        "id": "xA3pV_8waBO3",
        "colab_type": "text"
      },
      "source": [
        "##Análise temporal\n",
        "\n",
        "Em relação a quantidade de infectados, a análise dos dados sugere ainda uma tendência de crescimento, concomitante com o crescimento de óbitos, conforme evidenciado nos Gráficos 9 e 10.\n",
        "\n"
      ]
    },
    {
      "cell_type": "code",
      "metadata": {
        "id": "hpsSRo08aF5R",
        "colab_type": "code",
        "colab": {}
      },
      "source": [
        "df8 = df"
      ],
      "execution_count": null,
      "outputs": []
    },
    {
      "cell_type": "code",
      "metadata": {
        "id": "_b-lxRFAcsb8",
        "colab_type": "code",
        "colab": {}
      },
      "source": [
        "df8['Pacientes'] = 1"
      ],
      "execution_count": null,
      "outputs": []
    },
    {
      "cell_type": "code",
      "metadata": {
        "id": "h_mCHlRzf3Br",
        "colab_type": "code",
        "colab": {}
      },
      "source": [
        "df8['Mês'] = df8['Data'].dt.month"
      ],
      "execution_count": null,
      "outputs": []
    },
    {
      "cell_type": "code",
      "metadata": {
        "id": "9UEneKgukeu4",
        "colab_type": "code",
        "colab": {}
      },
      "source": [
        "df8.index = df8['Data Cadastro']"
      ],
      "execution_count": null,
      "outputs": []
    },
    {
      "cell_type": "code",
      "metadata": {
        "id": "JtHp99BVw7Tk",
        "colab_type": "code",
        "colab": {
          "base_uri": "https://localhost:8080/",
          "height": 563
        },
        "outputId": "d92f4b91-7e65-4cff-dad0-1a2dba956e9a"
      },
      "source": [
        "sns.set()\n",
        "plt.figure(figsize=(10,5))\n",
        "df8['Data Cadastro'].value_counts().plot()\n",
        "plt.xlabel(\"Data\")\n",
        "plt.ylabel(\"Número de Infectados\")\n",
        "plt.title('Gráfico 8 - Infecções COVID')\n",
        "df8['Data Cadastro'].value_counts() "
      ],
      "execution_count": null,
      "outputs": [
        {
          "output_type": "execute_result",
          "data": {
            "text/plain": [
              "2020-08-10    3073\n",
              "2020-07-06    2847\n",
              "2020-06-29    2816\n",
              "2020-07-23    2655\n",
              "2020-06-28    2528\n",
              "              ... \n",
              "2020-04-14      10\n",
              "2020-04-08       8\n",
              "2020-03-01       1\n",
              "2020-03-16       1\n",
              "2020-03-17       1\n",
              "Name: Data Cadastro, Length: 158, dtype: int64"
            ]
          },
          "metadata": {
            "tags": []
          },
          "execution_count": 43
        },
        {
          "output_type": "display_data",
          "data": {
            "image/png": "[encoded data removed]",
            "text/plain": [
              "<Figure size 720x360 with 1 Axes>"
            ]
          },
          "metadata": {
            "tags": []
          }
        }
      ]
    },
    {
      "cell_type": "code",
      "metadata": {
        "id": "PZ89JB9Ry9KS",
        "colab_type": "code",
        "colab": {
          "base_uri": "https://localhost:8080/",
          "height": 563
        },
        "outputId": "ec406145-c3b3-4ca7-ced3-774f37fdae2e"
      },
      "source": [
        "sns.set()\n",
        "plt.figure(figsize=(10,5))\n",
        "df1['Data Cadastro'].value_counts().plot()\n",
        "plt.xlabel(\"Data\")\n",
        "plt.ylabel(\"Número de óbitos\")\n",
        "plt.title('Gráfico 9 - Óbitos COVID')\n",
        "df1['Data Cadastro'].value_counts() \n"
      ],
      "execution_count": null,
      "outputs": [
        {
          "output_type": "execute_result",
          "data": {
            "text/plain": [
              "2020-07-07    69\n",
              "2020-07-23    48\n",
              "2020-07-30    48\n",
              "2020-07-20    48\n",
              "2020-08-08    44\n",
              "              ..\n",
              "2020-04-13     1\n",
              "2020-03-28     1\n",
              "2020-05-01     1\n",
              "2020-05-12     1\n",
              "2020-04-19     1\n",
              "Name: Data Cadastro, Length: 130, dtype: int64"
            ]
          },
          "metadata": {
            "tags": []
          },
          "execution_count": 44
        },
        {
          "output_type": "display_data",
          "data": {
            "image/png": "[encoded data removed]",
            "text/plain": [
              "<Figure size 720x360 with 1 Axes>"
            ]
          },
          "metadata": {
            "tags": []
          }
        }
      ]
    },
    {
      "cell_type": "code",
      "metadata": {
        "id": "4ibTBImg-jbX",
        "colab_type": "code",
        "colab": {
          "base_uri": "https://localhost:8080/",
          "height": 52
        },
        "outputId": "d9ece517-38b1-44af-843a-167adea50a72"
      },
      "source": [
        "df1[\"Óbito\"].value_counts()"
      ],
      "execution_count": 51,
      "outputs": [
        {
          "output_type": "execute_result",
          "data": {
            "text/plain": [
              "Sim    2148\n",
              "Name: Óbito, dtype: int64"
            ]
          },
          "metadata": {
            "tags": []
          },
          "execution_count": 51
        }
      ]
    },
    {
      "cell_type": "markdown",
      "metadata": {
        "id": "lJbbMzdK75qM",
        "colab_type": "text"
      },
      "source": [
        "##Conclusões\n",
        "No recente cenário de pandemia mundial, Brasília também se encontra em número crescente de infectados e óbitos.\n",
        "\n",
        "Nesse estudo, observamos que o número de óbitos é maior entre os que possuem comorbidades (85%) e apesar do fato de a faixa Etária dos infectados com idade acima de 60 anos representar 11% dos infectados totais, eles representam 73% dos óbitos.\n",
        "\n",
        "Também observou-se que apesar dos números de infectados serem semelhantes entre homens e mulheres, os homens vão mais a óbito, representando 59% dos falecimentos.\n",
        "\n",
        "Dentre as comorbidades que estão mais relacionadas com os óbitos estão a Cardiovasculopatia e os Distúrbios Metabólicos. O total de óbitos chega a 2.148.\n",
        "\n",
        "Cumpre salientar que no antigo dataframe disponibilizado pelo GDF havia a variável \"Estados de saúde\"  com 20% dos valores não informados. No dataframe atual, foi incluído a variável 'óbito' e 'dia dos primeiros sintomas'.\n",
        "\n",
        "Este estudo demonstra algumas análises que se pode extrair dos dados brutos abertos disponibilizados pelo Governo do Distrito Federal.\n",
        "\n",
        "Esse estudo será atualizado semanalmente."
      ]
    },
    {
      "cell_type": "markdown",
      "metadata": {
        "id": "_cpUPKxc97R5",
        "colab_type": "text"
      },
      "source": [
        "Carmen Scartezini, Accountant & Data Analyst."
      ]
    },
    {
      "cell_type": "code",
      "metadata": {
        "id": "k1JwyC8U-HF5",
        "colab_type": "code",
        "colab": {}
      },
      "source": [
        ""
      ],
      "execution_count": null,
      "outputs": []
    }
  ]
}