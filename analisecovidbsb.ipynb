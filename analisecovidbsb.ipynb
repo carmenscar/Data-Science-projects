{
  "nbformat": 4,
  "nbformat_minor": 0,
  "metadata": {
    "colab": {
      "name": "analisecovidbsb.ipynb",
      "provenance": [],
      "collapsed_sections": [],
      "authorship_tag": "ABX9TyMbJfdsMRfjyV9NQIsTK+FY",
      "include_colab_link": true
    },
    "kernelspec": {
      "name": "python3",
      "display_name": "Python 3"
    }
  },
  "cells": [
    {
      "cell_type": "markdown",
      "metadata": {
        "id": "view-in-github",
        "colab_type": "text"
      },
      "source": [
        "<a href=\"https://colab.research.google.com/github/carmenscar/Mind_lab_data/blob/master/analisecovidbsb.ipynb\" target=\"_parent\"><img src=\"https://colab.research.google.com/assets/colab-badge.svg\" alt=\"Open In Colab\"/></a>"
      ]
    },
    {
      "cell_type": "code",
      "metadata": {
        "id": "Nrk3U5Fmb9i9",
        "colab_type": "code",
        "colab": {}
      },
      "source": [
        "import pandas as pd\n",
        "import pandas_profiling\n",
        "import matplotlib.pyplot as plt\n",
        "import seaborn as sns\n",
        "import datetime as dt\n"
      ],
      "execution_count": 45,
      "outputs": []
    },
    {
      "cell_type": "markdown",
      "metadata": {
        "id": "ocUsxlXrd1Pf",
        "colab_type": "text"
      },
      "source": [
        "#Análise dos dados - COVID - Brasília\n",
        "**ÚLTIMA ATUALIZAÇÃO 01/07/2020**\n",
        "\n",
        "O Distrito Federal foi um dos entes da federação que começaram cedo com as medidas de isolamento social. \n",
        "\n",
        "Passados 3 meses desde o primeiro caso de covid na capital, na primeira semana de março, Brasília tem forte queda nas taxas de isolamento social.\n",
        "\n",
        "O governo julga seguro a retomada das atividades e está gradativamente liberando a reabertura, com algumas restrições, do comércio essencial, dos parques, dos clubes e das igrejas, deixando por último a reabertura de bares, restaurantes e academias, consideradas atividades não essenciais.\n",
        "\n",
        "Diante do cenário, analisaremos os dados sobre o **corona vírus** e veremos quais informações podemos extrair dos dados brutos disponibilizados pelo governo do Distrito Federal.\n",
        "\n",
        "O estudo será atualizado semanalmente.\n"
      ]
    },
    {
      "cell_type": "markdown",
      "metadata": {
        "id": "4_bt0fukdtVS",
        "colab_type": "text"
      },
      "source": [
        ""
      ]
    },
    {
      "cell_type": "markdown",
      "metadata": {
        "id": "aWNchH6ljZIS",
        "colab_type": "text"
      },
      "source": [
        "##Obtenção de dados\n",
        "Os utilizados na presente análise foram extraídos do [site do GDF](https://covid19.ssp.df.gov.br/extensions/covid19/covid19.html#/) destinado às informações referentes ao **COVID**."
      ]
    },
    {
      "cell_type": "code",
      "metadata": {
        "id": "IOy-xEhyin2r",
        "colab_type": "code",
        "colab": {}
      },
      "source": [
        "import pandas as pd\n",
        "import matplotlib.pyplot as plt\n",
        "import seaborn as sns\n",
        "import seaborn as sns\n",
        "import datetime as dt\n",
        "\n",
        "%matplotlib inline"
      ],
      "execution_count": 46,
      "outputs": []
    },
    {
      "cell_type": "code",
      "metadata": {
        "id": "2_3iJrzRv0NQ",
        "colab_type": "code",
        "colab": {}
      },
      "source": [
        "df = pd.read_excel('/content/dados-abertos (3).xlsx')"
      ],
      "execution_count": 47,
      "outputs": []
    },
    {
      "cell_type": "markdown",
      "metadata": {
        "id": "BLY2k8soqXF1",
        "colab_type": "text"
      },
      "source": [
        "## Dicionário de variáveis\n",
        "* id - número gerado para identificar o paciente\n",
        "* Sexo - gênero do paciente\n",
        "* Faixa etária - faixa de idade do paciente\n",
        "* Estado de saúde - estado que se encontra o paciente identificado\n",
        "* Comorbidades - identifica se o paciente possui comorbidades\n",
        "* RA - Região Administrativa\n",
        "* Data - data de importação dos dados\n",
        "* Data Cadastro - data do cadastramento ou atualização dos dados do paciente\n",
        "\n",
        "Dentre as comorbidades, são identificadas em variáveis separadas: Pneumopatia, Nefropatia, Doença Hematológica, Distúrbios metabólicos, Imunopressão, Obesidade, Cardiovasculopatia e Outros."
      ]
    },
    {
      "cell_type": "markdown",
      "metadata": {
        "id": "C9xH4s1pwT1T",
        "colab_type": "text"
      },
      "source": [
        "### A seguir, observemos um pedaço-resumo do dataframe, analisando as 5 primeiras entradas:"
      ]
    },
    {
      "cell_type": "code",
      "metadata": {
        "id": "UrfznVmVwhmm",
        "colab_type": "code",
        "colab": {
          "base_uri": "https://localhost:8080/",
          "height": 326
        },
        "outputId": "75aa5fea-475a-4dbf-80fc-64dabb3b5b4f"
      },
      "source": [
        "df.head(5)"
      ],
      "execution_count": 48,
      "outputs": [
        {
          "output_type": "execute_result",
          "data": {
            "text/html": [
              "<div>\n",
              "<style scoped>\n",
              "    .dataframe tbody tr th:only-of-type {\n",
              "        vertical-align: middle;\n",
              "    }\n",
              "\n",
              "    .dataframe tbody tr th {\n",
              "        vertical-align: top;\n",
              "    }\n",
              "\n",
              "    .dataframe thead th {\n",
              "        text-align: right;\n",
              "    }\n",
              "</style>\n",
              "<table border=\"1\" class=\"dataframe\">\n",
              "  <thead>\n",
              "    <tr style=\"text-align: right;\">\n",
              "      <th></th>\n",
              "      <th>id</th>\n",
              "      <th>Data</th>\n",
              "      <th>Data Cadastro</th>\n",
              "      <th>Sexo</th>\n",
              "      <th>Faixa Etária</th>\n",
              "      <th>RA</th>\n",
              "      <th>UF</th>\n",
              "      <th>Estado de Saúde</th>\n",
              "      <th>Comorbidades</th>\n",
              "      <th>Pneumopatia</th>\n",
              "      <th>Nefropatia</th>\n",
              "      <th>Doença Hematológica</th>\n",
              "      <th>Distúrbios Metabólicos</th>\n",
              "      <th>Imunopressão</th>\n",
              "      <th>Obesidade</th>\n",
              "      <th>Outros</th>\n",
              "      <th>Cardiovasculopatia</th>\n",
              "    </tr>\n",
              "  </thead>\n",
              "  <tbody>\n",
              "    <tr>\n",
              "      <th>0</th>\n",
              "      <td>1</td>\n",
              "      <td>2020-07-04</td>\n",
              "      <td>2020-03-18</td>\n",
              "      <td>Masculino</td>\n",
              "      <td>50 a 59 anos</td>\n",
              "      <td>Plano Piloto</td>\n",
              "      <td>DISTRITO FEDERAL</td>\n",
              "      <td>Recuperado</td>\n",
              "      <td>NaN</td>\n",
              "      <td>NaN</td>\n",
              "      <td>NaN</td>\n",
              "      <td>NaN</td>\n",
              "      <td>NaN</td>\n",
              "      <td>NaN</td>\n",
              "      <td>NaN</td>\n",
              "      <td>NaN</td>\n",
              "      <td>NaN</td>\n",
              "    </tr>\n",
              "    <tr>\n",
              "      <th>1</th>\n",
              "      <td>2</td>\n",
              "      <td>2020-07-04</td>\n",
              "      <td>2020-03-18</td>\n",
              "      <td>Masculino</td>\n",
              "      <td>50 a 59 anos</td>\n",
              "      <td>Lago Sul</td>\n",
              "      <td>DISTRITO FEDERAL</td>\n",
              "      <td>Recuperado</td>\n",
              "      <td>Sim</td>\n",
              "      <td>Sim</td>\n",
              "      <td>Não</td>\n",
              "      <td>Não</td>\n",
              "      <td>Sim</td>\n",
              "      <td>Não</td>\n",
              "      <td>Não</td>\n",
              "      <td>Não</td>\n",
              "      <td>Não</td>\n",
              "    </tr>\n",
              "    <tr>\n",
              "      <th>2</th>\n",
              "      <td>3</td>\n",
              "      <td>2020-07-04</td>\n",
              "      <td>2020-03-18</td>\n",
              "      <td>Masculino</td>\n",
              "      <td>40 a 49 anos</td>\n",
              "      <td>Lago Sul</td>\n",
              "      <td>DISTRITO FEDERAL</td>\n",
              "      <td>Recuperado</td>\n",
              "      <td>NaN</td>\n",
              "      <td>NaN</td>\n",
              "      <td>NaN</td>\n",
              "      <td>NaN</td>\n",
              "      <td>NaN</td>\n",
              "      <td>NaN</td>\n",
              "      <td>NaN</td>\n",
              "      <td>NaN</td>\n",
              "      <td>NaN</td>\n",
              "    </tr>\n",
              "    <tr>\n",
              "      <th>3</th>\n",
              "      <td>6</td>\n",
              "      <td>2020-07-04</td>\n",
              "      <td>2020-03-18</td>\n",
              "      <td>Masculino</td>\n",
              "      <td>&gt;= 60 anos</td>\n",
              "      <td>Águas Claras</td>\n",
              "      <td>DISTRITO FEDERAL</td>\n",
              "      <td>Recuperado</td>\n",
              "      <td>Sim</td>\n",
              "      <td>Não</td>\n",
              "      <td>Não</td>\n",
              "      <td>Não</td>\n",
              "      <td>Sim</td>\n",
              "      <td>Não</td>\n",
              "      <td>Não</td>\n",
              "      <td>Não</td>\n",
              "      <td>Sim</td>\n",
              "    </tr>\n",
              "    <tr>\n",
              "      <th>4</th>\n",
              "      <td>8</td>\n",
              "      <td>2020-07-04</td>\n",
              "      <td>2020-03-18</td>\n",
              "      <td>Feminino</td>\n",
              "      <td>20 a 29 anos</td>\n",
              "      <td>Plano Piloto</td>\n",
              "      <td>DISTRITO FEDERAL</td>\n",
              "      <td>Recuperado</td>\n",
              "      <td>NaN</td>\n",
              "      <td>NaN</td>\n",
              "      <td>NaN</td>\n",
              "      <td>NaN</td>\n",
              "      <td>NaN</td>\n",
              "      <td>NaN</td>\n",
              "      <td>NaN</td>\n",
              "      <td>NaN</td>\n",
              "      <td>NaN</td>\n",
              "    </tr>\n",
              "  </tbody>\n",
              "</table>\n",
              "</div>"
            ],
            "text/plain": [
              "   id       Data Data Cadastro  ... Obesidade Outros Cardiovasculopatia\n",
              "0   1 2020-07-04    2020-03-18  ...       NaN    NaN                NaN\n",
              "1   2 2020-07-04    2020-03-18  ...       Não    Não                Não\n",
              "2   3 2020-07-04    2020-03-18  ...       NaN    NaN                NaN\n",
              "3   6 2020-07-04    2020-03-18  ...       Não    Não                Sim\n",
              "4   8 2020-07-04    2020-03-18  ...       NaN    NaN                NaN\n",
              "\n",
              "[5 rows x 17 columns]"
            ]
          },
          "metadata": {
            "tags": []
          },
          "execution_count": 48
        }
      ]
    },
    {
      "cell_type": "markdown",
      "metadata": {
        "id": "tbi-yp2OzJQj",
        "colab_type": "text"
      },
      "source": [
        "## Visão geral dos dados\n",
        "\n",
        "Os dados possuem 54.057 entradas e 17 variáveis.\n",
        "Quando observamos os dados da tabela verificamos que existem campos para diferentes comorbidades. \n",
        "\n",
        "Para facilitar a análise, criamos uma entrada denominada \"Comorbidades\" que aponta se há ou não qualquer tipo de comorbidade apresentada pelo paciente, ou se o valor não foi informado.\n",
        "\n",
        "Todas as variáveis, com exceção das datas, são do tipo \"object\", ou seja, do tipo string.\n",
        "\n"
      ]
    },
    {
      "cell_type": "code",
      "metadata": {
        "id": "voE3AiQRzNAL",
        "colab_type": "code",
        "colab": {
          "base_uri": "https://localhost:8080/",
          "height": 374
        },
        "outputId": "295871d3-4c46-4841-cb41-f7805d02b382"
      },
      "source": [
        "print(\"Entradas:\\t {}\".format(df.shape[0]))\n",
        "print(\"Variáveis:\\t {}\\n\".format(df.shape[1]))\n",
        "\n",
        "display(df.dtypes)"
      ],
      "execution_count": 49,
      "outputs": [
        {
          "output_type": "stream",
          "text": [
            "Entradas:\t 54057\n",
            "Variáveis:\t 17\n",
            "\n"
          ],
          "name": "stdout"
        },
        {
          "output_type": "display_data",
          "data": {
            "text/plain": [
              "id                                 int64\n",
              "Data                      datetime64[ns]\n",
              "Data Cadastro             datetime64[ns]\n",
              "Sexo                              object\n",
              "Faixa Etária                      object\n",
              "RA                                object\n",
              "UF                                object\n",
              "Estado de Saúde                   object\n",
              "Comorbidades                      object\n",
              "Pneumopatia                       object\n",
              "Nefropatia                        object\n",
              "Doença Hematológica               object\n",
              "Distúrbios Metabólicos            object\n",
              "Imunopressão                      object\n",
              "Obesidade                         object\n",
              "Outros                            object\n",
              "Cardiovasculopatia                object\n",
              "dtype: object"
            ]
          },
          "metadata": {
            "tags": []
          }
        }
      ]
    },
    {
      "cell_type": "markdown",
      "metadata": {
        "id": "uQJ-ScLp2U3_",
        "colab_type": "text"
      },
      "source": [
        "## Nulls\n",
        "A maior parte dos valores em branco se relacionam com as informações sobre Comorbidades do paciente. Observa-se que quando há uma comorbidade, as outras comorbidades listadas são, geralmente, preenchidas com \"sim\" ou \"não\", e na maioria dos casos(88%), não é informado se há ou não comorbidades.\n",
        "\n",
        "Uma hipótese é a de que quando registrada uma comorbidade, se avaliam as outras e se não há comorbidade, os valores ficam em branco.\n",
        "\n",
        "Em relação as informações sobre o estado de saúde do paciente, apesar de não conter valores nulos, a maior parte do valor é dado como \"não informado\"."
      ]
    },
    {
      "cell_type": "code",
      "metadata": {
        "id": "9gX5C73j2iwX",
        "colab_type": "code",
        "colab": {
          "base_uri": "https://localhost:8080/",
          "height": 323
        },
        "outputId": "3f49aeb6-c057-4b98-ef65-8130ef99692d"
      },
      "source": [
        "(df.isnull().sum() / df.shape[0]).sort_values(ascending=False)"
      ],
      "execution_count": 50,
      "outputs": [
        {
          "output_type": "execute_result",
          "data": {
            "text/plain": [
              "Doença Hematológica       0.993877\n",
              "Nefropatia                0.990029\n",
              "Imunopressão              0.987495\n",
              "Obesidade                 0.987143\n",
              "Pneumopatia               0.975840\n",
              "Distúrbios Metabólicos    0.957378\n",
              "Cardiovasculopatia        0.938324\n",
              "Outros                    0.880885\n",
              "Comorbidades              0.880885\n",
              "UF                        0.014189\n",
              "Data Cadastro             0.000906\n",
              "Estado de Saúde           0.000000\n",
              "RA                        0.000000\n",
              "Faixa Etária              0.000000\n",
              "Sexo                      0.000000\n",
              "Data                      0.000000\n",
              "id                        0.000000\n",
              "dtype: float64"
            ]
          },
          "metadata": {
            "tags": []
          },
          "execution_count": 50
        }
      ]
    },
    {
      "cell_type": "markdown",
      "metadata": {
        "id": "XtTagBz44_aT",
        "colab_type": "text"
      },
      "source": [
        "## Análise exploratória dos dados\n",
        "\n",
        "### Regiões do DF\n",
        "Ceilândia é a cidade com mais casos de corona vírus, representando 13% dos pacientes diagnosticados. A Região administrativa é seguida em maiores números de casos pelo Plano Piloto,Taguatinga e Samambaia, com aproximadamente 7% dos casos cada.\n",
        "\n",
        "As regiões do Pôr do Sol, Candangolândia, Sobradinho II,  Arniqueira, Varjão, SIA e Fercal representam os locais com menos casos. \n",
        "\n",
        "Observa-se que dado ao fato das regiões estarem predominantemente classificadas como regiões de baixa renda, segundo dados da Codeplan 2018, pode haver subnotificação de casos.\n",
        "\n",
        "Segundos os dados da Codeplan(2018), as regiões de classificam da seguinte maneira:\n",
        "\n",
        "• **Grupo 1 (alta renda)**: Plano Piloto, Jardim Botânico, Lago Norte, Lago Sul, Park Way e Sudoeste/Octogonal, com renda domiciliar de R$ 15.622\n",
        "\n",
        "• **Grupo 2 (média-alta renda)**: Águas Claras, Candangolândia, Cruzeiro, Gama, Guará, Núcleo\n",
        "Bandeirante, Sobradinho, Sobradinho II, Taguatinga e Vicente Pires, com renda domiciliar média de R$ 7.266;\n",
        "\n",
        "• **Grupo 3 (média-baixa renda)**: Brazlândia, Ceilândia, Planaltina, Riacho Fundo, Riacho Fundo\n",
        "II, SIA, Samambaia, Santa Maria e São Sebastião, com renda domiciliar média de R$ 3.101;\n",
        "\n",
        "• **Grupo 4 (baixa renda)**: Fercal, Itapoã, Paranoá, Recanto das Emas, SCIA–Estrutural e Varjão, com renda domiciliar média de R$\n",
        "2.472;\n",
        "\n"
      ]
    },
    {
      "cell_type": "code",
      "metadata": {
        "id": "f_QSd3945jE7",
        "colab_type": "code",
        "colab": {
          "base_uri": "https://localhost:8080/",
          "height": 663
        },
        "outputId": "af039a6a-630c-4597-efa8-b09e6af275f3"
      },
      "source": [
        "df.RA.value_counts() / df.shape[0]\n"
      ],
      "execution_count": 51,
      "outputs": [
        {
          "output_type": "execute_result",
          "data": {
            "text/plain": [
              "Ceilândia                0.130603\n",
              "Plano Piloto             0.069982\n",
              "Taguatinga               0.069445\n",
              "Samambaia                0.069353\n",
              "Entorno DF               0.049078\n",
              "Gama                     0.047838\n",
              "Outros Estados           0.047191\n",
              "Não Informado            0.047006\n",
              "Paranoá                  0.037719\n",
              "Guará                    0.036942\n",
              "Águas Claras             0.034852\n",
              "Sobradinho               0.034630\n",
              "Santa Maria              0.033076\n",
              "São Sebastião            0.031781\n",
              "Planaltina               0.031300\n",
              "Recanto das Emas         0.028229\n",
              "Sistema Penitenciário    0.025436\n",
              "Riacho Fundo             0.019424\n",
              "Itapoã                   0.015946\n",
              "Brazlândia               0.013726\n",
              "Sudoeste/Octogonal       0.013319\n",
              "Vicente Pires            0.012875\n",
              "Lago Sul                 0.012024\n",
              "Riacho Fundo II          0.011969\n",
              "SCIA                     0.011654\n",
              "Jardim Botânico          0.011432\n",
              "Lago Norte               0.008158\n",
              "Núcleo Bandeirante       0.008010\n",
              "Cruzeiro                 0.007418\n",
              "Candangolândia           0.006401\n",
              "Pôr do Sol               0.006160\n",
              "Sobradinho II            0.006031\n",
              "Park Way                 0.005494\n",
              "Arniqueira               0.002442\n",
              "Varjão                   0.001406\n",
              "SIA                      0.001110\n",
              "Fercal                   0.000536\n",
              "Name: RA, dtype: float64"
            ]
          },
          "metadata": {
            "tags": []
          },
          "execution_count": 51
        }
      ]
    },
    {
      "cell_type": "markdown",
      "metadata": {
        "id": "saIc7n71V-uZ",
        "colab_type": "text"
      },
      "source": [
        "###Gênero\n",
        "Em relação ao gênero dos paciêntes com Covid, observa-se que não há diferença de gênero em relação a quantidade de infectados, sendo aproximadamente 52% dos infectadosdo sexo feminino e 48% do sexo masculino, conforme o Gráfico 1."
      ]
    },
    {
      "cell_type": "code",
      "metadata": {
        "id": "vibDhfwIjPdJ",
        "colab_type": "code",
        "colab": {
          "base_uri": "https://localhost:8080/",
          "height": 346
        },
        "outputId": "876bff1c-24d3-4a11-9300-b7691fb836d0"
      },
      "source": [
        "sns.countplot(df['Sexo'])\n",
        "plt.title('Gráfico 1 - Infectados X gênero')\n",
        "plt.show()\n",
        "df.Sexo.value_counts() / df.shape[0]"
      ],
      "execution_count": 52,
      "outputs": [
        {
          "output_type": "display_data",
          "data": {
            "image/png": "[encoded data removed]",
            "text/plain": [
              "<Figure size 432x288 with 1 Axes>"
            ]
          },
          "metadata": {
            "tags": [],
            "needs_background": "light"
          }
        },
        {
          "output_type": "execute_result",
          "data": {
            "text/plain": [
              "Feminino     0.5191\n",
              "Masculino    0.4809\n",
              "Name: Sexo, dtype: float64"
            ]
          },
          "metadata": {
            "tags": []
          },
          "execution_count": 52
        }
      ]
    },
    {
      "cell_type": "markdown",
      "metadata": {
        "id": "psv7g_-pWd0h",
        "colab_type": "text"
      },
      "source": [
        "##Faixa Etária\n",
        "A análise da faixa etária nos demonstra que há menor número de casos notificados entre os menores de 19 anos e maiores de 60 anos. Portanto, o maior número de infecções fica por dentro dessa faixa etária, conforme observado no Gráfico 2.\n"
      ]
    },
    {
      "cell_type": "code",
      "metadata": {
        "id": "X3qRxVRyJ2YC",
        "colab_type": "code",
        "colab": {
          "base_uri": "https://localhost:8080/",
          "height": 469
        },
        "outputId": "5b59e29e-8a77-414b-ce76-e996211dca3a"
      },
      "source": [
        "\n",
        "df['Faixa Etária'].hist(bins=15, figsize=(10,5))\n",
        "plt.xlabel('faixa etária dos pacientes')\n",
        "plt.ylabel('quantidade de pacientes')\n",
        "plt.title('Gráfico 2 - Quantidade de infectados por Faixa Etária')\n",
        "df['Faixa Etária'].value_counts() / df.shape[0]\n"
      ],
      "execution_count": 53,
      "outputs": [
        {
          "output_type": "execute_result",
          "data": {
            "text/plain": [
              "30 a 39 anos    0.271140\n",
              "40 a 49 anos    0.224911\n",
              "20 a 29 anos    0.189763\n",
              "50 a 59 anos    0.137614\n",
              ">= 60 anos      0.107535\n",
              "<= 19 anos      0.069038\n",
              "Name: Faixa Etária, dtype: float64"
            ]
          },
          "metadata": {
            "tags": []
          },
          "execution_count": 53
        },
        {
          "output_type": "display_data",
          "data": {
            "image/png": "[encoded data removed]",
            "text/plain": [
              "<Figure size 720x360 with 1 Axes>"
            ]
          },
          "metadata": {
            "tags": [],
            "needs_background": "light"
          }
        }
      ]
    },
    {
      "cell_type": "markdown",
      "metadata": {
        "id": "y12CI82xWbmV",
        "colab_type": "text"
      },
      "source": [
        "##Estado de saúde\n",
        "Analisando o número de óbitos, notamos que este representa aproximadamente 1% dos pacientes. Porém, observa-se que 20% dos pacientes estão com seu estado de saúde não informado, podendo ocorrer subnotificação, conforme evidenciado no Gráfico 3."
      ]
    },
    {
      "cell_type": "code",
      "metadata": {
        "id": "Y7UzfnJwOduy",
        "colab_type": "code",
        "colab": {
          "base_uri": "https://localhost:8080/",
          "height": 364
        },
        "outputId": "0ba0a711-e57a-4bc7-ac78-06681abf836e"
      },
      "source": [
        "df['Estado de Saúde'].hist(bins=15)\n",
        "plt.xlabel('estado de saúde dos pacientes')\n",
        "plt.ylabel('quantidade de pacientes')\n",
        "plt.title('Gráfico 3 - Estado de saúde do infectado na data do estudo')\n",
        "df['Estado de Saúde'].value_counts() / df['Estado de Saúde'].shape[0]"
      ],
      "execution_count": 54,
      "outputs": [
        {
          "output_type": "execute_result",
          "data": {
            "text/plain": [
              "Recuperado       0.786633\n",
              "Não Informado    0.201362\n",
              "Óbito            0.012006\n",
              "Name: Estado de Saúde, dtype: float64"
            ]
          },
          "metadata": {
            "tags": []
          },
          "execution_count": 54
        },
        {
          "output_type": "display_data",
          "data": {
            "image/png": "[encoded data removed]",
            "text/plain": [
              "<Figure size 432x288 with 1 Axes>"
            ]
          },
          "metadata": {
            "tags": [],
            "needs_background": "light"
          }
        }
      ]
    },
    {
      "cell_type": "markdown",
      "metadata": {
        "id": "VmgGehuPaMdt",
        "colab_type": "text"
      },
      "source": [
        "##Óbitos\n",
        "Observa-se que o número de óbitos é maior no sexo masculino, representando 382 óbitos de homens (58%), em 29 de junho.\n",
        "\n",
        "No gráfico de faixa etária do sexo masculino, há um maior número de homens com idade entre 50 e 59 anos, aproximadamente 15% do total. As mulheres nessa faixa etária representam 10% total, um número menor que o dos homens, o que poderia explicar o número de óbitos maior entre os homens, conforme evidenciado nos Gráficos 4 e 5.\n",
        "\n",
        "Observa-se também que apesar dos idosos (pacientes > 60 anos) serem apenas 10% dos pacientes totais, estes representam aproximadamente 72% dos óbitos, mostrando que há um **alto risco de mortalidade** nessa faixa etária, conforme evidenciado no Gráfico 6."
      ]
    },
    {
      "cell_type": "code",
      "metadata": {
        "id": "ONz5n8kgSk1-",
        "colab_type": "code",
        "colab": {}
      },
      "source": [
        "df1 = df[df[\"Estado de Saúde\"] == \"Óbito\"]"
      ],
      "execution_count": 55,
      "outputs": []
    },
    {
      "cell_type": "code",
      "metadata": {
        "id": "uJUzrbMlxywG",
        "colab_type": "code",
        "colab": {
          "base_uri": "https://localhost:8080/",
          "height": 68
        },
        "outputId": "1844bdc9-b05b-4a50-a5c0-03951fec1285"
      },
      "source": [
        "df1.Sexo.value_counts()"
      ],
      "execution_count": 56,
      "outputs": [
        {
          "output_type": "execute_result",
          "data": {
            "text/plain": [
              "Masculino    382\n",
              "Feminino     267\n",
              "Name: Sexo, dtype: int64"
            ]
          },
          "metadata": {
            "tags": []
          },
          "execution_count": 56
        }
      ]
    },
    {
      "cell_type": "code",
      "metadata": {
        "id": "xLVzu1tIgUy_",
        "colab_type": "code",
        "colab": {
          "base_uri": "https://localhost:8080/",
          "height": 68
        },
        "outputId": "9c8d5003-3404-4a89-8795-c17cc9b22d48"
      },
      "source": [
        "df1.Sexo.value_counts() / df1.Sexo.shape[0]"
      ],
      "execution_count": 57,
      "outputs": [
        {
          "output_type": "execute_result",
          "data": {
            "text/plain": [
              "Masculino    0.588598\n",
              "Feminino     0.411402\n",
              "Name: Sexo, dtype: float64"
            ]
          },
          "metadata": {
            "tags": []
          },
          "execution_count": 57
        }
      ]
    },
    {
      "cell_type": "code",
      "metadata": {
        "id": "sTkfkr1fkZHd",
        "colab_type": "code",
        "colab": {}
      },
      "source": [
        "df9 = df1[df1[\"Sexo\"] == \"Feminino\"]"
      ],
      "execution_count": 58,
      "outputs": []
    },
    {
      "cell_type": "code",
      "metadata": {
        "id": "KsV-4DolkqVC",
        "colab_type": "code",
        "colab": {
          "base_uri": "https://localhost:8080/",
          "height": 136
        },
        "outputId": "a20344d7-9c1e-4d6a-e0e7-5c5100f27d5d"
      },
      "source": [
        "df9['Faixa Etária'].value_counts() / df9['Faixa Etária'].shape[0]"
      ],
      "execution_count": 68,
      "outputs": [
        {
          "output_type": "execute_result",
          "data": {
            "text/plain": [
              ">= 60 anos      0.779026\n",
              "50 a 59 anos    0.101124\n",
              "40 a 49 anos    0.082397\n",
              "30 a 39 anos    0.026217\n",
              "20 a 29 anos    0.007491\n",
              "<= 19 anos      0.003745\n",
              "Name: Faixa Etária, dtype: float64"
            ]
          },
          "metadata": {
            "tags": []
          },
          "execution_count": 68
        }
      ]
    },
    {
      "cell_type": "code",
      "metadata": {
        "id": "-x_rT0q0k59A",
        "colab_type": "code",
        "colab": {
          "base_uri": "https://localhost:8080/",
          "height": 136
        },
        "outputId": "2b0d919a-e02c-4c96-d17f-b2e602f4d512"
      },
      "source": [
        "\n",
        "df10['Faixa Etária'].value_counts() / df10['Faixa Etária'].shape[0]"
      ],
      "execution_count": 95,
      "outputs": [
        {
          "output_type": "execute_result",
          "data": {
            "text/plain": [
              ">= 60 anos      0.685864\n",
              "50 a 59 anos    0.159686\n",
              "40 a 49 anos    0.094241\n",
              "30 a 39 anos    0.047120\n",
              "20 a 29 anos    0.010471\n",
              "<= 19 anos      0.002618\n",
              "Name: Faixa Etária, dtype: float64"
            ]
          },
          "metadata": {
            "tags": []
          },
          "execution_count": 95
        }
      ]
    },
    {
      "cell_type": "code",
      "metadata": {
        "id": "XyFW7ugcQMXx",
        "colab_type": "code",
        "colab": {
          "base_uri": "https://localhost:8080/",
          "height": 347
        },
        "outputId": "8d9e2ce9-7fea-446b-a12e-7b25731b3078"
      },
      "source": [
        "x = df9['Faixa Etária']\n",
        "y = df10['Faixa Etária']\n",
        "\n",
        "fig, (ax1, ax2) = plt.subplots(nrows=1, ncols=2,figsize=(15, 5))\n",
        "ax1.hist(x, bins = 15)\n",
        "ax1.tick_params(axis='x', labelrotation=0)\n",
        "ax1.set_title('Gráfico 4 - Faixa Etária x Óbitos - Sexo feminino')\n",
        "ax1.set_xlabel(\"faixa etária dos pacientes\")\n",
        "ax1.set_ylabel(\"quantidade de pacientes\")\n",
        "\n",
        "ax2.hist(y, bins = 15)\n",
        "ax2.tick_params(axis='y', labelrotation=0)\n",
        "ax2.set_title('Gráfico 5 - Faixa Etária x Óbitos - Sexo masculino')\n",
        "ax2.set_xlabel(\"faixa etária dos pacientes\")\n",
        "ax2.set_ylabel(\"quantidade de pacientes\")\n",
        "\n",
        "fig.tight_layout();\n"
      ],
      "execution_count": 96,
      "outputs": [
        {
          "output_type": "display_data",
          "data": {
            "image/png": "[encoded data removed]",
            "text/plain": [
              "<Figure size 1080x360 with 2 Axes>"
            ]
          },
          "metadata": {
            "tags": [],
            "needs_background": "light"
          }
        }
      ]
    },
    {
      "cell_type": "code",
      "metadata": {
        "id": "y5te_vDIZiQL",
        "colab_type": "code",
        "colab": {
          "base_uri": "https://localhost:8080/",
          "height": 469
        },
        "outputId": "1cc1be0a-b74b-42b3-ed37-43a59bd6cb39"
      },
      "source": [
        "df1['Faixa Etária'].hist(bins=15, figsize=(10,5))\n",
        "plt.xlabel('faixa etária dos pacientes')\n",
        "plt.ylabel('quantidade óbitos')\n",
        "plt.title('Gráfico 6 - Faixa Etária x Óbitos');\n",
        "df1['Faixa Etária'].value_counts() / df1['Faixa Etária'].shape[0]"
      ],
      "execution_count": 97,
      "outputs": [
        {
          "output_type": "execute_result",
          "data": {
            "text/plain": [
              ">= 60 anos      0.724191\n",
              "50 a 59 anos    0.135593\n",
              "40 a 49 anos    0.089368\n",
              "30 a 39 anos    0.038521\n",
              "20 a 29 anos    0.009245\n",
              "<= 19 anos      0.003082\n",
              "Name: Faixa Etária, dtype: float64"
            ]
          },
          "metadata": {
            "tags": []
          },
          "execution_count": 97
        },
        {
          "output_type": "display_data",
          "data": {
            "image/png": "[encoded data removed]",
            "text/plain": [
              "<Figure size 720x360 with 1 Axes>"
            ]
          },
          "metadata": {
            "tags": [],
            "needs_background": "light"
          }
        }
      ]
    },
    {
      "cell_type": "markdown",
      "metadata": {
        "id": "xdjvpoHrhQyy",
        "colab_type": "text"
      },
      "source": [
        "##Comorbidades X Óbitos\n",
        "Em relação aos óbitos, o Gráfico 7 demonstra que 89% dos pacientes que vieram a falecer possuiam algum tipo de comorbidade.\n",
        "\n",
        "A análise ainda mostra que a maioria sofria das comorbidades do tipo \"Distúrbios Metabólicos\" e \"Cardiovasculopatia\",  conforme observado no Gráfico 8.\n",
        "\n",
        "Cumpre destacar que esses pacientes podiam possuir 1 ou mais tipos de comorbidades."
      ]
    },
    {
      "cell_type": "code",
      "metadata": {
        "id": "L5Ru0lzHZyR2",
        "colab_type": "code",
        "colab": {}
      },
      "source": [
        "df2 = df1[df1[\"Comorbidades\"] == \"Sim\"]"
      ],
      "execution_count": 83,
      "outputs": []
    },
    {
      "cell_type": "code",
      "metadata": {
        "id": "KVV2if1LahaJ",
        "colab_type": "code",
        "colab": {
          "base_uri": "https://localhost:8080/",
          "height": 122
        },
        "outputId": "23f3a995-e799-4572-83ca-820e77fe091c"
      },
      "source": [
        "df12 = df1\n",
        "df12['Comorbidades'].fillna(\"Não Informado\", inplace=True);"
      ],
      "execution_count": 103,
      "outputs": [
        {
          "output_type": "stream",
          "text": [
            "/usr/local/lib/python3.6/dist-packages/pandas/core/generic.py:6245: SettingWithCopyWarning: \n",
            "A value is trying to be set on a copy of a slice from a DataFrame\n",
            "\n",
            "See the caveats in the documentation: https://pandas.pydata.org/pandas-docs/stable/user_guide/indexing.html#returning-a-view-versus-a-copy\n",
            "  self._update_inplace(new_data)\n"
          ],
          "name": "stderr"
        }
      ]
    },
    {
      "cell_type": "code",
      "metadata": {
        "id": "IJ2QuTLVc28T",
        "colab_type": "code",
        "colab": {
          "base_uri": "https://localhost:8080/",
          "height": 68
        },
        "outputId": "b27e069a-1b00-4d37-f9b3-8af90dd5b77f"
      },
      "source": [
        "df12['Comorbidades'].value_counts()"
      ],
      "execution_count": 102,
      "outputs": [
        {
          "output_type": "execute_result",
          "data": {
            "text/plain": [
              "Sim              583\n",
              "Não Informado     66\n",
              "Name: Comorbidades, dtype: int64"
            ]
          },
          "metadata": {
            "tags": []
          },
          "execution_count": 102
        }
      ]
    },
    {
      "cell_type": "code",
      "metadata": {
        "id": "vTWpFRAmclLD",
        "colab_type": "code",
        "colab": {
          "base_uri": "https://localhost:8080/",
          "height": 346
        },
        "outputId": "929bbef3-fa4d-4dcc-ffe8-9e65a8395a10"
      },
      "source": [
        "\n",
        "sns.countplot(df11['Comorbidades'])\n",
        "plt.xlabel('Possui comorbidades?')\n",
        "plt.ylabel('quantidade óbitos')\n",
        "plt.title('Gráfico 7 - Comorbidade x Óbitos')\n",
        "plt.show();\n",
        "df12.Comorbidades.value_counts()/df12.Comorbidades.shape[0]\n"
      ],
      "execution_count": 104,
      "outputs": [
        {
          "output_type": "display_data",
          "data": {
            "image/png": "[encoded data removed]",
            "text/plain": [
              "<Figure size 432x288 with 1 Axes>"
            ]
          },
          "metadata": {
            "tags": [],
            "needs_background": "light"
          }
        },
        {
          "output_type": "execute_result",
          "data": {
            "text/plain": [
              "Sim              0.898305\n",
              "Não Informado    0.101695\n",
              "Name: Comorbidades, dtype: float64"
            ]
          },
          "metadata": {
            "tags": []
          },
          "execution_count": 104
        }
      ]
    },
    {
      "cell_type": "code",
      "metadata": {
        "id": "W46fylF8wKzy",
        "colab_type": "code",
        "colab": {}
      },
      "source": [
        "df3 = df2.iloc[:,8:]"
      ],
      "execution_count": 105,
      "outputs": []
    },
    {
      "cell_type": "code",
      "metadata": {
        "id": "NhBrha9b00YH",
        "colab_type": "code",
        "colab": {}
      },
      "source": [
        "df4 = df3.fillna('Não')"
      ],
      "execution_count": 106,
      "outputs": []
    },
    {
      "cell_type": "code",
      "metadata": {
        "id": "D0fCWvDB4zvw",
        "colab_type": "code",
        "colab": {}
      },
      "source": [
        "df5 = df4.replace([\"Sim\"], 1)"
      ],
      "execution_count": 107,
      "outputs": []
    },
    {
      "cell_type": "code",
      "metadata": {
        "id": "KzHwNPdj422t",
        "colab_type": "code",
        "colab": {}
      },
      "source": [
        "df6 = df5.replace([\"Não\"],0 )"
      ],
      "execution_count": 108,
      "outputs": []
    },
    {
      "cell_type": "code",
      "metadata": {
        "id": "YPQfoyEG67Z4",
        "colab_type": "code",
        "colab": {}
      },
      "source": [
        "df7= df6.drop(columns=\"Comorbidades\")"
      ],
      "execution_count": 109,
      "outputs": []
    },
    {
      "cell_type": "code",
      "metadata": {
        "id": "v4qx29aw63H-",
        "colab_type": "code",
        "colab": {
          "base_uri": "https://localhost:8080/",
          "height": 170
        },
        "outputId": "b038321a-3dfb-47b8-f140-9a33b72e696d"
      },
      "source": [
        "df7.sum()"
      ],
      "execution_count": 110,
      "outputs": [
        {
          "output_type": "execute_result",
          "data": {
            "text/plain": [
              "Pneumopatia                95\n",
              "Nefropatia                 56\n",
              "Doença Hematológica         9\n",
              "Distúrbios Metabólicos    248\n",
              "Imunopressão               72\n",
              "Obesidade                  79\n",
              "Outros                    108\n",
              "Cardiovasculopatia        401\n",
              "dtype: int64"
            ]
          },
          "metadata": {
            "tags": []
          },
          "execution_count": 110
        }
      ]
    },
    {
      "cell_type": "code",
      "metadata": {
        "id": "-oX1gTGJS6HE",
        "colab_type": "code",
        "colab": {
          "base_uri": "https://localhost:8080/",
          "height": 298
        },
        "outputId": "f58041be-a6df-46f6-a553-daff93550555"
      },
      "source": [
        "disease = ['Pneumopatia','Nefropatia','Doença Hematológica','Distúrbios Metabólicos','Imunopressão','Obesidade','Outros','Cardiovasculopatia']\n",
        "n_disease = [95,56,9,248,72,79,108,401]\n",
        "\n",
        "plt.barh(disease, n_disease);\n",
        "plt.xlabel('Número de pacientes')\n",
        "plt.ylabel('Comorbidades')\n",
        "plt.title('Gráfico 8 - Tipo de Comorbidade x Óbitos');"
      ],
      "execution_count": 111,
      "outputs": [
        {
          "output_type": "display_data",
          "data": {
            "image/png": "[encoded data removed]",
            "text/plain": [
              "<Figure size 432x288 with 1 Axes>"
            ]
          },
          "metadata": {
            "tags": [],
            "needs_background": "light"
          }
        }
      ]
    },
    {
      "cell_type": "markdown",
      "metadata": {
        "id": "xA3pV_8waBO3",
        "colab_type": "text"
      },
      "source": [
        "##Análise temporal\n",
        "\n",
        "Em relação a quantidade de infectados, a análise dos dados sugere ainda uma tendência de crescimento, concomitante com o crescimento de óbitos, conforme evidenciado nos Gráficos 9 e 10.\n",
        "\n"
      ]
    },
    {
      "cell_type": "code",
      "metadata": {
        "id": "hpsSRo08aF5R",
        "colab_type": "code",
        "colab": {}
      },
      "source": [
        "df8 = df"
      ],
      "execution_count": 112,
      "outputs": []
    },
    {
      "cell_type": "code",
      "metadata": {
        "id": "_b-lxRFAcsb8",
        "colab_type": "code",
        "colab": {}
      },
      "source": [
        "df8['Pacientes'] = 1"
      ],
      "execution_count": 113,
      "outputs": []
    },
    {
      "cell_type": "code",
      "metadata": {
        "id": "h_mCHlRzf3Br",
        "colab_type": "code",
        "colab": {}
      },
      "source": [
        "df8['Mês'] = df8['Data'].dt.month"
      ],
      "execution_count": 114,
      "outputs": []
    },
    {
      "cell_type": "code",
      "metadata": {
        "id": "9UEneKgukeu4",
        "colab_type": "code",
        "colab": {}
      },
      "source": [
        "df8.index = df8['Data Cadastro']"
      ],
      "execution_count": 115,
      "outputs": []
    },
    {
      "cell_type": "code",
      "metadata": {
        "id": "JtHp99BVw7Tk",
        "colab_type": "code",
        "colab": {
          "base_uri": "https://localhost:8080/",
          "height": 505
        },
        "outputId": "21ae741c-e775-403e-e130-447f2e8fa8eb"
      },
      "source": [
        "df8['Data Cadastro'].value_counts().plot()\n",
        "plt.xlabel(\"Data\")\n",
        "plt.ylabel(\"Número de Infectados\")\n",
        "plt.title('Gráfico 9 - Infecções COVID')\n",
        "df8['Data Cadastro'].value_counts() "
      ],
      "execution_count": 116,
      "outputs": [
        {
          "output_type": "execute_result",
          "data": {
            "text/plain": [
              "2020-06-29    2851\n",
              "2020-06-28    2547\n",
              "2020-06-18    2286\n",
              "2020-06-16    2158\n",
              "2020-06-26    1977\n",
              "              ... \n",
              "2020-04-14      10\n",
              "2020-04-08       8\n",
              "2020-03-17       1\n",
              "2020-03-16       1\n",
              "2020-03-01       1\n",
              "Name: Data Cadastro, Length: 112, dtype: int64"
            ]
          },
          "metadata": {
            "tags": []
          },
          "execution_count": 116
        },
        {
          "output_type": "display_data",
          "data": {
            "image/png": "[encoded data removed]",
            "text/plain": [
              "<Figure size 432x288 with 1 Axes>"
            ]
          },
          "metadata": {
            "tags": [],
            "needs_background": "light"
          }
        }
      ]
    },
    {
      "cell_type": "code",
      "metadata": {
        "id": "PZ89JB9Ry9KS",
        "colab_type": "code",
        "colab": {
          "base_uri": "https://localhost:8080/",
          "height": 505
        },
        "outputId": "c9cfc468-548a-4148-ac3c-f961d1623eb1"
      },
      "source": [
        "df1['Data Cadastro'].value_counts().plot()\n",
        "plt.xlabel(\"Data\")\n",
        "plt.ylabel(\"Número de óbitos\")\n",
        "plt.title('Gráfico 10 - Óbitos COVID')\n",
        "df1['Data Cadastro'].value_counts() \n",
        "\n"
      ],
      "execution_count": 117,
      "outputs": [
        {
          "output_type": "execute_result",
          "data": {
            "text/plain": [
              "2020-06-22    21\n",
              "2020-06-23    21\n",
              "2020-06-30    20\n",
              "2020-06-15    19\n",
              "2020-06-26    18\n",
              "              ..\n",
              "2020-05-12     1\n",
              "2020-03-28     1\n",
              "2020-04-16     1\n",
              "2020-05-01     1\n",
              "2020-04-13     1\n",
              "Name: Data Cadastro, Length: 83, dtype: int64"
            ]
          },
          "metadata": {
            "tags": []
          },
          "execution_count": 117
        },
        {
          "output_type": "display_data",
          "data": {
            "image/png": "[encoded data removed]",
            "text/plain": [
              "<Figure size 432x288 with 1 Axes>"
            ]
          },
          "metadata": {
            "tags": [],
            "needs_background": "light"
          }
        }
      ]
    },
    {
      "cell_type": "markdown",
      "metadata": {
        "id": "lJbbMzdK75qM",
        "colab_type": "text"
      },
      "source": [
        "##Conclusões\n",
        "No recente cenário de pandemia mundial, Brasília também se encontra em número crescente de infectados e óbitos.\n",
        "\n",
        "Nesse estudo, observamos que o número de óbitos é maior entre os que possuem comorbidades (88%) e apesar do fato de a faixa Etária dos infectados com idade acima de 60 anos representar 10% dos infectados totais, eles representam 72% dos óbitos.\n",
        "\n",
        "Também observou-se que apesar dos números de infectados serem semelhantes entre homens e mulheres, os homens vão mais a óbito, representando 58% dos falecimentos.\n",
        "\n",
        "Dentre as comorbidades que estão mais relacionadas com os óbitos estão a Cardiovasculopatia e os Distúrbios Metabólicos.\n",
        "\n",
        "Nota-se também que há grande quantidade de \"Estados de saúde\" não informados, aproximadamente 20% dos pacientes, podendo indicar subnotificação.\n",
        "\n",
        "Este estudo demonstra algumas análises que se pode extrair dos dados brutos abertos disponibilizados pelo Governo do Distrito Federal.\n",
        "\n",
        "Esse estudo será atualizado semanalmente."
      ]
    },
    {
      "cell_type": "markdown",
      "metadata": {
        "id": "_cpUPKxc97R5",
        "colab_type": "text"
      },
      "source": [
        "Carmen Scartezini, Accountant & Data Science Student."
      ]
    },
    {
      "cell_type": "code",
      "metadata": {
        "id": "k1JwyC8U-HF5",
        "colab_type": "code",
        "colab": {}
      },
      "source": [
        ""
      ],
      "execution_count": null,
      "outputs": []
    }
  ]
}