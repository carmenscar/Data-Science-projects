{
 "cells": [
  {
   "cell_type": "markdown",
   "id": "c7305e68",
   "metadata": {},
   "source": [
    "## Autor: Carmen Scartezini\n"
   ]
  },
  {
   "cell_type": "markdown",
   "id": "e037737d",
   "metadata": {},
   "source": [
    "# Fake News Classification - Tensorflow X Pytorch\n",
    "\n",
    "<p align=center>\n",
    "  <img src=\"https://img.freepik.com/fotos-gratis/conceito-de-noticias-falsas_23-2148837005.jpg?t=st=1693308306~exp=1693308906~hmac=e1b91872fdbcda0bacdf239cf76fcec1e23e63ac56d868cba6a227788a1308f9\" height=\"30%\">\n",
    "</p>\n",
    "\n",
    "\n",
    "We are living in the era of the digital revolution, where information is highly accessible, but we also face challenges such as Fake News. Fake News encompasses a wide range of deceptive content, from subtle data manipulations to the outright fabrication of events. With the rapid spread of information on social media, it has become crucial to critically assess the authenticity of the sources of information we consume."
   ]
  },
  {
   "cell_type": "markdown",
   "id": "eef6e21b",
   "metadata": {},
   "source": [
    "# The Project\n",
    "\n",
    "Today, we have tools that help us identify fake news using *Machine Learning* and **Neural Networks** that can distinguish fake news from real information.\n",
    "\n",
    "We will use this theme to compare tensorflow and Pytorch libraries to build a fake news model classifier.\n",
    "\n",
    "**The objective of this project is to construct a PyTorch model for developing a prediction framework similar to the one already built in TensorFlow, and subsequently, to compare these models created in both environments.**\n",
    "\n",
    "To achieve this we will use The WELFake dataset that combines four prominent news datasets (Kaggle, McIntire, Reuters, and BuzzFeed Political), resulting in a comprehensive collection of 72,134 news articles. Among them, there are 35,028 real news articles and 37,106 fabricated ones.\n",
    "\n",
    "The dataset's publication article can be found at [IEEE Transactions on Computational Social Systems: pp. 1-13](https://doi.org/10.1109/TCSS.2021.3068519)\n",
    "\n",
    "The Dataset itself was downloaded via API with [Kaggle](https://www.kaggle.com/datasets/vcclab/welfake-dataset)\n",
    "\n"
   ]
  },
  {
   "cell_type": "markdown",
   "id": "51a8e6fc",
   "metadata": {},
   "source": [
    "### Importing Packages | Defining Classes and Functions"
   ]
  },
  {
   "cell_type": "code",
   "execution_count": 1,
   "id": "3ce16250",
   "metadata": {},
   "outputs": [
    {
     "name": "stdout",
     "output_type": "stream",
     "text": [
      "Requirement already satisfied: kaggle in c:\\programdata\\anaconda3\\lib\\site-packages (1.5.16)\n",
      "Requirement already satisfied: bleach in c:\\programdata\\anaconda3\\lib\\site-packages (from kaggle) (4.0.0)\n",
      "Requirement already satisfied: tqdm in c:\\programdata\\anaconda3\\lib\\site-packages (from kaggle) (4.62.3)\n",
      "Requirement already satisfied: urllib3 in c:\\programdata\\anaconda3\\lib\\site-packages (from kaggle) (1.26.7)\n",
      "Requirement already satisfied: python-dateutil in c:\\programdata\\anaconda3\\lib\\site-packages (from kaggle) (2.8.2)\n",
      "Requirement already satisfied: six>=1.10 in c:\\programdata\\anaconda3\\lib\\site-packages (from kaggle) (1.16.0)\n",
      "Requirement already satisfied: python-slugify in c:\\programdata\\anaconda3\\lib\\site-packages (from kaggle) (5.0.2)\n",
      "Requirement already satisfied: requests in c:\\programdata\\anaconda3\\lib\\site-packages (from kaggle) (2.26.0)\n",
      "Requirement already satisfied: certifi in c:\\programdata\\anaconda3\\lib\\site-packages (from kaggle) (2021.10.8)\n",
      "Requirement already satisfied: webencodings in c:\\programdata\\anaconda3\\lib\\site-packages (from bleach->kaggle) (0.5.1)\n",
      "Requirement already satisfied: packaging in c:\\programdata\\anaconda3\\lib\\site-packages (from bleach->kaggle) (21.0)\n",
      "Requirement already satisfied: pyparsing>=2.0.2 in c:\\programdata\\anaconda3\\lib\\site-packages (from packaging->bleach->kaggle) (3.0.4)\n",
      "Requirement already satisfied: text-unidecode>=1.3 in c:\\programdata\\anaconda3\\lib\\site-packages (from python-slugify->kaggle) (1.3)\n",
      "Requirement already satisfied: charset-normalizer~=2.0.0 in c:\\programdata\\anaconda3\\lib\\site-packages (from requests->kaggle) (2.0.4)\n",
      "Requirement already satisfied: idna<4,>=2.5 in c:\\programdata\\anaconda3\\lib\\site-packages (from requests->kaggle) (3.2)\n",
      "Requirement already satisfied: colorama in c:\\programdata\\anaconda3\\lib\\site-packages (from tqdm->kaggle) (0.4.4)\n"
     ]
    }
   ],
   "source": [
    "# importing packages\n",
    "import pandas as pd\n",
    "import numpy as np\n",
    "import matplotlib.pyplot as plt\n",
    "import plotly.express as px\n",
    "import plotly.graph_objects as go\n",
    "import seaborn as sns\n",
    "!pip install kaggle\n",
    "import zipfile\n",
    "from IPython.display import FileLink\n",
    "from pathlib import Path\n",
    "import shutil\n",
    "import torch\n",
    "import zipfile\n",
    "import csv\n",
    "import string\n",
    "from sklearn.model_selection import train_test_split\n",
    "from torch.nn.utils.rnn import pad_sequence\n",
    "from torch.utils.data import Dataset, DataLoader, TensorDataset\n",
    "import torch.nn as nn\n",
    "import torch.optim as optim\n",
    "from torchtext.data.utils import get_tokenizer\n",
    "import torchtext.vocab as vocab\n",
    "import collections\n",
    "from collections import defaultdict\n",
    "from torch.cuda.amp import autocast, GradScaler\n",
    "from time import time\n",
    "from torch.optim import Adam\n",
    "from torch.optim.lr_scheduler import StepLR\n",
    "from tqdm import tqdm\n",
    "import re\n",
    "\n",
    "# notebook configs\n",
    "np.random.seed(42)\n",
    "sns.set_style()\n",
    "\n",
    "import warnings\n",
    "warnings.filterwarnings('ignore')"
   ]
  },
  {
   "cell_type": "code",
   "execution_count": 2,
   "id": "40877ef1",
   "metadata": {},
   "outputs": [],
   "source": [
    "#defining functions used in the notebook\n",
    "def clean_text(text):\n",
    "    words = str(text).split()\n",
    "    words = [i.lower() + \" \" for i in words]\n",
    "    words = \" \".join(words)\n",
    "    words = words.translate(words.maketrans('', '', string.punctuation))\n",
    "    return words"
   ]
  },
  {
   "cell_type": "markdown",
   "id": "0a34464c",
   "metadata": {},
   "source": [
    "### Collecting data from kaggle API"
   ]
  },
  {
   "cell_type": "code",
   "execution_count": 3,
   "id": "f3f9c83e",
   "metadata": {
    "scrolled": false
   },
   "outputs": [
    {
     "name": "stdout",
     "output_type": "stream",
     "text": [
      "welfake-dataset.zip: Skipping, found more recently modified local copy (use --force to force download)\n"
     ]
    }
   ],
   "source": [
    "# Set up the storage location\n",
    "kaggle_dir = Path(\"~/.kaggle\").expanduser()\n",
    "kaggle_dir.mkdir(parents=True, exist_ok=True)\n",
    "\n",
    "# Change permissions\n",
    "(kaggle_dir / \"kaggle.json\").chmod(0o600)\n",
    "\n",
    "# the API address for dataset download\n",
    "!kaggle datasets download -d vcclab/welfake-dataset\n"
   ]
  },
  {
   "cell_type": "code",
   "execution_count": 4,
   "id": "633f329b",
   "metadata": {},
   "outputs": [],
   "source": [
    "# Path to the downloaded zip file\n",
    "path_to_zip_file = r'C:\\Users\\carmenscartezini\\Desktop\\projects\\welfake-dataset.zip'\n",
    "\n",
    "# Directory to extract to\n",
    "directory_to_extract_to = r'C:\\Users\\carmenscartezini\\Desktop\\projects'\n",
    "\n",
    "# Extract the zip file\n",
    "with zipfile.ZipFile(path_to_zip_file, 'r') as zip_ref:\n",
    "    zip_ref.extractall(directory_to_extract_to)"
   ]
  },
  {
   "cell_type": "code",
   "execution_count": 61,
   "id": "705f4328",
   "metadata": {},
   "outputs": [],
   "source": [
    "df = pd.read_csv(r'C:\\Users\\carmenscartezini\\Desktop\\projects\\WELfake_dataset.csv')"
   ]
  },
  {
   "cell_type": "code",
   "execution_count": 34,
   "id": "53c3eec8",
   "metadata": {},
   "outputs": [
    {
     "data": {
      "text/html": [
       "<div>\n",
       "<style scoped>\n",
       "    .dataframe tbody tr th:only-of-type {\n",
       "        vertical-align: middle;\n",
       "    }\n",
       "\n",
       "    .dataframe tbody tr th {\n",
       "        vertical-align: top;\n",
       "    }\n",
       "\n",
       "    .dataframe thead th {\n",
       "        text-align: right;\n",
       "    }\n",
       "</style>\n",
       "<table border=\"1\" class=\"dataframe\">\n",
       "  <thead>\n",
       "    <tr style=\"text-align: right;\">\n",
       "      <th></th>\n",
       "      <th>Unnamed: 0</th>\n",
       "      <th>title</th>\n",
       "      <th>text</th>\n",
       "      <th>label</th>\n",
       "    </tr>\n",
       "  </thead>\n",
       "  <tbody>\n",
       "    <tr>\n",
       "      <th>0</th>\n",
       "      <td>0</td>\n",
       "      <td>LAW ENFORCEMENT ON HIGH ALERT Following Threat...</td>\n",
       "      <td>No comment is expected from Barack Obama Membe...</td>\n",
       "      <td>1</td>\n",
       "    </tr>\n",
       "    <tr>\n",
       "      <th>1</th>\n",
       "      <td>1</td>\n",
       "      <td>NaN</td>\n",
       "      <td>Did they post their votes for Hillary already?</td>\n",
       "      <td>1</td>\n",
       "    </tr>\n",
       "    <tr>\n",
       "      <th>2</th>\n",
       "      <td>2</td>\n",
       "      <td>UNBELIEVABLE! OBAMA’S ATTORNEY GENERAL SAYS MO...</td>\n",
       "      <td>Now, most of the demonstrators gathered last ...</td>\n",
       "      <td>1</td>\n",
       "    </tr>\n",
       "    <tr>\n",
       "      <th>3</th>\n",
       "      <td>3</td>\n",
       "      <td>Bobby Jindal, raised Hindu, uses story of Chri...</td>\n",
       "      <td>A dozen politically active pastors came here f...</td>\n",
       "      <td>0</td>\n",
       "    </tr>\n",
       "    <tr>\n",
       "      <th>4</th>\n",
       "      <td>4</td>\n",
       "      <td>SATAN 2: Russia unvelis an image of its terrif...</td>\n",
       "      <td>The RS-28 Sarmat missile, dubbed Satan 2, will...</td>\n",
       "      <td>1</td>\n",
       "    </tr>\n",
       "  </tbody>\n",
       "</table>\n",
       "</div>"
      ],
      "text/plain": [
       "   Unnamed: 0                                              title  \\\n",
       "0           0  LAW ENFORCEMENT ON HIGH ALERT Following Threat...   \n",
       "1           1                                                NaN   \n",
       "2           2  UNBELIEVABLE! OBAMA’S ATTORNEY GENERAL SAYS MO...   \n",
       "3           3  Bobby Jindal, raised Hindu, uses story of Chri...   \n",
       "4           4  SATAN 2: Russia unvelis an image of its terrif...   \n",
       "\n",
       "                                                text  label  \n",
       "0  No comment is expected from Barack Obama Membe...      1  \n",
       "1     Did they post their votes for Hillary already?      1  \n",
       "2   Now, most of the demonstrators gathered last ...      1  \n",
       "3  A dozen politically active pastors came here f...      0  \n",
       "4  The RS-28 Sarmat missile, dubbed Satan 2, will...      1  "
      ]
     },
     "execution_count": 34,
     "metadata": {},
     "output_type": "execute_result"
    }
   ],
   "source": [
    "df.head()"
   ]
  },
  {
   "cell_type": "markdown",
   "id": "c2edaace",
   "metadata": {},
   "source": [
    "### Metadata\n",
    "\n",
    "* `title` - Title of the news\n",
    "* `text` - Text of the news\n",
    "* `label` which is our target variable and is divided into:\n",
    "  * True (Factual) = 0\n",
    "  * Fake (Falsa) = 1"
   ]
  },
  {
   "cell_type": "markdown",
   "id": "12f378ee",
   "metadata": {},
   "source": [
    "### Data Preprocessing\n",
    "\n",
    "When dealing with text data in `string` format, as demonstrated in the provided code, we apply Natural Language Processing (NLP) techniques to optimize the data for our model. In this case, the code exemplifies text preprocessing steps such as converting text to lowercase, removing punctuation, and applying these changes across the dataset. These preprocessing steps contribute to enhancing the model's ability to accurately process the data and produce the desired results."
   ]
  },
  {
   "cell_type": "code",
   "execution_count": 63,
   "id": "d143e07d",
   "metadata": {},
   "outputs": [],
   "source": [
    "df.drop('Unnamed: 0', axis=1, inplace=True)"
   ]
  },
  {
   "cell_type": "code",
   "execution_count": 64,
   "id": "ecbb4622",
   "metadata": {},
   "outputs": [
    {
     "data": {
      "text/plain": [
       "title    558\n",
       "text      39\n",
       "label      0\n",
       "dtype: int64"
      ]
     },
     "execution_count": 64,
     "metadata": {},
     "output_type": "execute_result"
    }
   ],
   "source": [
    "df.isnull().sum() # checking nulls"
   ]
  },
  {
   "cell_type": "code",
   "execution_count": 37,
   "id": "19b34d38",
   "metadata": {},
   "outputs": [],
   "source": [
    "df.dropna(subset=['text'], inplace=True)"
   ]
  },
  {
   "cell_type": "code",
   "execution_count": 38,
   "id": "3013cc1f",
   "metadata": {},
   "outputs": [],
   "source": [
    "df = df.fillna('') # lets fill nulls in title because we are inly analyzing text"
   ]
  },
  {
   "cell_type": "code",
   "execution_count": 39,
   "id": "70845a3f",
   "metadata": {},
   "outputs": [
    {
     "data": {
      "text/html": [
       "<div>\n",
       "<style scoped>\n",
       "    .dataframe tbody tr th:only-of-type {\n",
       "        vertical-align: middle;\n",
       "    }\n",
       "\n",
       "    .dataframe tbody tr th {\n",
       "        vertical-align: top;\n",
       "    }\n",
       "\n",
       "    .dataframe thead th {\n",
       "        text-align: right;\n",
       "    }\n",
       "</style>\n",
       "<table border=\"1\" class=\"dataframe\">\n",
       "  <thead>\n",
       "    <tr style=\"text-align: right;\">\n",
       "      <th></th>\n",
       "      <th>title</th>\n",
       "      <th>text</th>\n",
       "      <th>label</th>\n",
       "      <th>title_text</th>\n",
       "    </tr>\n",
       "  </thead>\n",
       "  <tbody>\n",
       "    <tr>\n",
       "      <th>0</th>\n",
       "      <td>LAW ENFORCEMENT ON HIGH ALERT Following Threat...</td>\n",
       "      <td>No comment is expected from Barack Obama Membe...</td>\n",
       "      <td>1</td>\n",
       "      <td>LAW ENFORCEMENT ON HIGH ALERT Following Threat...</td>\n",
       "    </tr>\n",
       "    <tr>\n",
       "      <th>1</th>\n",
       "      <td></td>\n",
       "      <td>Did they post their votes for Hillary already?</td>\n",
       "      <td>1</td>\n",
       "      <td>Did they post their votes for Hillary already?</td>\n",
       "    </tr>\n",
       "    <tr>\n",
       "      <th>2</th>\n",
       "      <td>UNBELIEVABLE! OBAMA’S ATTORNEY GENERAL SAYS MO...</td>\n",
       "      <td>Now, most of the demonstrators gathered last ...</td>\n",
       "      <td>1</td>\n",
       "      <td>UNBELIEVABLE! OBAMA’S ATTORNEY GENERAL SAYS MO...</td>\n",
       "    </tr>\n",
       "    <tr>\n",
       "      <th>3</th>\n",
       "      <td>Bobby Jindal, raised Hindu, uses story of Chri...</td>\n",
       "      <td>A dozen politically active pastors came here f...</td>\n",
       "      <td>0</td>\n",
       "      <td>Bobby Jindal, raised Hindu, uses story of Chri...</td>\n",
       "    </tr>\n",
       "    <tr>\n",
       "      <th>4</th>\n",
       "      <td>SATAN 2: Russia unvelis an image of its terrif...</td>\n",
       "      <td>The RS-28 Sarmat missile, dubbed Satan 2, will...</td>\n",
       "      <td>1</td>\n",
       "      <td>SATAN 2: Russia unvelis an image of its terrif...</td>\n",
       "    </tr>\n",
       "  </tbody>\n",
       "</table>\n",
       "</div>"
      ],
      "text/plain": [
       "                                               title  \\\n",
       "0  LAW ENFORCEMENT ON HIGH ALERT Following Threat...   \n",
       "1                                                      \n",
       "2  UNBELIEVABLE! OBAMA’S ATTORNEY GENERAL SAYS MO...   \n",
       "3  Bobby Jindal, raised Hindu, uses story of Chri...   \n",
       "4  SATAN 2: Russia unvelis an image of its terrif...   \n",
       "\n",
       "                                                text  label  \\\n",
       "0  No comment is expected from Barack Obama Membe...      1   \n",
       "1     Did they post their votes for Hillary already?      1   \n",
       "2   Now, most of the demonstrators gathered last ...      1   \n",
       "3  A dozen politically active pastors came here f...      0   \n",
       "4  The RS-28 Sarmat missile, dubbed Satan 2, will...      1   \n",
       "\n",
       "                                          title_text  \n",
       "0  LAW ENFORCEMENT ON HIGH ALERT Following Threat...  \n",
       "1     Did they post their votes for Hillary already?  \n",
       "2  UNBELIEVABLE! OBAMA’S ATTORNEY GENERAL SAYS MO...  \n",
       "3  Bobby Jindal, raised Hindu, uses story of Chri...  \n",
       "4  SATAN 2: Russia unvelis an image of its terrif...  "
      ]
     },
     "execution_count": 39,
     "metadata": {},
     "output_type": "execute_result"
    }
   ],
   "source": [
    "df[\"title_text\"] = df[\"title\"] + df[\"text\"]\n",
    "df.head()"
   ]
  },
  {
   "cell_type": "code",
   "execution_count": 40,
   "id": "9edcc58b",
   "metadata": {},
   "outputs": [],
   "source": [
    "df.drop([\"title\", \"text\"], axis=1, inplace=True)"
   ]
  },
  {
   "cell_type": "code",
   "execution_count": 41,
   "id": "55a5feaf",
   "metadata": {},
   "outputs": [],
   "source": [
    "#training with half data set - machine capacity\n",
    "df,_ = train_test_split(df, test_size=0.5, random_state=42)"
   ]
  },
  {
   "cell_type": "code",
   "execution_count": 42,
   "id": "238a25d6",
   "metadata": {},
   "outputs": [
    {
     "data": {
      "text/plain": [
       "1    18510\n",
       "0    17537\n",
       "Name: label, dtype: int64"
      ]
     },
     "execution_count": 42,
     "metadata": {},
     "output_type": "execute_result"
    }
   ],
   "source": [
    "df.label.value_counts() #dataset is well balanced"
   ]
  },
  {
   "cell_type": "markdown",
   "id": "073a12ef",
   "metadata": {},
   "source": [
    "## Feature Engineering\n",
    "In kaggle, the notebooks use to create a new feature: body_len.\n",
    "It usually shows that, the text size has a larger size when the text is fake content."
   ]
  },
  {
   "cell_type": "code",
   "execution_count": 43,
   "id": "de7cd7f0",
   "metadata": {},
   "outputs": [],
   "source": [
    "df[\"body_len\"] = df[\"title_text\"].apply(lambda x: len(x) - x.count(\" \"))"
   ]
  },
  {
   "cell_type": "code",
   "execution_count": 44,
   "id": "fc08793d",
   "metadata": {},
   "outputs": [
    {
     "data": {
      "image/png": "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\n",
      "text/plain": [
       "<Figure size 432x288 with 1 Axes>"
      ]
     },
     "metadata": {
      "needs_background": "light"
     },
     "output_type": "display_data"
    }
   ],
   "source": [
    "bins = np.linspace(0, 200, 40)\n",
    "\n",
    "plt.hist(df[df[\"label\"]== 1][\"body_len\"], bins, alpha=0.5, label=\"Fake\", color=\"#FF5733\")\n",
    "plt.hist(df[df[\"label\"]== 0][\"body_len\"], bins, alpha=0.5, label=\"Real\", color=\"#33FFB8\")\n",
    "plt.legend(loc=\"upper left\")\n",
    "plt.show()"
   ]
  },
  {
   "cell_type": "markdown",
   "id": "46492ea0",
   "metadata": {},
   "source": [
    "For creating new features, considering which attributes in the text could indicate fake news. We thought it would be interesting to create a feature that counts how many words are in uppercase in the text to understand if this attribute could also be an indicator to include in the model."
   ]
  },
  {
   "cell_type": "code",
   "execution_count": 54,
   "id": "1afd1e94",
   "metadata": {},
   "outputs": [],
   "source": [
    "def count_capslock_words(text):\n",
    "    words = re.findall(r'\\b[A-Z]+\\b', text)\n",
    "    return len(words)\n",
    "\n",
    "# Aplicar a função para contar palavras em caixa alta e armazenar em uma nova coluna\n",
    "df['capslock_word_count'] = df['title_text'].apply(count_capslock_words)"
   ]
  },
  {
   "cell_type": "code",
   "execution_count": 55,
   "id": "b6c7424c",
   "metadata": {},
   "outputs": [
    {
     "data": {
      "image/png": "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\n",
      "text/plain": [
       "<Figure size 432x288 with 1 Axes>"
      ]
     },
     "metadata": {
      "needs_background": "light"
     },
     "output_type": "display_data"
    }
   ],
   "source": [
    "bins = range(0,50)\n",
    "plt.hist(df[df[\"label\"] == 1][\"capslock_word_count\"], bins, alpha=0.5, label=\"Fake\", color=\"#FF5733\")\n",
    "plt.hist(df[df[\"label\"] == 0][\"capslock_word_count\"], bins, alpha=0.5, label=\"Real\", color=\"#33FFB8\")\n",
    "plt.legend(loc=\"upper right\")\n",
    "plt.xlabel(\"Number of Capslock Words\")\n",
    "plt.ylabel(\"Frequency\")\n",
    "plt.show()"
   ]
  },
  {
   "cell_type": "markdown",
   "id": "52c15976",
   "metadata": {},
   "source": [
    "In this case, this feature does not appear to have statistically significant differences for us to use in the model. Nevertheless, in this model, we will only be using the 'title_text' feature."
   ]
  },
  {
   "cell_type": "code",
   "execution_count": 58,
   "id": "e75ba092",
   "metadata": {},
   "outputs": [
    {
     "data": {
      "text/html": [
       "<div>\n",
       "<style scoped>\n",
       "    .dataframe tbody tr th:only-of-type {\n",
       "        vertical-align: middle;\n",
       "    }\n",
       "\n",
       "    .dataframe tbody tr th {\n",
       "        vertical-align: top;\n",
       "    }\n",
       "\n",
       "    .dataframe thead th {\n",
       "        text-align: right;\n",
       "    }\n",
       "</style>\n",
       "<table border=\"1\" class=\"dataframe\">\n",
       "  <thead>\n",
       "    <tr style=\"text-align: right;\">\n",
       "      <th></th>\n",
       "      <th>label</th>\n",
       "      <th>title_text</th>\n",
       "      <th>body_len</th>\n",
       "      <th>capslock_word_count</th>\n",
       "    </tr>\n",
       "  </thead>\n",
       "  <tbody>\n",
       "    <tr>\n",
       "      <th>37527</th>\n",
       "      <td>1</td>\n",
       "      <td>federal  judge  charges  sheriff  joe  with  c...</td>\n",
       "      <td>677</td>\n",
       "      <td>3</td>\n",
       "    </tr>\n",
       "    <tr>\n",
       "      <th>29526</th>\n",
       "      <td>1</td>\n",
       "      <td>you  can’t  make  this  up  black  man  wins  ...</td>\n",
       "      <td>1538</td>\n",
       "      <td>12</td>\n",
       "    </tr>\n",
       "    <tr>\n",
       "      <th>59388</th>\n",
       "      <td>0</td>\n",
       "      <td>trump  expected  to  make  vp  announcement  o...</td>\n",
       "      <td>845</td>\n",
       "      <td>5</td>\n",
       "    </tr>\n",
       "    <tr>\n",
       "      <th>10814</th>\n",
       "      <td>0</td>\n",
       "      <td>sweden  stops  some  new  aid  for  cambodia  ...</td>\n",
       "      <td>2489</td>\n",
       "      <td>9</td>\n",
       "    </tr>\n",
       "    <tr>\n",
       "      <th>25282</th>\n",
       "      <td>0</td>\n",
       "      <td>britains  labour  says  may  should  consider ...</td>\n",
       "      <td>752</td>\n",
       "      <td>2</td>\n",
       "    </tr>\n",
       "  </tbody>\n",
       "</table>\n",
       "</div>"
      ],
      "text/plain": [
       "       label                                         title_text  body_len  \\\n",
       "37527      1  federal  judge  charges  sheriff  joe  with  c...       677   \n",
       "29526      1  you  can’t  make  this  up  black  man  wins  ...      1538   \n",
       "59388      0  trump  expected  to  make  vp  announcement  o...       845   \n",
       "10814      0  sweden  stops  some  new  aid  for  cambodia  ...      2489   \n",
       "25282      0  britains  labour  says  may  should  consider ...       752   \n",
       "\n",
       "       capslock_word_count  \n",
       "37527                    3  \n",
       "29526                   12  \n",
       "59388                    5  \n",
       "10814                    9  \n",
       "25282                    2  "
      ]
     },
     "execution_count": 58,
     "metadata": {},
     "output_type": "execute_result"
    }
   ],
   "source": [
    "df['title_text'] = df['title_text'].apply(clean_text)\n",
    "df.head()"
   ]
  },
  {
   "cell_type": "code",
   "execution_count": 59,
   "id": "aeff575f",
   "metadata": {},
   "outputs": [],
   "source": [
    "X= df[['title_text']]\n",
    "y= df[['label']]"
   ]
  },
  {
   "cell_type": "markdown",
   "id": "8691b6a8",
   "metadata": {},
   "source": [
    "With Data already pre-processed we are going to split our data in train, test and validation."
   ]
  },
  {
   "cell_type": "code",
   "execution_count": 17,
   "id": "732e35bf",
   "metadata": {},
   "outputs": [
    {
     "name": "stdout",
     "output_type": "stream",
     "text": [
      "Train data size: 25232\n",
      "Validation data size: 5407\n",
      "Test data size: 5408\n"
     ]
    }
   ],
   "source": [
    "# Assuming you have X (features) and y (labels) data\n",
    "# Splitting data into 80% train, 10% validation, and 10% test\n",
    "X_train, X_temp, y_train, y_temp = train_test_split(X, y, test_size=0.3, random_state=42)\n",
    "X_val, X_test, y_val, y_test = train_test_split(X_temp, y_temp, test_size=0.5, random_state=42)\n",
    "\n",
    "# Print the sizes of the resulting splits\n",
    "print(\"Train data size:\", len(X_train))\n",
    "print(\"Validation data size:\", len(X_val))\n",
    "print(\"Test data size:\", len(X_test))"
   ]
  },
  {
   "cell_type": "markdown",
   "id": "dd7b3dc7",
   "metadata": {},
   "source": [
    "### Tokenization \n",
    "is a text processing technique that involves breaking down long strings of text into smaller units, known as tokens. These tokens can be words, subwords, or even characters, depending on the chosen level of granularity. Tokenization is a fundamental step in natural language processing tasks, enabling machines to process and understand textual data more effectively. It forms the basis for various language-related tasks, such as language modeling, sentiment analysis, and machine translation.\n",
    "\n",
    "<p align=center>\n",
    "  <img src=\"https://ambrapaliaidata.blob.core.windows.net/ai-storage/articles/22_8Jmr9FY.png\" height=\"30%\">\n",
    "</p>\n"
   ]
  },
  {
   "cell_type": "markdown",
   "id": "00750213",
   "metadata": {},
   "source": [
    "### Tensorflow\n",
    "The tokenization process in TensorFlow appears to be simpler because there is a function (`Tokenizer`) where you can define the maximum number of words in the vocabulary (vocab_size) that you would like to use in the model (this can help improve model performance, but not using all words from the data's vocabulary can lead to data loss). Additionally, there are other functions that automate various data preprocessing steps and even the model application itself.\n",
    "\n",
    "After applying the indices for each word using the tokenizer function, other functions come into play: `training_sequences` is a list of lists, where each inner list contains the indices representing words in the training text sequences. This step is necessary because computers understand numbers, not words.\n",
    "\n",
    "The `pad_sequences` function ensures that all input sequences have the same length. This is necessary because our matrices need to have the same size for our neural network to work properly. Words outside the vocabulary limit are padded with zeros.\n",
    "\n",
    "For this process in TensorFlow, 16 lines of code are used.\n",
    "\n",
    "This model is a copy of a model already created by the author **Carlos Melo Sigmoidal** in his machine learning courses using TensorFlow. I used his model, which already worked in this data context, and applied it to my dataset for comparison of the models generated in both libraries. \n",
    "\n",
    "**From this TensorFlow model, I developed a similar model in PyTorch.**"
   ]
  },
  {
   "cell_type": "raw",
   "id": "c3271d2d",
   "metadata": {},
   "source": [
    "vocab_size = 10000\n",
    "trunc_type = \"post\"\n",
    "pad_type = \"post\"\n",
    "oov_tok = \"<OOV>\"\n",
    "tokenizer = Tokenizer(num_words = vocab_size, oov_token=oov_tok)\n",
    "tokenizer.fit_on_texts(train.title_text)\n",
    "word_index = tokenizer.word_index\n",
    "\n",
    "# aplicando técnicas tokenizing e padding\n",
    "training_sequences = tokenizer.texts_to_sequences(np.array(train.title_text))\n",
    "training_padded = pad_sequences(training_sequences,truncating=trunc_type, padding=pad_type)\n",
    "\n",
    "max_length = len(training_padded[0])\n",
    "\n",
    "validation_sequences = tokenizer.texts_to_sequences(np.array(validation.title_text))\n",
    "validation_padded = pad_sequences(validation_sequences, padding=pad_type, truncating=trunc_type, maxlen = max_length)\n",
    "\n",
    "# criando arrays com inputs - tensors\n",
    "x_train = np.copy(training_padded)\n",
    "x_val = np.copy(validation_padded)\n",
    "y_train = train['label'].values\n",
    "y_val = validation['label'].values"
   ]
  },
  {
   "cell_type": "markdown",
   "id": "73beb042",
   "metadata": {},
   "source": [
    "### Pytorch\n",
    "In PyTorch, we don't have the built-in functions that play the role of defining the maximum vocabulary size for tokenization, defining sequences (training_sequences), and transforming those sequences with padding (training_padded). This is why we need to create these functions from scratch to use in our code. \n",
    "\n",
    "To build functions similar to those described in TensorFlow (which require 16 lines of code), we use ~~ 48 lines of code in PyTorch."
   ]
  },
  {
   "cell_type": "code",
   "execution_count": 18,
   "id": "3f47e9ed",
   "metadata": {},
   "outputs": [],
   "source": [
    "# Converting token in indices\n",
    "def generate_indices(sequences, word_to_idx):\n",
    "    return [[word_to_idx.get(token, word_to_idx[oov_tok]) for token in sequence] for sequence in sequences]\n",
    "\n",
    "# Convert indices sequences in PyTorch tensors and padding\n",
    "def sequences_to_tensors(sequences):\n",
    "    tensor_sequences = [torch.tensor(sequence) for sequence in sequences]\n",
    "    padded_sequences = pad_sequence(tensor_sequences, batch_first=True, padding_value=0)\n",
    "    return padded_sequences\n",
    "\n",
    "def build_vocab(sequences, vocab_size, oov_token):\n",
    "    word_to_idx = {\"<PAD>\": 0, oov_token: 1}  # inclusind special tokens\n",
    "    idx = 2  # indice to next words\n",
    "    word_count = {}  # word counter\n",
    "\n",
    "    for sequence in sequences:\n",
    "        for token in sequence:\n",
    "            if token not in word_count:\n",
    "                word_count[token] = 1\n",
    "            else:\n",
    "                word_count[token] += 1\n",
    "\n",
    "    # sorting words and adding in vocabulary\n",
    "    sorted_words = sorted(word_count.keys(), key=lambda x: word_count[x], reverse=True)\n",
    "\n",
    "    for word in sorted_words[:vocab_size - 2]:  # room for  <PAD> and <OOV>\n",
    "        word_to_idx[word] = idx\n",
    "        idx += 1\n",
    "\n",
    "    return word_to_idx"
   ]
  },
  {
   "cell_type": "code",
   "execution_count": 19,
   "id": "480794f3",
   "metadata": {},
   "outputs": [],
   "source": [
    "# Define max vocab size (vocab_size)\n",
    "vocab_size = 10000\n",
    "oov_tok = \"<OOV>\"\n",
    "\n",
    "# Creating tokenizer\n",
    "tokenizer = get_tokenizer('basic_english')\n",
    "\n",
    "# Tokenizing train, validation and text set\n",
    "train_sequences = [tokenizer(sample) for sample in X_train['title_text']]\n",
    "validation_sequences = [tokenizer(sample) for sample in X_val['title_text']]\n",
    "test_sequences = [tokenizer(sample) for sample in X_test['title_text']]\n",
    "\n",
    "# building vocab\n",
    "word_to_idx = build_vocab(train_sequences, vocab_size, oov_tok)\n",
    "\n",
    "# converting indice's sequences in PyTorch tensors and padding\n",
    "train_indices = generate_indices(train_sequences, word_to_idx)\n",
    "validation_indices = generate_indices(validation_sequences, word_to_idx)\n",
    "test_indices = generate_indices(test_sequences, word_to_idx)\n",
    "\n",
    "# Convert the index sequences to PyTorch tensors and do padding and truncation\n",
    "train_padded = sequences_to_tensors(train_indices)\n",
    "validation_padded = sequences_to_tensors(validation_indices)\n",
    "test_padded = sequences_to_tensors(test_indices)\n",
    "\n",
    "# Converting target in tensor\n",
    "y_train = torch.tensor(y_train['label'].values)\n",
    "y_val = torch.tensor(y_val['label'].values)\n",
    "y_test = torch.tensor(y_test['label'].values)\n",
    "\n",
    "x_train_tensor = torch.tensor(train_padded, dtype=torch.long)\n",
    "y_train_tensor = torch.tensor(y_train, dtype=torch.float32)  \n",
    "\n",
    "x_val_tensor = torch.tensor(validation_padded, dtype=torch.long)\n",
    "y_val_tensor = torch.tensor(y_val, dtype=torch.float32) \n",
    "\n",
    "batch_size = 32  # Define batch size\n",
    "#sets up a DataLoader to handle the batching and loading of these data pairs for training,\n",
    "#with options for shuffling and parallel processing\n",
    "train_dataset = TensorDataset(x_train_tensor, y_train_tensor)\n",
    "train_loader = DataLoader(train_dataset, batch_size=batch_size, shuffle=True,  num_workers=4)\n",
    "\n",
    "val_dataset = TensorDataset(x_val_tensor, y_val_tensor)\n",
    "val_loader = DataLoader(val_dataset, batch_size=batch_size, shuffle=True,  num_workers=4)\n"
   ]
  },
  {
   "cell_type": "markdown",
   "id": "1198a759",
   "metadata": {},
   "source": [
    "## Preparing, Instantiating, and Training the Model\n",
    "Now that our data is prepared, it's time to get to the heart of the matter.Lets go to the model."
   ]
  },
  {
   "cell_type": "markdown",
   "id": "14051c6e",
   "metadata": {},
   "source": [
    "### Tensorflow\n",
    "\n",
    "TensorFlow is more 'ready to use.' We have more automated APIs and functions for model application. \n",
    "\n",
    "Explanation of the TensorFlow model:\n",
    "\n",
    "- **tf.keras.Sequential**: It creates a sequential layer for the neural network, where the output of one layer is the input to the next.\n",
    "- **tf.keras.layers.Embedding**: It converts integer indices of words into dense vectors. vocab_size is the size of the vocabulary, 155 is the dimension of the embedding vectors, and input_length is the maximum length of input sequences.\n",
    "- **tf.keras.layers.Conv1D**: This is a 1D convolution layer used to learn feature representations from input data. It has 16 filters of size 5 and uses the 'relu' activation function.\n",
    "- **tf.keras.layers.GlobalMaxPooling1D()**: This layer performs global max-pooling over the output of the convolutional layer. It takes the maximum value of each filter across the entire sequence.\n",
    "- **tf.keras.layers.Dense**: This layer is commonly used in binary classification tasks (hence the sigmoid activation function), where you want to obtain a probability.\n",
    "- **model.compile**: This code configures a neural network model for training. It sets the loss function as 'binary_crossentropy' for binary classification problems, uses the Adam optimizer with a learning rate of 0.001 to adjust the model's weights, and tracks the accuracy metric during training to evaluate the model's performance.\n",
    "- **model.fit**: This code performs the training of the neural model. It fits the model to the training data (x_train and y_train) for 3 epochs, recording verbose training information with verbose=2. Additionally, it uses validation data (x_val and y_val) for evaluation during training.\n",
    "\n",
    "In just 10 lines of code, we manage to perform all these steps in tensorflow.\n",
    "\n",
    "PS: Tensorflow model was runned in another notebook with same dataset."
   ]
  },
  {
   "cell_type": "raw",
   "id": "31493d76",
   "metadata": {},
   "source": [
    "#instanciando e dando fit no modelo\n",
    "model = tf.keras.Sequential([\n",
    "        tf.keras.layers.Embedding(vocab_size, (155), input_length=max_length),\n",
    "        tf.keras.layers.Conv1D(16, 5, activation='relu'),\n",
    "        tf.keras.layers.GlobalMaxPooling1D(),\n",
    "        tf.keras.layers.Dense(1, activation='sigmoid')\n",
    "        ])\n",
    "\n",
    "model.compile(loss='binary_crossentropy',\n",
    "                      optimizer=tf.keras.optimizers.Adam(learning_rate = 0.001),\n",
    "                      metrics=['accuracy'])\n",
    "history = model.fit(x_train, y_train, verbose = 2, epochs = 3, validation_data = (x_val, y_val),\n",
    "                   callbacks=[tf.keras.callbacks.EarlyStopping('val_loss', patience=6)])"
   ]
  },
  {
   "cell_type": "markdown",
   "id": "8cacf36c",
   "metadata": {},
   "source": [
    "<p align=center>\n",
    "  <img src=\"https://github.com/carmenscar/photos-for-notebooks/blob/main/acc_loss_tensor.png?raw=true" height=\"30%\">\n",
    "</p>\n"
   ]
  },
  {
   "cell_type": "markdown",
   "id": "e1abb3dd",
   "metadata": {},
   "source": [
    "### Pytorch\n",
    "We have a more object-oriented approach in PyTorch. Therefore, we need to define functions. To use a function similar to TensorFlow, we use the same network structure, such as the number of layers, types of layers, vocabulary size, embedding dimension sizes, activation functions, learning rate, among others.\n",
    "Here is a little explanation about the code that was created in pytorch, in comparison with tensorflow code:\n",
    "\n",
    "**Embedding Layer**: Converts word indices into embedding vectors.\\\n",
    "`TensorFlow`: tf.keras.layers.Embedding\n",
    "`PyTorch`: nn.Embedding\n",
    "\n",
    "**1D Convolutional Layer**:  Performs one-dimensional convolution on word embeddings.\\\n",
    "`TensorFlow`: tf.keras.layers.Conv1D\n",
    "`PyTorch`: nn.Conv1d\n",
    "\n",
    "**Global Max Pooling Layer**: Reduces the output of the previous layer to a single value.\\\n",
    "`TensorFlow`: tf.keras.layers.GlobalMaxPooling1D\n",
    "`PyTorch`: nn.AdaptiveMaxPool1d(1)\n",
    "\n",
    "**Fully Connected Layer**: Performs linear operations followed by an activation (in TensorFlow, the activation is defined in the activation parameter).\\\n",
    "`TensorFlow`: tf.keras.layers.Dense\n",
    "`PyTorch`: nn.Linear\n",
    "\n",
    "**Model Compilation**:\n",
    "`TensorFlow`: model.compile\n",
    "`PyTorch`: There is no direct equivalent. Model compilation is usually done by manually defining a loss function and an optimizer during the training step.\n",
    "\n",
    "**Model Training**:\n",
    "`TensorFlow`: model.fit\n",
    "`PyTorch`: Typically involves manually implementing a training loop where you calculate the loss, perform backpropagation, and update the model's weights.\n",
    "Note: In PyTorch, you will need to manually define a training loop and use an optimizer to update the model's weights.\n",
    "\n",
    "To build this code, we used approximately 69 lines of code."
   ]
  },
  {
   "cell_type": "code",
   "execution_count": 20,
   "id": "8b490d7e",
   "metadata": {},
   "outputs": [],
   "source": [
    "class CustomModel(nn.Module):\n",
    "    def __init__(self, vocab_size, embedding_dim, max_length):\n",
    "        super(CustomModel, self).__init__()        \n",
    "        # Embedding Layer\n",
    "        self.embedding = nn.Embedding(vocab_size, embedding_dim, padding_idx=0)\n",
    "        # 1D Convolutional Layer with 'relu' activation\n",
    "        self.conv1d = nn.Sequential(nn.Conv1d(embedding_dim, 16, kernel_size=5),\n",
    "                                    nn.ReLU())  # Adding 'relu' activation directly to the Conv1D layer\n",
    "        # Global Max Pooling Layer\n",
    "        self.global_maxpooling = nn.AdaptiveMaxPool1d(1)\n",
    "        # Fully Connected Layer with 'sigmoid' activation\n",
    "        self.dense = nn.Sequential(nn.Linear(16, 1),\n",
    "                                   nn.Sigmoid())  # Adding 'sigmoid' activation directly to the Dense layer\n",
    "    \n",
    "    def forward(self, x):\n",
    "        # Embedding step\n",
    "        x = self.embedding(x)\n",
    "        # Transposing dimensions to fit the 1D convolutional layer\n",
    "        x = x.permute(0, 2, 1)\n",
    "        # 1D Convolutional step with 'relu' activation\n",
    "        x = self.conv1d(x)\n",
    "        # Global max pooling step\n",
    "        x = self.global_maxpooling(x)\n",
    "        # Fully connected layer step with 'sigmoid' activation\n",
    "        x = self.dense(x.squeeze(2))\n",
    "        \n",
    "        return x"
   ]
  },
  {
   "cell_type": "code",
   "execution_count": 21,
   "id": "bd4dc740",
   "metadata": {},
   "outputs": [],
   "source": [
    "# Define model\n",
    "vocab_size = 10000  \n",
    "embedding_dim = 155  \n",
    "max_length = train_padded.shape[1]  \n",
    "model = CustomModel(vocab_size, embedding_dim, max_length)\n",
    "\n",
    "# Define Loss Fucntion and optmizer\n",
    "criterion = nn.BCELoss() \n",
    "optimizer = optim.Adam(model.parameters(), lr=0.001)  \n"
   ]
  },
  {
   "cell_type": "code",
   "execution_count": 22,
   "id": "3f01f30c",
   "metadata": {},
   "outputs": [
    {
     "name": "stdout",
     "output_type": "stream",
     "text": [
      "Epoch 1/3,\n",
      "Training Loss: 0.2385,\n",
      "Training accuracy: 90.20%,\n",
      "Validation Loss: 0.1116,\n",
      "Validation acurracy: 95.80%\n",
      "Epoch 2/3,\n",
      "Training Loss: 0.0874,\n",
      "Training accuracy: 96.79%,\n",
      "Validation Loss: 0.0883,\n",
      "Validation acurracy: 96.58%\n",
      "Epoch 3/3,\n",
      "Training Loss: 0.0445,\n",
      "Training accuracy: 98.65%,\n",
      "Validation Loss: 0.0783,\n",
      "Validation acurracy: 96.80%\n"
     ]
    }
   ],
   "source": [
    "# Lists to store the average loss and accuracy for each epoch\n",
    "train_loss_history = []\n",
    "val_loss_history = []\n",
    "train_accuracy_history = []\n",
    "val_accuracy_history = []\n",
    "\n",
    "# Training\n",
    "num_epochs = 3  \n",
    "device = torch.device(\"cuda\" if torch.cuda.is_available() else \"cpu\")\n",
    "model.to(device)\n",
    "\n",
    "for epoch in range(num_epochs):\n",
    "    model.train()\n",
    "    total_loss = 0.0\n",
    "    correct_train = 0\n",
    "    total_train = 0\n",
    "    \n",
    "    for batch_inputs, batch_labels in train_loader:\n",
    "        batch_inputs, batch_labels = batch_inputs.to(device), batch_labels.to(device)\n",
    "        \n",
    "        optimizer.zero_grad()\n",
    "        outputs = model(batch_inputs)\n",
    "        batch_labels = batch_labels.view(-1, 1) #Resize labels to have the same shape as model outputs\n",
    "        # Calculate the loss\n",
    "        loss = criterion(outputs, batch_labels)\n",
    "        # Calculate the training accuracy \n",
    "        predictions = (outputs > 0.5).float()\n",
    "        correct_train += (predictions == batch_labels).sum().item()\n",
    "        total_train += batch_labels.size(0)\n",
    "        \n",
    "        # Backprop and optmization\n",
    "        loss.backward()\n",
    "        optimizer.step()\n",
    "        \n",
    "        total_loss += loss.item()\n",
    "    \n",
    "    # Calculate the average training loss and accuracy for the epoch\n",
    "    average_train_loss = total_loss / len(train_loader)\n",
    "    train_accuracy = correct_train / total_train\n",
    "    \n",
    "    # Validation\n",
    "    model.eval()\n",
    "    total_correct = 0\n",
    "    total_samples = 0\n",
    "    total_val_loss = 0.0\n",
    "    \n",
    "    with torch.no_grad():\n",
    "        for batch_inputs, batch_labels in val_loader:\n",
    "            batch_inputs, batch_labels = batch_inputs.to(device), batch_labels.to(device)\n",
    "            \n",
    "\n",
    "            outputs = model(batch_inputs)\n",
    "            batch_labels = batch_labels.view(-1, 1)\n",
    "            \n",
    "            val_loss = criterion(outputs, batch_labels)\n",
    "\n",
    "            predictions = (outputs > 0.5).float()\n",
    "            total_correct += (predictions == batch_labels).sum().item()\n",
    "            total_samples += batch_labels.size(0)\n",
    "            total_val_loss += val_loss.item()\n",
    "    \n",
    "    average_val_loss = total_val_loss / len(val_loader)\n",
    "    val_accuracy = total_correct / total_samples\n",
    "    \n",
    "    # Store the values in history\n",
    "    train_loss_history.append(average_train_loss)\n",
    "    val_loss_history.append(average_val_loss)\n",
    "    train_accuracy_history.append(train_accuracy)\n",
    "    val_accuracy_history.append(val_accuracy)\n",
    "    \n",
    "    print(f\"Epoch {epoch + 1}/{num_epochs},\")\n",
    "    print(f\"Training Loss: {average_train_loss:.4f},\")\n",
    "    print(f\"Training accuracy: {train_accuracy * 100:.2f}%,\")\n",
    "    print(f\"Validation Loss: {average_val_loss:.4f},\")\n",
    "    print(f\"Validation acurracy: {val_accuracy * 100:.2f}%\")\n",
    "\n"
   ]
  },
  {
   "cell_type": "markdown",
   "id": "295906b3",
   "metadata": {},
   "source": [
    "##  Model Evaluation\n",
    "Due to the similar architecture, structure, and parameters used by both models (in PyTorch and TensorFlow), the accuracy and loss results are also similar, as evidenced in the graphs below."
   ]
  },
  {
   "cell_type": "markdown",
   "id": "6b4b71f9",
   "metadata": {},
   "source": [
    "### Tensorflow"
   ]
  },
  {
   "cell_type": "raw",
   "id": "c86fd575",
   "metadata": {},
   "source": [
    "def plot_graphs(history, string):\n",
    "  plt.plot(history.history[string])\n",
    "  plt.plot(history.history['val_'+string])\n",
    "  plt.xlabel(\"Epochs\")\n",
    "  plt.ylabel(string)\n",
    "  plt.legend([string, 'val_'+string])\n",
    "  plt.show()\n",
    "\n",
    "plot_graphs(history, \"accuracy\")\n",
    "plot_graphs(history, \"loss\")"
   ]
  },
  {
   "cell_type": "markdown",
   "id": "c61b3bcf",
   "metadata": {},
   "source": [
    "<p align=left>\n",
    "  <img src=\"output2.png\" height=\"30%\">\n",
    "</p>\n",
    "<p align=left>\n",
    "  <img src=\"output3.png\" height=\"30%\">\n",
    "</p>"
   ]
  },
  {
   "cell_type": "markdown",
   "id": "855134a9",
   "metadata": {},
   "source": [
    "### Pytorch"
   ]
  },
  {
   "cell_type": "code",
   "execution_count": 23,
   "id": "4d7f4182",
   "metadata": {},
   "outputs": [
    {
     "data": {
      "image/png": "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\n",
      "text/plain": [
       "<Figure size 432x288 with 1 Axes>"
      ]
     },
     "metadata": {
      "needs_background": "light"
     },
     "output_type": "display_data"
    },
    {
     "data": {
      "image/png": "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\n",
      "text/plain": [
       "<Figure size 432x288 with 1 Axes>"
      ]
     },
     "metadata": {
      "needs_background": "light"
     },
     "output_type": "display_data"
    }
   ],
   "source": [
    "# Função para plotar gráficos\n",
    "import matplotlib.pyplot as plt\n",
    "\n",
    "def plot_graphs(train_history, val_history, string):\n",
    "    plt.plot(train_history, label='Training')\n",
    "    plt.plot(val_history, label='Validation')\n",
    "    plt.xlabel(\"Epochs\")\n",
    "    plt.ylabel(string)\n",
    "    plt.title('Evaluation Pytorch model')\n",
    "    plt.legend()\n",
    "    plt.show()\n",
    "\n",
    "# Plotar gráficos de perda e acurácia\n",
    "plot_graphs(train_loss_history, val_loss_history, 'Loss')\n",
    "plot_graphs(train_accuracy_history, val_accuracy_history, 'Accuracy')"
   ]
  },
  {
   "cell_type": "markdown",
   "id": "5990ec9c",
   "metadata": {},
   "source": [
    "##  Predict\n",
    "\n",
    "For the predict function in TensorFlow, you can apply the following code:"
   ]
  },
  {
   "cell_type": "markdown",
   "id": "a40e4140",
   "metadata": {},
   "source": [
    "### Tensorflow"
   ]
  },
  {
   "cell_type": "raw",
   "id": "09ca5272",
   "metadata": {},
   "source": [
    "test_sequences = tokenizer.texts_to_sequences(np.array(test.title_text))\n",
    "test_padded = pad_sequences(test_sequences, padding=pad_type, truncating=trunc_type, maxlen = max_length)"
   ]
  },
  {
   "cell_type": "raw",
   "id": "8e8e9a16",
   "metadata": {},
   "source": [
    "preds = np.round(model.predict(test_padded))"
   ]
  },
  {
   "cell_type": "raw",
   "id": "c31ae6fb",
   "metadata": {},
   "source": [
    "acc = np.sum(1 if i==j else 0 for i,j in zip(preds, test[\"label\"].values)) / len(test)\n",
    "print(\"Accuracy: \", acc )"
   ]
  },
  {
   "cell_type": "markdown",
   "id": "121dd4b5",
   "metadata": {},
   "source": [
    "### Pytorch\n",
    "The next steps would involve creating a predict function for Pytorch and then measuring the accuracy on the test set."
   ]
  },
  {
   "cell_type": "markdown",
   "id": "9e28ef42",
   "metadata": {},
   "source": [
    "# Conclusions\n",
    "\n",
    "PyTorch and TensorFlow are deep learning frameworks with different approaches. PyTorch offers Python-oriented flexibility, allowing you to build your own training logic and use custom DataLoaders. TensorFlow, on the other hand, provides high-level APIs like Keras, automating many aspects of training and data loading.\n",
    "\n",
    "The choice between PyTorch and TensorFlow depends on project preferences and requirements. Both are capable of performing similar tasks but offer different levels of control.Therefore, the functions are similar in both models, but the implementations may vary slightly due to differences between the libraries. \n",
    "\n",
    "Furthermore, feature engineering can be applied to improve models. In this context, we notice that words in uppercase does not seems to be statistical relevant to indicate a higher likelihood of the text being fake. But 'body_len' could enhance the model's performance.\n",
    "\n",
    "While the results are promising, further investigation is needed for real-world model applications."
   ]
  },
  {
   "cell_type": "markdown",
   "id": "95a96969",
   "metadata": {},
   "source": [
    "## Autor: Carmen Scartezini"
   ]
  }
 ],
 "metadata": {
  "kernelspec": {
   "display_name": "Python 3 (ipykernel)",
   "language": "python",
   "name": "python3"
  },
  "language_info": {
   "codemirror_mode": {
    "name": "ipython",
    "version": 3
   },
   "file_extension": ".py",
   "mimetype": "text/x-python",
   "name": "python",
   "nbconvert_exporter": "python",
   "pygments_lexer": "ipython3",
   "version": "3.9.7"
  }
 },
 "nbformat": 4,
 "nbformat_minor": 5
}
