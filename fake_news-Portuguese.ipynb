{
 "cells": [
  {
   "cell_type": "markdown",
   "id": "c7305e68",
   "metadata": {},
   "source": [
    "## Autora: Carmen Scartezini\n"
   ]
  },
  {
   "cell_type": "markdown",
   "id": "bc89f4da",
   "metadata": {},
   "source": [
    "# Fake News Classification - Tensorflow X Pytorch\n",
    "\n",
    "<p align=center>\n",
    "  <img src=\"https://img.freepik.com/fotos-gratis/conceito-de-noticias-falsas_23-2148837005.jpg?t=st=1693308306~exp=1693308906~hmac=e1b91872fdbcda0bacdf239cf76fcec1e23e63ac56d868cba6a227788a1308f9\" height=\"30%\">\n",
    "</p>\n",
    "\n",
    "Estamos vivendo na era da revolução digital, onde a informação é muito acessível, mas também enfrentamos desafios, como as Fake News. As Fake News abrangem uma ampla variedade de conteúdo enganoso, desde manipulações sutis de dados até a fabricação completa de eventos. Com a disseminação rápida da informação nas redes sociais, tornou-se crucial avaliar criticamente a autenticidade das fontes de informação que consumimos."
   ]
  },
  {
   "cell_type": "markdown",
   "id": "eef6e21b",
   "metadata": {},
   "source": [
    "# O projeto\n",
    "\n",
    "Hoje em dia, temos ferramentas que nos ajudam a identificar notícias falsas usando *Machine Learning* e **Deep Learning** que podem distinguir notícias falsas de informações reais.\n",
    "\n",
    "Vamos usar esse tema para comparar as bibliotecas TensorFlow e Pytorch na construção de um classificador de notícias falsas.\n",
    "\n",
    "**O objetivo deste projeto é construir um modelo PyTorch para desenvolver um framework de previsão semelhante ao que já foi construído no TensorFlow e, posteriormente, comparar esses modelos criados em ambos os ambientes.**\n",
    "\n",
    "Para isso, usaremos o conjunto de dados WELFake, que combina quatro conjuntos de dados de notícias proeminentes (Kaggle, McIntire, Reuters e BuzzFeed Political), resultando em uma coleção abrangente de 72.134 artigos de notícias. Entre eles, há 35.028 artigos de notícias reais e 37.106 fabricados. Para esse projeto utilizamos metade desses dados em decorrencia da capacidade computacional e tempo de treinamento disponiveis.\n",
    "\n",
    "O artigo de publicação do conjunto de dados pode ser rastreado em [IEEE Transactions on Computational Social Systems: pp. 1-13](https://doi.org/10.1109/TCSS.2021.3068519)\n",
    "\n",
    "O Dataset foi importado via API com [Kaggle](https://www.kaggle.com/datasets/vcclab/welfake-dataset)"
   ]
  },
  {
   "cell_type": "markdown",
   "id": "51a8e6fc",
   "metadata": {},
   "source": [
    "### Importando Pacotes e definindo funções"
   ]
  },
  {
   "cell_type": "code",
   "execution_count": 23,
   "id": "3ce16250",
   "metadata": {},
   "outputs": [
    {
     "name": "stdout",
     "output_type": "stream",
     "text": [
      "Requirement already satisfied: kaggle in c:\\programdata\\anaconda3\\lib\\site-packages (1.5.16)\n",
      "Requirement already satisfied: certifi in c:\\programdata\\anaconda3\\lib\\site-packages (from kaggle) (2021.10.8)\n",
      "Requirement already satisfied: urllib3 in c:\\programdata\\anaconda3\\lib\\site-packages (from kaggle) (1.26.7)\n",
      "Requirement already satisfied: requests in c:\\programdata\\anaconda3\\lib\\site-packages (from kaggle) (2.26.0)\n",
      "Requirement already satisfied: six>=1.10 in c:\\programdata\\anaconda3\\lib\\site-packages (from kaggle) (1.16.0)\n",
      "Requirement already satisfied: python-dateutil in c:\\programdata\\anaconda3\\lib\\site-packages (from kaggle) (2.8.2)\n",
      "Requirement already satisfied: tqdm in c:\\programdata\\anaconda3\\lib\\site-packages (from kaggle) (4.62.3)\n",
      "Requirement already satisfied: bleach in c:\\programdata\\anaconda3\\lib\\site-packages (from kaggle) (4.0.0)\n",
      "Requirement already satisfied: python-slugify in c:\\programdata\\anaconda3\\lib\\site-packages (from kaggle) (5.0.2)\n",
      "Requirement already satisfied: packaging in c:\\programdata\\anaconda3\\lib\\site-packages (from bleach->kaggle) (21.0)\n",
      "Requirement already satisfied: webencodings in c:\\programdata\\anaconda3\\lib\\site-packages (from bleach->kaggle) (0.5.1)\n",
      "Requirement already satisfied: pyparsing>=2.0.2 in c:\\programdata\\anaconda3\\lib\\site-packages (from packaging->bleach->kaggle) (3.0.4)\n",
      "Requirement already satisfied: text-unidecode>=1.3 in c:\\programdata\\anaconda3\\lib\\site-packages (from python-slugify->kaggle) (1.3)\n",
      "Requirement already satisfied: idna<4,>=2.5 in c:\\programdata\\anaconda3\\lib\\site-packages (from requests->kaggle) (3.2)\n",
      "Requirement already satisfied: charset-normalizer~=2.0.0 in c:\\programdata\\anaconda3\\lib\\site-packages (from requests->kaggle) (2.0.4)\n",
      "Requirement already satisfied: colorama in c:\\programdata\\anaconda3\\lib\\site-packages (from tqdm->kaggle) (0.4.4)\n"
     ]
    }
   ],
   "source": [
    "# importando pacotes\n",
    "import pandas as pd\n",
    "import numpy as np\n",
    "import matplotlib.pyplot as plt\n",
    "import plotly.express as px\n",
    "import plotly.graph_objects as go\n",
    "import seaborn as sns\n",
    "!pip install kaggle\n",
    "import zipfile\n",
    "from IPython.display import FileLink\n",
    "from pathlib import Path\n",
    "import shutil\n",
    "import torch\n",
    "import zipfile\n",
    "import csv\n",
    "import string\n",
    "from sklearn.model_selection import train_test_split\n",
    "from torch.nn.utils.rnn import pad_sequence\n",
    "from torch.utils.data import Dataset, DataLoader, TensorDataset\n",
    "import torch.nn as nn\n",
    "import torch.optim as optim\n",
    "from torchtext.data.utils import get_tokenizer\n",
    "import torchtext.vocab as vocab\n",
    "import collections\n",
    "from collections import defaultdict\n",
    "from torch.cuda.amp import autocast, GradScaler\n",
    "from time import time\n",
    "from torch.optim import Adam\n",
    "from torch.optim.lr_scheduler import StepLR\n",
    "from tqdm import tqdm\n",
    "import re\n",
    "\n",
    "\n",
    "# notebook configs\n",
    "np.random.seed(42)\n",
    "sns.set_style()\n",
    "\n",
    "import warnings\n",
    "warnings.filterwarnings('ignore')"
   ]
  },
  {
   "cell_type": "code",
   "execution_count": 3,
   "id": "40877ef1",
   "metadata": {},
   "outputs": [],
   "source": [
    "#Definindo funções\n",
    "def clean_text(text):\n",
    "    words = str(text).split()\n",
    "    words = [i.lower() + \" \" for i in words]\n",
    "    words = \" \".join(words)\n",
    "    words = words.translate(words.maketrans('', '', string.punctuation))\n",
    "    return words"
   ]
  },
  {
   "cell_type": "markdown",
   "id": "0a34464c",
   "metadata": {},
   "source": [
    "### Fazendo a conexão com os dados pela API do Kaggle"
   ]
  },
  {
   "cell_type": "code",
   "execution_count": 3,
   "id": "f3f9c83e",
   "metadata": {
    "scrolled": false
   },
   "outputs": [
    {
     "name": "stdout",
     "output_type": "stream",
     "text": [
      "welfake-dataset.zip: Skipping, found more recently modified local copy (use --force to force download)\n"
     ]
    }
   ],
   "source": [
    "# configurando local de armazenamento do arquivo\n",
    "kaggle_dir = Path(\"~/.kaggle\").expanduser()\n",
    "kaggle_dir.mkdir(parents=True, exist_ok=True)\n",
    "\n",
    "# mudando permissões\n",
    "(kaggle_dir / \"kaggle.json\").chmod(0o600)\n",
    "\n",
    "# endereço de API\n",
    "!kaggle datasets download -d vcclab/welfake-dataset\n"
   ]
  },
  {
   "cell_type": "code",
   "execution_count": 4,
   "id": "633f329b",
   "metadata": {},
   "outputs": [],
   "source": [
    "# caminho do arquivo baixado\n",
    "path_to_zip_file = r'C:\\Users\\carmenscartezini\\Desktop\\projects\\welfake-dataset.zip'\n",
    "\n",
    "# Diretório para extração do arquivo\n",
    "directory_to_extract_to = r'C:\\Users\\carmenscartezini\\Desktop\\projects'\n",
    "\n",
    "# Extração do arquivo zipado\n",
    "with zipfile.ZipFile(path_to_zip_file, 'r') as zip_ref:\n",
    "    zip_ref.extractall(directory_to_extract_to)"
   ]
  },
  {
   "cell_type": "code",
   "execution_count": 4,
   "id": "705f4328",
   "metadata": {},
   "outputs": [],
   "source": [
    "df = pd.read_csv(r'C:\\Users\\carmenscartezini\\Desktop\\projects\\WELfake_dataset.csv')"
   ]
  },
  {
   "cell_type": "code",
   "execution_count": 5,
   "id": "53c3eec8",
   "metadata": {},
   "outputs": [
    {
     "data": {
      "text/html": [
       "<div>\n",
       "<style scoped>\n",
       "    .dataframe tbody tr th:only-of-type {\n",
       "        vertical-align: middle;\n",
       "    }\n",
       "\n",
       "    .dataframe tbody tr th {\n",
       "        vertical-align: top;\n",
       "    }\n",
       "\n",
       "    .dataframe thead th {\n",
       "        text-align: right;\n",
       "    }\n",
       "</style>\n",
       "<table border=\"1\" class=\"dataframe\">\n",
       "  <thead>\n",
       "    <tr style=\"text-align: right;\">\n",
       "      <th></th>\n",
       "      <th>Unnamed: 0</th>\n",
       "      <th>title</th>\n",
       "      <th>text</th>\n",
       "      <th>label</th>\n",
       "    </tr>\n",
       "  </thead>\n",
       "  <tbody>\n",
       "    <tr>\n",
       "      <th>0</th>\n",
       "      <td>0</td>\n",
       "      <td>LAW ENFORCEMENT ON HIGH ALERT Following Threat...</td>\n",
       "      <td>No comment is expected from Barack Obama Membe...</td>\n",
       "      <td>1</td>\n",
       "    </tr>\n",
       "    <tr>\n",
       "      <th>1</th>\n",
       "      <td>1</td>\n",
       "      <td>NaN</td>\n",
       "      <td>Did they post their votes for Hillary already?</td>\n",
       "      <td>1</td>\n",
       "    </tr>\n",
       "    <tr>\n",
       "      <th>2</th>\n",
       "      <td>2</td>\n",
       "      <td>UNBELIEVABLE! OBAMA’S ATTORNEY GENERAL SAYS MO...</td>\n",
       "      <td>Now, most of the demonstrators gathered last ...</td>\n",
       "      <td>1</td>\n",
       "    </tr>\n",
       "    <tr>\n",
       "      <th>3</th>\n",
       "      <td>3</td>\n",
       "      <td>Bobby Jindal, raised Hindu, uses story of Chri...</td>\n",
       "      <td>A dozen politically active pastors came here f...</td>\n",
       "      <td>0</td>\n",
       "    </tr>\n",
       "    <tr>\n",
       "      <th>4</th>\n",
       "      <td>4</td>\n",
       "      <td>SATAN 2: Russia unvelis an image of its terrif...</td>\n",
       "      <td>The RS-28 Sarmat missile, dubbed Satan 2, will...</td>\n",
       "      <td>1</td>\n",
       "    </tr>\n",
       "  </tbody>\n",
       "</table>\n",
       "</div>"
      ],
      "text/plain": [
       "   Unnamed: 0                                              title  \\\n",
       "0           0  LAW ENFORCEMENT ON HIGH ALERT Following Threat...   \n",
       "1           1                                                NaN   \n",
       "2           2  UNBELIEVABLE! OBAMA’S ATTORNEY GENERAL SAYS MO...   \n",
       "3           3  Bobby Jindal, raised Hindu, uses story of Chri...   \n",
       "4           4  SATAN 2: Russia unvelis an image of its terrif...   \n",
       "\n",
       "                                                text  label  \n",
       "0  No comment is expected from Barack Obama Membe...      1  \n",
       "1     Did they post their votes for Hillary already?      1  \n",
       "2   Now, most of the demonstrators gathered last ...      1  \n",
       "3  A dozen politically active pastors came here f...      0  \n",
       "4  The RS-28 Sarmat missile, dubbed Satan 2, will...      1  "
      ]
     },
     "execution_count": 5,
     "metadata": {},
     "output_type": "execute_result"
    }
   ],
   "source": [
    "df.head()"
   ]
  },
  {
   "cell_type": "markdown",
   "id": "c2edaace",
   "metadata": {},
   "source": [
    "### Metadata\n",
    "\n",
    "* `title` - Título das mensagens\n",
    "* `text` - Texto contido das mensagens\n",
    "* `label` é o nosso target onde:\n",
    "  * True (Real) = 0\n",
    "  * Fake (Falso) = 1"
   ]
  },
  {
   "cell_type": "markdown",
   "id": "12f378ee",
   "metadata": {},
   "source": [
    "### Data Preprocessing\n",
    "\n",
    "Quando lidamos com dados de texto no formato `string`, como demonstrado no código fornecido, aplicamos técnicas de Processamento de Linguagem Natural (NLP) para otimizar os dados para o nosso modelo. Nesse caso, o código exemplifica etapas de pré-processamento de texto, como a conversão do texto para letras minúsculas, remoção de pontuação e a aplicação dessas alterações em todo o conjunto de dados. Essas etapas de pré-processamento contribuem para aprimorar a capacidade do modelo de processar os dados com precisão e produzir os resultados desejados."
   ]
  },
  {
   "cell_type": "code",
   "execution_count": 6,
   "id": "d143e07d",
   "metadata": {},
   "outputs": [],
   "source": [
    "df.drop('Unnamed: 0', axis=1, inplace=True)"
   ]
  },
  {
   "cell_type": "code",
   "execution_count": 7,
   "id": "ecbb4622",
   "metadata": {},
   "outputs": [
    {
     "data": {
      "text/plain": [
       "title    558\n",
       "text      39\n",
       "label      0\n",
       "dtype: int64"
      ]
     },
     "execution_count": 7,
     "metadata": {},
     "output_type": "execute_result"
    }
   ],
   "source": [
    "df.isnull().sum()"
   ]
  },
  {
   "cell_type": "code",
   "execution_count": 8,
   "id": "19b34d38",
   "metadata": {},
   "outputs": [],
   "source": [
    "df.dropna(subset=['text'], inplace=True)"
   ]
  },
  {
   "cell_type": "code",
   "execution_count": 9,
   "id": "3013cc1f",
   "metadata": {},
   "outputs": [],
   "source": [
    "df = df.fillna('') # Preenchendo nulos com espaços vazios"
   ]
  },
  {
   "cell_type": "code",
   "execution_count": 10,
   "id": "70845a3f",
   "metadata": {},
   "outputs": [
    {
     "data": {
      "text/html": [
       "<div>\n",
       "<style scoped>\n",
       "    .dataframe tbody tr th:only-of-type {\n",
       "        vertical-align: middle;\n",
       "    }\n",
       "\n",
       "    .dataframe tbody tr th {\n",
       "        vertical-align: top;\n",
       "    }\n",
       "\n",
       "    .dataframe thead th {\n",
       "        text-align: right;\n",
       "    }\n",
       "</style>\n",
       "<table border=\"1\" class=\"dataframe\">\n",
       "  <thead>\n",
       "    <tr style=\"text-align: right;\">\n",
       "      <th></th>\n",
       "      <th>title</th>\n",
       "      <th>text</th>\n",
       "      <th>label</th>\n",
       "      <th>title_text</th>\n",
       "    </tr>\n",
       "  </thead>\n",
       "  <tbody>\n",
       "    <tr>\n",
       "      <th>0</th>\n",
       "      <td>LAW ENFORCEMENT ON HIGH ALERT Following Threat...</td>\n",
       "      <td>No comment is expected from Barack Obama Membe...</td>\n",
       "      <td>1</td>\n",
       "      <td>LAW ENFORCEMENT ON HIGH ALERT Following Threat...</td>\n",
       "    </tr>\n",
       "    <tr>\n",
       "      <th>1</th>\n",
       "      <td></td>\n",
       "      <td>Did they post their votes for Hillary already?</td>\n",
       "      <td>1</td>\n",
       "      <td>Did they post their votes for Hillary already?</td>\n",
       "    </tr>\n",
       "    <tr>\n",
       "      <th>2</th>\n",
       "      <td>UNBELIEVABLE! OBAMA’S ATTORNEY GENERAL SAYS MO...</td>\n",
       "      <td>Now, most of the demonstrators gathered last ...</td>\n",
       "      <td>1</td>\n",
       "      <td>UNBELIEVABLE! OBAMA’S ATTORNEY GENERAL SAYS MO...</td>\n",
       "    </tr>\n",
       "    <tr>\n",
       "      <th>3</th>\n",
       "      <td>Bobby Jindal, raised Hindu, uses story of Chri...</td>\n",
       "      <td>A dozen politically active pastors came here f...</td>\n",
       "      <td>0</td>\n",
       "      <td>Bobby Jindal, raised Hindu, uses story of Chri...</td>\n",
       "    </tr>\n",
       "    <tr>\n",
       "      <th>4</th>\n",
       "      <td>SATAN 2: Russia unvelis an image of its terrif...</td>\n",
       "      <td>The RS-28 Sarmat missile, dubbed Satan 2, will...</td>\n",
       "      <td>1</td>\n",
       "      <td>SATAN 2: Russia unvelis an image of its terrif...</td>\n",
       "    </tr>\n",
       "  </tbody>\n",
       "</table>\n",
       "</div>"
      ],
      "text/plain": [
       "                                               title  \\\n",
       "0  LAW ENFORCEMENT ON HIGH ALERT Following Threat...   \n",
       "1                                                      \n",
       "2  UNBELIEVABLE! OBAMA’S ATTORNEY GENERAL SAYS MO...   \n",
       "3  Bobby Jindal, raised Hindu, uses story of Chri...   \n",
       "4  SATAN 2: Russia unvelis an image of its terrif...   \n",
       "\n",
       "                                                text  label  \\\n",
       "0  No comment is expected from Barack Obama Membe...      1   \n",
       "1     Did they post their votes for Hillary already?      1   \n",
       "2   Now, most of the demonstrators gathered last ...      1   \n",
       "3  A dozen politically active pastors came here f...      0   \n",
       "4  The RS-28 Sarmat missile, dubbed Satan 2, will...      1   \n",
       "\n",
       "                                          title_text  \n",
       "0  LAW ENFORCEMENT ON HIGH ALERT Following Threat...  \n",
       "1     Did they post their votes for Hillary already?  \n",
       "2  UNBELIEVABLE! OBAMA’S ATTORNEY GENERAL SAYS MO...  \n",
       "3  Bobby Jindal, raised Hindu, uses story of Chri...  \n",
       "4  SATAN 2: Russia unvelis an image of its terrif...  "
      ]
     },
     "execution_count": 10,
     "metadata": {},
     "output_type": "execute_result"
    }
   ],
   "source": [
    "df[\"title_text\"] = df[\"title\"] + df[\"text\"]\n",
    "df.head()"
   ]
  },
  {
   "cell_type": "code",
   "execution_count": 11,
   "id": "9edcc58b",
   "metadata": {},
   "outputs": [],
   "source": [
    "df.drop([\"title\", \"text\"], axis=1, inplace=True)"
   ]
  },
  {
   "cell_type": "code",
   "execution_count": 12,
   "id": "55a5feaf",
   "metadata": {},
   "outputs": [],
   "source": [
    "#Dividindo os dados ao meio\n",
    "df,_ = train_test_split(df, test_size=0.5, random_state=42)"
   ]
  },
  {
   "cell_type": "code",
   "execution_count": 13,
   "id": "238a25d6",
   "metadata": {},
   "outputs": [
    {
     "data": {
      "text/plain": [
       "1    18510\n",
       "0    17537\n",
       "Name: label, dtype: int64"
      ]
     },
     "execution_count": 13,
     "metadata": {},
     "output_type": "execute_result"
    }
   ],
   "source": [
    "df.label.value_counts()"
   ]
  },
  {
   "cell_type": "markdown",
   "id": "ef3084fc",
   "metadata": {},
   "source": [
    "## Feature Engineering\n",
    "No Kaggle os notebooks sobre o tema costumam criar uma nova feature: body_len\n",
    "E normalmente nesse contexto, nos notebooks avaliados, o tamanho do texto parece ser um bom indicador de fake news.\n"
   ]
  },
  {
   "cell_type": "code",
   "execution_count": 14,
   "id": "11cd98d5",
   "metadata": {},
   "outputs": [],
   "source": [
    "df[\"body_len\"] = df[\"title_text\"].apply(lambda x: len(x) - x.count(\" \"))"
   ]
  },
  {
   "cell_type": "code",
   "execution_count": 15,
   "id": "d65c8441",
   "metadata": {},
   "outputs": [
    {
     "data": {
      "image/png": "[encoded data removed]",
      "text/plain": [
       "<Figure size 432x288 with 1 Axes>"
      ]
     },
     "metadata": {
      "needs_background": "light"
     },
     "output_type": "display_data"
    }
   ],
   "source": [
    "bins = np.linspace(0, 200, 40)\n",
    "\n",
    "plt.hist(df[df[\"label\"]== 1][\"body_len\"], bins, alpha=0.5, label=\"Fake\", color=\"#FF5733\")\n",
    "plt.hist(df[df[\"label\"]== 0][\"body_len\"], bins, alpha=0.5, label=\"Real\", color=\"#33FFB8\")\n",
    "plt.legend(loc=\"upper left\")\n",
    "plt.show()"
   ]
  },
  {
   "cell_type": "markdown",
   "id": "afe0c37d",
   "metadata": {},
   "source": [
    "Para criação de novas features, pensando em quais atributos no texto poderiam indicar fake news. Pensamos que seria interessante criar uma feature que conte quantas palavras estão em capslock no texto pra entender se este atributo também poderia ser um indicador pra incluir no modelo."
   ]
  },
  {
   "cell_type": "code",
   "execution_count": 19,
   "id": "06c95f5c",
   "metadata": {},
   "outputs": [],
   "source": [
    "def count_capslock_words(text):\n",
    "    words = re.findall(r'\\b[A-Z]+\\b', text)\n",
    "    return len(words)\n",
    "\n",
    "# Aplicar a função para contar palavras em caixa alta e armazenar em uma nova coluna\n",
    "df['capslock_word_count'] = df['title_text'].apply(count_capslock_words)"
   ]
  },
  {
   "cell_type": "code",
   "execution_count": 20,
   "id": "4c0f14b8",
   "metadata": {},
   "outputs": [
    {
     "data": {
      "image/png": "[encoded data removed]",
      "text/plain": [
       "<Figure size 432x288 with 1 Axes>"
      ]
     },
     "metadata": {
      "needs_background": "light"
     },
     "output_type": "display_data"
    }
   ],
   "source": [
    "bins = range(0,50)\n",
    "plt.hist(df[df[\"label\"] == 1][\"capslock_word_count\"], bins, alpha=0.5, label=\"Fake\", color=\"#FF5733\")\n",
    "plt.hist(df[df[\"label\"] == 0][\"capslock_word_count\"], bins, alpha=0.5, label=\"Real\", color=\"#33FFB8\")\n",
    "plt.legend(loc=\"upper right\")\n",
    "plt.xlabel(\"Number of Capslock Words\")\n",
    "plt.ylabel(\"Frequency\")\n",
    "plt.show()"
   ]
  },
  {
   "cell_type": "markdown",
   "id": "0e85230d",
   "metadata": {},
   "source": [
    "Neste caso, essa feature não parece ter diferenças estatisticas relevantes para que usemos no modelo.\n",
    "De qualquer forma, neste modelo só iremos usar a feature 'title_text'."
   ]
  },
  {
   "cell_type": "code",
   "execution_count": 21,
   "id": "f7a1f9da",
   "metadata": {},
   "outputs": [
    {
     "data": {
      "text/html": [
       "<div>\n",
       "<style scoped>\n",
       "    .dataframe tbody tr th:only-of-type {\n",
       "        vertical-align: middle;\n",
       "    }\n",
       "\n",
       "    .dataframe tbody tr th {\n",
       "        vertical-align: top;\n",
       "    }\n",
       "\n",
       "    .dataframe thead th {\n",
       "        text-align: right;\n",
       "    }\n",
       "</style>\n",
       "<table border=\"1\" class=\"dataframe\">\n",
       "  <thead>\n",
       "    <tr style=\"text-align: right;\">\n",
       "      <th></th>\n",
       "      <th>label</th>\n",
       "      <th>title_text</th>\n",
       "      <th>body_len</th>\n",
       "      <th>capslock_word_count</th>\n",
       "    </tr>\n",
       "  </thead>\n",
       "  <tbody>\n",
       "    <tr>\n",
       "      <th>37527</th>\n",
       "      <td>1</td>\n",
       "      <td>federal  judge  charges  sheriff  joe  with  c...</td>\n",
       "      <td>677</td>\n",
       "      <td>3</td>\n",
       "    </tr>\n",
       "    <tr>\n",
       "      <th>29526</th>\n",
       "      <td>1</td>\n",
       "      <td>you  can’t  make  this  up  black  man  wins  ...</td>\n",
       "      <td>1538</td>\n",
       "      <td>12</td>\n",
       "    </tr>\n",
       "    <tr>\n",
       "      <th>59388</th>\n",
       "      <td>0</td>\n",
       "      <td>trump  expected  to  make  vp  announcement  o...</td>\n",
       "      <td>845</td>\n",
       "      <td>5</td>\n",
       "    </tr>\n",
       "    <tr>\n",
       "      <th>10814</th>\n",
       "      <td>0</td>\n",
       "      <td>sweden  stops  some  new  aid  for  cambodia  ...</td>\n",
       "      <td>2489</td>\n",
       "      <td>9</td>\n",
       "    </tr>\n",
       "    <tr>\n",
       "      <th>25282</th>\n",
       "      <td>0</td>\n",
       "      <td>britains  labour  says  may  should  consider ...</td>\n",
       "      <td>752</td>\n",
       "      <td>2</td>\n",
       "    </tr>\n",
       "  </tbody>\n",
       "</table>\n",
       "</div>"
      ],
      "text/plain": [
       "       label                                         title_text  body_len  \\\n",
       "37527      1  federal  judge  charges  sheriff  joe  with  c...       677   \n",
       "29526      1  you  can’t  make  this  up  black  man  wins  ...      1538   \n",
       "59388      0  trump  expected  to  make  vp  announcement  o...       845   \n",
       "10814      0  sweden  stops  some  new  aid  for  cambodia  ...      2489   \n",
       "25282      0  britains  labour  says  may  should  consider ...       752   \n",
       "\n",
       "       capslock_word_count  \n",
       "37527                    3  \n",
       "29526                   12  \n",
       "59388                    5  \n",
       "10814                    9  \n",
       "25282                    2  "
      ]
     },
     "execution_count": 21,
     "metadata": {},
     "output_type": "execute_result"
    }
   ],
   "source": [
    "df['title_text'] = df['title_text'].apply(clean_text)\n",
    "df.head()"
   ]
  },
  {
   "cell_type": "code",
   "execution_count": 22,
   "id": "dac2f22d",
   "metadata": {},
   "outputs": [],
   "source": [
    "X= df[['title_text']]\n",
    "y= df[['label']]"
   ]
  },
  {
   "cell_type": "markdown",
   "id": "8691b6a8",
   "metadata": {},
   "source": [
    "Dividindo os dados em treino, validação e teste"
   ]
  },
  {
   "cell_type": "code",
   "execution_count": 20,
   "id": "732e35bf",
   "metadata": {},
   "outputs": [
    {
     "name": "stdout",
     "output_type": "stream",
     "text": [
      "Train data size: 25232\n",
      "Validation data size: 5407\n",
      "Test data size: 5408\n"
     ]
    }
   ],
   "source": [
    "# Dividindo em Treino, teste e validação\n",
    "X_train, X_temp, y_train, y_temp = train_test_split(X, y, test_size=0.3, random_state=42)\n",
    "X_val, X_test, y_val, y_test = train_test_split(X_temp, y_temp, test_size=0.5, random_state=42)\n",
    "\n",
    "# tamanho dos dfs\n",
    "print(\"Train data size:\", len(X_train))\n",
    "print(\"Validation data size:\", len(X_val))\n",
    "print(\"Test data size:\", len(X_test))"
   ]
  },
  {
   "cell_type": "markdown",
   "id": "dd7b3dc7",
   "metadata": {},
   "source": [
    "### Tokenization \n",
    "A tokenização é uma técnica de processamento de texto que envolve a divisão de longas sequências de texto em unidades menores, chamadas de tokens. A tokenização é uma etapa fundamental em tarefas de processamento de linguagem natural, pois permite que as máquinas processem e compreendam dados textuais de maneira mais eficaz. Ela serve como base para diversas tarefas relacionadas à linguagem, como modelagem de linguagem, análise de sentimentos e tradução automática.\n",
    "\n",
    "<p align=center>\n",
    "  <img src=\"https://ambrapaliaidata.blob.core.windows.net/ai-storage/articles/22_8Jmr9FY.png\" height=\"30%\">\n",
    "</p>\n"
   ]
  },
  {
   "cell_type": "markdown",
   "id": "00750213",
   "metadata": {},
   "source": [
    "### Tensorflow\n",
    "O processo de tokennização no tensorflow me parece mais simples pois já temos uma função na qual você pode definir o número máximo de palavras do vocabulário (vocab_size) que você gostaria de utilizar no modelo (isso pode ajudar a melhorar a performance do modelo, mas não utilizar todas as palavras do vocabulário dos dados também pode fazer com que você perca dados) e outras funções que automatizam pequenos processos de tratamento de dados até na aplicação do modelo em si.\n",
    "\n",
    "A função `tokenizer` atribui um numero/indice para cara palavra, além dessa outras funções são aplicadas: `training_sequences` é uma lista de listas, onde cada lista interna contém os índices que representam as palavras nas sequências de texto de treinamento. Essa função deve ser aplicada aos dados porque o computador entende números e não palavras.\n",
    "\n",
    "Com a função `pad_sequences` você garante que todas as sequências de entrada tenham o mesmo comprimento. Isso ocorre porque nossas matrizes precisam ter o mesmo tamanho para que nossa rede funcione. As palavras fora do limite do vocabulario são preenchidas com zeros.\n",
    "\n",
    "Para isso no tensorflow utilizamos 16 linhas de código.\n",
    "\n",
    "Esse modelo do tensorflow é uma cópia de um modelo já feito pelo autor **Carlos Melo Sigmoidal** em seus cursos de machine Learning. Utilizei o modelo dele que já funcionava nesse contexto de dados, reaplicando o modelo dele ao meu conjunto de dados a fim de comparação dos modelos gerados em ambas bibliotecas. \n",
    "\n",
    "A partir desse modelo, desenvolvi um modelo similar no Pytorch."
   ]
  },
  {
   "cell_type": "markdown",
   "id": "309fff6f",
   "metadata": {},
   "source": [
    "vocab_size = 10000\n",
    "trunc_type = \"post\"\n",
    "pad_type = \"post\"\n",
    "oov_tok = \"<OOV>\"\n",
    "tokenizer = Tokenizer(num_words = vocab_size, oov_token=oov_tok)\n",
    "tokenizer.fit_on_texts(train.title_text)\n",
    "word_index = tokenizer.word_index\n",
    "\n",
    "Aplicando técnicas tokenizing e padding\n",
    "training_sequences = tokenizer.texts_to_sequences(np.array(train.title_text))\n",
    "training_padded = pad_sequences(training_sequences,truncating=trunc_type, padding=pad_type)\n",
    "\n",
    "max_length = len(training_padded[0])\n",
    "\n",
    "validation_sequences = tokenizer.texts_to_sequences(np.array(validation.title_text))\n",
    "validation_padded = pad_sequences(validation_sequences, padding=pad_type, truncating=trunc_type, maxlen = max_length)\n",
    "\n",
    "Criando arrays com inputs - tensors\n",
    "x_train = np.copy(training_padded)\n",
    "x_val = np.copy(validation_padded)\n",
    "y_train = train['label'].values\n",
    "y_val = validation['label'].values"
   ]
  },
  {
   "cell_type": "markdown",
   "id": "73beb042",
   "metadata": {},
   "source": [
    "### Pytorch\n",
    "No Pytorch já não temos as funções acima citadas como as que que tem o papel de definir o tamanho máximo do vocabulario para a tokenização,ou que define as sequencias(training_sequences) e transforma essa sequencia com padding(training_padded).\n",
    "Por isso vamos criar essas funções do zero para usarmos no código.\n",
    "Para construir funções similares as descritas no tensorflow (16 linhas de código) , utilizamos 49 linhas de código no Pytorch"
   ]
  },
  {
   "cell_type": "code",
   "execution_count": null,
   "id": "3f47e9ed",
   "metadata": {},
   "outputs": [],
   "source": [
    "# Função para converter sequências de tokens em índices\n",
    "def generate_indices(sequences, word_to_idx):\n",
    "    return [[word_to_idx.get(token, word_to_idx[oov_tok]) for token in sequence] for sequence in sequences]\n",
    "\n",
    "# Converta as sequências de índices em tensores PyTorch e faça o padding\n",
    "def sequences_to_tensors(sequences):\n",
    "    tensor_sequences = [torch.tensor(sequence) for sequence in sequences]\n",
    "    padded_sequences = pad_sequence(tensor_sequences, batch_first=True, padding_value=0)\n",
    "    return padded_sequences\n",
    "\n",
    "def build_vocab(sequences, vocab_size, oov_token):\n",
    "    word_to_idx = {\"<PAD>\": 0, oov_token: 1}  # Inclua tokens especiais\n",
    "    idx = 2  # Índice para as próximas palavras\n",
    "    word_count = {}  # Contador de palavras\n",
    "\n",
    "    for sequence in sequences:\n",
    "        for token in sequence:\n",
    "            if token not in word_count:\n",
    "                word_count[token] = 1\n",
    "            else:\n",
    "                word_count[token] += 1\n",
    "\n",
    "    # Ordene as palavras pelo contador (em ordem decrescente) e adicione ao vocabulário\n",
    "    sorted_words = sorted(word_count.keys(), key=lambda x: word_count[x], reverse=True)\n",
    "\n",
    "    for word in sorted_words[:vocab_size - 2]:  # Reserve espaço para <PAD> e <OOV>\n",
    "        word_to_idx[word] = idx\n",
    "        idx += 1\n",
    "\n",
    "    return word_to_idx"
   ]
  },
  {
   "cell_type": "code",
   "execution_count": 21,
   "id": "480794f3",
   "metadata": {},
   "outputs": [],
   "source": [
    "# Defina o tamanho máximo do vocabulário (vocab_size)\n",
    "vocab_size = 10000\n",
    "oov_tok = \"<OOV>\"\n",
    "\n",
    "# Crie o tokenizer\n",
    "tokenizer = get_tokenizer('basic_english')\n",
    "\n",
    "# Tokenize seus dados de treinamento, validação e teste\n",
    "train_sequences = [tokenizer(sample) for sample in X_train['title_text']]\n",
    "validation_sequences = [tokenizer(sample) for sample in X_val['title_text']]\n",
    "test_sequences = [tokenizer(sample) for sample in X_test['title_text']]\n",
    "\n",
    "# Construa o vocabulário com o tamanho máximo desejado\n",
    "word_to_idx = build_vocab(train_sequences, vocab_size, oov_tok)\n",
    "\n",
    "# Converta as sequências de tokens em índices\n",
    "train_indices = generate_indices(train_sequences, word_to_idx)\n",
    "validation_indices = generate_indices(validation_sequences, word_to_idx)\n",
    "test_indices = generate_indices(test_sequences, word_to_idx)\n",
    "\n",
    "# Converta as sequências de índices em tensores PyTorch e faça o padding\n",
    "train_padded = sequences_to_tensors(train_indices)\n",
    "validation_padded = sequences_to_tensors(validation_indices)\n",
    "test_padded = sequences_to_tensors(test_indices)\n",
    "\n",
    "# Converta os rótulos alvo para tensores PyTorch\n",
    "y_train = torch.tensor(y_train['label'].values)\n",
    "y_val = torch.tensor(y_val['label'].values)\n",
    "y_test = torch.tensor(y_test['label'].values)\n",
    "\n",
    "x_train_tensor = torch.tensor(train_padded, dtype=torch.long)\n",
    "y_train_tensor = torch.tensor(y_train, dtype=torch.float32)  \n",
    "\n",
    "x_val_tensor = torch.tensor(validation_padded, dtype=torch.long)\n",
    "y_val_tensor = torch.tensor(y_val, dtype=torch.float32) \n",
    "\n",
    "batch_size = 32  # Defina o tamanho do lote desejado\n",
    "\n",
    "train_dataset = TensorDataset(x_train_tensor, y_train_tensor)\n",
    "train_loader = DataLoader(train_dataset, batch_size=batch_size, shuffle=True,  num_workers=4)\n",
    "\n",
    "val_dataset = TensorDataset(x_val_tensor, y_val_tensor)\n",
    "val_loader = DataLoader(val_dataset, batch_size=batch_size, shuffle=True,  num_workers=4)\n"
   ]
  },
  {
   "cell_type": "markdown",
   "id": "1198a759",
   "metadata": {},
   "source": [
    "## Preparando, Instanciando, e treinando o Modelo\n",
    "Agora que nossos dados estão preparados, vamos aos modelos."
   ]
  },
  {
   "cell_type": "markdown",
   "id": "14051c6e",
   "metadata": {},
   "source": [
    "### Tensorflow\n",
    "\n",
    "O tensorflow é mais 'pronto pra uso'. Temos APIs e funções mais automatizadas para aplicação do modelo.\n",
    "\n",
    "Explicações do modelo do tensorflow:\n",
    "- **tf.keras.Sequential:** cria uma camada sequencial pra rede neural onde saída de uma camada é a entrada para a próxima.\n",
    "- **tf.keras.layers.Embedding:** Ela converte os índices inteiros das palavras em vetores densos. vocab_size é o tamanho do vocabulário, 155 é a dimensão dos vetores de incorporação e input_length é o comprimento máximo das sequências de entrada.\n",
    "- **tf.keras.layers.Conv1D:** Esta é uma camada de convolução 1D que é usada para aprender representações de características a partir dos dados de entrada. Ela tem 16 filtros de tamanho 5 e usa a função de ativação 'relu'.\n",
    "- **tf.keras.layers.GlobalMaxPooling1D():**  Essa camada executa o max-pooling global sobre a saída da camada de convolução. Isso significa que ele pega o valor máximo de cada filtro em toda a sequência.\n",
    "- **tf.keras.layers.Dense:** Essa camada é comumente usada em tarefas de classificação binária (por isso o isso da função de ativação sigmoide), onde você deseja obter uma probabilidade.\n",
    "- **model.compile:** Este código configura um modelo de rede neural para treinamento. Ele define a função de perda como 'binary_crossentropy' para problemas de classificação binária, usa o otimizador Adam com uma taxa de aprendizado de 0.001 para ajustar os pesos do modelo e acompanha a métrica de precisão durante o treinamento para avaliar o desempenho do modelo.\n",
    "- **model.fit:** Este código realiza o treinamento do modelo neural. Ele ajusta o modelo aos dados de treinamento (x_train e y_train) por 3 épocas, registrando informações verbosas de treinamento com verbose=2. Além disso, usa dados de validação (x_val e y_val) para avaliação durante o treinamento\n",
    "\n",
    "Em 10 linhas de  código conseguimos fazer todas  essas etapas"
   ]
  },
  {
   "cell_type": "raw",
   "id": "31493d76",
   "metadata": {},
   "source": [
    "#instanciando e dando fit no modelo\n",
    "model = tf.keras.Sequential([\n",
    "        tf.keras.layers.Embedding(vocab_size, (155), input_length=max_length),\n",
    "        tf.keras.layers.Conv1D(16, 5, activation='relu'),\n",
    "        tf.keras.layers.GlobalMaxPooling1D(),\n",
    "        tf.keras.layers.Dense(1, activation='sigmoid')\n",
    "        ])\n",
    "\n",
    "model.compile(loss='binary_crossentropy',\n",
    "                      optimizer=tf.keras.optimizers.Adam(learning_rate = 0.001),\n",
    "                      metrics=['accuracy'])\n",
    "history = model.fit(x_train, y_train, verbose = 2, epochs = 3, validation_data = (x_val, y_val),\n",
    "                   callbacks=[tf.keras.callbacks.EarlyStopping('val_loss', patience=6)])"
   ]
  },
  {
   "cell_type": "markdown",
   "id": "313b46b8",
   "metadata": {},
   "source": [
    "<p align=center>\n",
    "  <img src=\"https://github.com/carmenscar/photos-for-notebooks/blob/main/acc_loss_tensor.png?raw=true\" height=\"30%\">\n",
    "</p>\n",
    "\n",
    "Veja a acurácia e a perda [aqui](https://github.com/carmenscar/photos-for-notebooks/blob/main/acc_loss_tensor.png?raw=true)"
   ]
  },
  {
   "cell_type": "markdown",
   "id": "e1abb3dd",
   "metadata": {},
   "source": [
    "### Pytorch\n",
    "Temos uma programação mais orientada a objeto no Pytorch. Assim precisamos definir as funções.\n",
    "Para utilizarmos um modelo similar ao utilizado no tensorflow, utilizamos a mesma estrutura de rede com os mesmos: número de camadas, tipo de camadas, tamanho do vocabulario, tamanho das dimensões de embedding, funções de ativação, tamanho do learning rate, dentre outros.\n",
    "\n",
    "Para construir esse código utilizamos aproximadamente 69 linhas de codigo."
   ]
  },
  {
   "cell_type": "code",
   "execution_count": 28,
   "id": "8b490d7e",
   "metadata": {},
   "outputs": [],
   "source": [
    "class CustomModel(nn.Module):\n",
    "    def __init__(self, vocab_size, embedding_dim, max_length):\n",
    "        super(CustomModel, self).__init__()        \n",
    "        # Camada de embedding\n",
    "        self.embedding = nn.Embedding(vocab_size, embedding_dim, padding_idx=0)\n",
    "        # Camada 1D Convolutional Layer com função de ativação 'relu'\n",
    "        self.conv1d = nn.Sequential(nn.Conv1d(embedding_dim, 16, kernel_size=5),\n",
    "                                    nn.ReLU())  \n",
    "        # Camada Global Max Pooling \n",
    "        self.global_maxpooling = nn.AdaptiveMaxPool1d(1)\n",
    "        # Camada com função de ativação 'sigmoid' \n",
    "        self.dense = nn.Sequential(nn.Linear(16, 1),\n",
    "                                   nn.Sigmoid()) \n",
    "    \n",
    "    def forward(self, x):\n",
    "        # Embedding \n",
    "        x = self.embedding(x)\n",
    "        # Transpondo dimensões para aplicação na camada convolucional\n",
    "        x = x.permute(0, 2, 1)\n",
    "        # 1D Convolutional - 'relu'\n",
    "        x = self.conv1d(x)\n",
    "        # Global max pooling\n",
    "        x = self.global_maxpooling(x)\n",
    "        # 'sigmoid' \n",
    "        x = self.dense(x.squeeze(2))\n",
    "        \n",
    "        return x"
   ]
  },
  {
   "cell_type": "code",
   "execution_count": 24,
   "id": "bd4dc740",
   "metadata": {},
   "outputs": [],
   "source": [
    "# Define o modelo\n",
    "vocab_size = 10000  \n",
    "embedding_dim = 155  \n",
    "max_length = train_padded.shape[1]   \n",
    "model = CustomModel(vocab_size, embedding_dim, max_length)\n",
    "\n",
    "# Define uma função de perda e otimizador\n",
    "criterion = nn.BCELoss() \n",
    "optimizer = optim.Adam(model.parameters(), lr=0.001)  \n"
   ]
  },
  {
   "cell_type": "code",
   "execution_count": 25,
   "id": "3f01f30c",
   "metadata": {},
   "outputs": [
    {
     "name": "stdout",
     "output_type": "stream",
     "text": [
      "Epoch 1/3,\n",
      "Training Loss: 0.2211,\n",
      "Training accuracy: 90.70%,\n",
      "Validation Loss: 0.1198,\n",
      "Validation acurracy: 95.47%\n",
      "Epoch 2/3,\n",
      "Training Loss: 0.0932,\n",
      "Training accuracy: 96.67%,\n",
      "Validation Loss: 0.0961,\n",
      "Validation acurracy: 96.15%\n",
      "Epoch 3/3,\n",
      "Training Loss: 0.0506,\n",
      "Training accuracy: 98.48%,\n",
      "Validation Loss: 0.0879,\n",
      "Validation acurracy: 96.41%\n"
     ]
    }
   ],
   "source": [
    "# Listas para armazenar a perda média e a acurácia média em cada época\n",
    "train_loss_history = []\n",
    "val_loss_history = []\n",
    "train_accuracy_history = []\n",
    "val_accuracy_history = []\n",
    "\n",
    "# Treinamento\n",
    "num_epochs = 3  # Número de épocas de treinamento\n",
    "device = torch.device(\"cuda\" if torch.cuda.is_available() else \"cpu\")\n",
    "model.to(device)\n",
    "\n",
    "for epoch in range(num_epochs):\n",
    "    model.train()\n",
    "    total_loss = 0.0\n",
    "    correct_train = 0\n",
    "    total_train = 0\n",
    "    \n",
    "    for batch_inputs, batch_labels in train_loader:\n",
    "        batch_inputs, batch_labels = batch_inputs.to(device), batch_labels.to(device)\n",
    "        \n",
    "        # Zere os gradientes\n",
    "        optimizer.zero_grad()\n",
    "        # Passe os dados pelo modelo\n",
    "        outputs = model(batch_inputs)\n",
    "        # Redimensione os rótulos para ter o mesmo formato que as saídas do modelo\n",
    "        batch_labels = batch_labels.view(-1, 1)\n",
    "        # Calcule a perda\n",
    "        loss = criterion(outputs, batch_labels)\n",
    "        # Calcule a acurácia de treinamento\n",
    "        predictions = (outputs > 0.5).float()\n",
    "        correct_train += (predictions == batch_labels).sum().item()\n",
    "        total_train += batch_labels.size(0)\n",
    "        \n",
    "        # Retropropagação e otimização\n",
    "        loss.backward()\n",
    "        optimizer.step()\n",
    "        \n",
    "        total_loss += loss.item()\n",
    "    \n",
    "    # Calcule a perda média e a acurácia média de treinamento para a época\n",
    "    average_train_loss = total_loss / len(train_loader)\n",
    "    train_accuracy = correct_train / total_train\n",
    "    \n",
    "    # Validação\n",
    "    model.eval()\n",
    "    total_correct = 0\n",
    "    total_samples = 0\n",
    "    total_val_loss = 0.0\n",
    "    \n",
    "    with torch.no_grad():\n",
    "        for batch_inputs, batch_labels in val_loader:\n",
    "            batch_inputs, batch_labels = batch_inputs.to(device), batch_labels.to(device)\n",
    "            \n",
    "            # Passe os dados pelo modelo\n",
    "            outputs = model(batch_inputs)\n",
    "            \n",
    "            # Redimensione os rótulos para ter o mesmo formato que as saídas do modelo\n",
    "            batch_labels = batch_labels.view(-1, 1)\n",
    "            \n",
    "            # Calcule a perda de validação\n",
    "            val_loss = criterion(outputs, batch_labels)\n",
    "            \n",
    "            # Calcule a acurácia de validação\n",
    "            predictions = (outputs > 0.5).float()\n",
    "            total_correct += (predictions == batch_labels).sum().item()\n",
    "            total_samples += batch_labels.size(0)\n",
    "            total_val_loss += val_loss.item()\n",
    "    \n",
    "    # Calcule a perda média e a acurácia média de validação para a época\n",
    "    average_val_loss = total_val_loss / len(val_loader)\n",
    "    val_accuracy = total_correct / total_samples\n",
    "    \n",
    "    # Armazene os valores em histórico\n",
    "    train_loss_history.append(average_train_loss)\n",
    "    val_loss_history.append(average_val_loss)\n",
    "    train_accuracy_history.append(train_accuracy)\n",
    "    val_accuracy_history.append(val_accuracy)\n",
    "    \n",
    "    print(f\"Epoch {epoch + 1}/{num_epochs},\")\n",
    "    print(f\"Training Loss: {average_train_loss:.4f},\")\n",
    "    print(f\"Training accuracy: {train_accuracy * 100:.2f}%,\")\n",
    "    print(f\"Validation Loss: {average_val_loss:.4f},\")\n",
    "    print(f\"Validation acurracy: {val_accuracy * 100:.2f}%\")\n",
    "\n"
   ]
  },
  {
   "cell_type": "markdown",
   "id": "295906b3",
   "metadata": {},
   "source": [
    "# Analisando as métricas do modelo\n",
    "Como a arquitetura, estrutura e parametros utilizados por ambos modelos (no pytorch e no tensorflow), os resultados de acurácia e perda também são semelhantes como evidenciado nos gráficos abaixo."
   ]
  },
  {
   "cell_type": "markdown",
   "id": "6b4b71f9",
   "metadata": {},
   "source": [
    "### Tensorflow"
   ]
  },
  {
   "cell_type": "markdown",
   "id": "4478b8ba",
   "metadata": {},
   "source": [
    "def plot_graphs(history, string):\n",
    "  plt.plot(history.history[string])\n",
    "  plt.plot(history.history['val_'+string])\n",
    "  plt.xlabel(\"Epochs\")\n",
    "  plt.ylabel(string)\n",
    "  plt.legend([string, 'val_'+string])\n",
    "  plt.show()\n",
    "\n",
    "plot_graphs(history, \"accuracy\")\n",
    "plot_graphs(history, \"loss\")"
   ]
  },
  {
   "cell_type": "markdown",
   "id": "63a24e05",
   "metadata": {},
   "source": [
    "<p align=\"center\">\n",
    "  <img src=\"https://github.com/carmenscar/photos-for-notebooks/blob/main/loss_graphic_tensor.png?raw=true\" >\n",
    "</p>\n",
    "\n",
    "<p align=\"center\">\n",
    "  <img src=\"https://github.com/carmenscar/photos-for-notebooks/blob/main/acc_graphic_tensor.PNG?raw=true\" >\n",
    "</p>\n",
    "\n",
    "Veja aqui a [perda](https://github.com/carmenscar/photos-for-notebooks/blob/main/loss_graphic_tensor.png?raw=true) e [acurácia](https://github.com/carmenscar/photos-for-notebooks/blob/main/acc_graphic_tensor.PNG?raw=true) no nosso modelo do tensorflow"
   ]
  },
  {
   "cell_type": "code",
   "execution_count": 32,
   "id": "4d7f4182",
   "metadata": {},
   "outputs": [
    {
     "data": {
      "image/png": "[encoded data removed]",
      "text/plain": [
       "<Figure size 432x288 with 1 Axes>"
      ]
     },
     "metadata": {
      "needs_background": "light"
     },
     "output_type": "display_data"
    },
    {
     "data": {
      "image/png": "[encoded data removed]",
      "text/plain": [
       "<Figure size 432x288 with 1 Axes>"
      ]
     },
     "metadata": {
      "needs_background": "light"
     },
     "output_type": "display_data"
    }
   ],
   "source": [
    "# Função para plotar gráficos\n",
    "import matplotlib.pyplot as plt\n",
    "\n",
    "def plot_graphs(train_history, val_history, string):\n",
    "    plt.plot(train_history, label='Training')\n",
    "    plt.plot(val_history, label='Validation')\n",
    "    plt.xlabel(\"Epochs\")\n",
    "    plt.ylabel(string)\n",
    "    plt.title('Evaluation Pytorch model')\n",
    "    plt.legend()\n",
    "    plt.show()\n",
    "\n",
    "# Plotar gráficos de perda e acurácia\n",
    "plot_graphs(train_loss_history, val_loss_history, 'Loss')\n",
    "plot_graphs(train_accuracy_history, val_accuracy_history, 'Accuracy')"
   ]
  },
  {
   "cell_type": "markdown",
   "id": "5990ec9c",
   "metadata": {},
   "source": [
    "##  Predict\n",
    "Para a função predict no tensoflow, podemos aplicar o código abaixo"
   ]
  },
  {
   "cell_type": "markdown",
   "id": "a40e4140",
   "metadata": {},
   "source": [
    "### Tensorflow"
   ]
  },
  {
   "cell_type": "markdown",
   "id": "0fe1a87e",
   "metadata": {},
   "source": [
    "test_sequences = tokenizer.texts_to_sequences(np.array(test.title_text))\n",
    "test_padded = pad_sequences(test_sequences, padding=pad_type, truncating=trunc_type, maxlen = max_length)"
   ]
  },
  {
   "cell_type": "markdown",
   "id": "8137a8d0",
   "metadata": {},
   "source": [
    "preds = np.round(model.predict(test_padded))"
   ]
  },
  {
   "cell_type": "markdown",
   "id": "d9948e0b",
   "metadata": {},
   "source": [
    "acc = np.sum(1 if i==j else 0 for i,j in zip(preds, test[\"label\"].values)) / len(test)\n",
    "print(\"Accuracy: \", acc )"
   ]
  },
  {
   "cell_type": "markdown",
   "id": "121dd4b5",
   "metadata": {},
   "source": [
    "### Pytorch\n",
    "Os proximos passos, seria criar a função predict para o tensorflow e medir a acurária do teste set."
   ]
  },
  {
   "cell_type": "markdown",
   "id": "9e28ef42",
   "metadata": {},
   "source": [
    "# Conclusões\n",
    "\n",
    "PyTorch e TensorFlow são frameworks de **Deep Learning** com abordagens diferentes. PyTorch oferece flexibilidade orientada por Python, permitindo que você construa sua própria lógica de treinamento e use DataLoaders personalizados. TensorFlow, por outro lado, fornece APIs de alto nível, como o Keras, automatizando muitos aspectos do treinamento e carregamento de dados.\n",
    "\n",
    "A escolha entre PyTorch e TensorFlow depende das preferências e requisitos do projeto. Ambos são capazes de realizar tarefas semelhantes, mas oferecem diferentes níveis de controle. Portanto, as funções são semelhantes em ambos os modelos, mas as implementações podem variar um pouco devido às diferenças entre as bibliotecas.\n",
    "\n",
    "Além disso, o Feature engineering pode ser aplicada para melhorar os modelos. Nesse contexto, observamos que palavras em maiúsculas não parecem ser estatisticamente relevantes para indicar uma maior probabilidade de o texto ser falso. Mas 'body_len' poderia melhorar o desempenho do modelo.\n",
    "\n",
    "Embora os resultados sejam promissores, investigações adicionais são necessárias para melhorias. No entanto, conseguimos construir uma rede neural simples, com resultados semelhantes entre PyTorch e TensorFlow."
   ]
  },
  {
   "cell_type": "markdown",
   "id": "95a96969",
   "metadata": {},
   "source": [
    "## Autor: Carmen Scartezini"
   ]
  }
 ],
 "metadata": {
  "kernelspec": {
   "display_name": "Python 3 (ipykernel)",
   "language": "python",
   "name": "python3"
  },
  "language_info": {
   "codemirror_mode": {
    "name": "ipython",
    "version": 3
   },
   "file_extension": ".py",
   "mimetype": "text/x-python",
   "name": "python",
   "nbconvert_exporter": "python",
   "pygments_lexer": "ipython3",
   "version": "3.9.7"
  }
 },
 "nbformat": 4,
 "nbformat_minor": 5
}
